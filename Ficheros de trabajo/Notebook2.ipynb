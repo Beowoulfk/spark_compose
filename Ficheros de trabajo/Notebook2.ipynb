{
 "cells": [
  {
   "cell_type": "markdown",
   "metadata": {},
   "source": [
    "# Notebook de prueba"
   ]
  },
  {
   "cell_type": "code",
   "execution_count": 1,
   "metadata": {
    "collapsed": false,
    "jupyter": {
     "outputs_hidden": false
    }
   },
   "outputs": [
    {
     "name": "stderr",
     "output_type": "stream",
     "text": [
      "Using Spark's default log4j profile: org/apache/spark/log4j-defaults.properties\n",
      "Setting default log level to \"WARN\".\n",
      "To adjust logging level use sc.setLogLevel(newLevel). For SparkR, use setLogLevel(newLevel).\n",
      "21/12/18 20:18:51 WARN NativeCodeLoader: Unable to load native-hadoop library for your platform... using builtin-java classes where applicable\n",
      "/usr/local/lib/python3.8/dist-packages/pyspark/sql/context.py:77: FutureWarning: Deprecated in 3.0.0. Use SparkSession.builder.getOrCreate() instead.\n",
      "  warnings.warn(\n"
     ]
    }
   ],
   "source": [
    "#Creamos la sesión de spark en este caso una SQL SPark\n",
    "from pyspark import SparkContext\n",
    "sc = SparkContext()\n",
    "from pyspark.sql import SQLContext\n",
    "sqlContext=SQLContext(sc)"
   ]
  },
  {
   "cell_type": "code",
   "execution_count": 2,
   "metadata": {
    "collapsed": false,
    "jupyter": {
     "outputs_hidden": false
    }
   },
   "outputs": [
    {
     "data": {
      "text/plain": [
       "<pyspark.sql.context.SQLContext at 0x7f0cd842d580>"
      ]
     },
     "execution_count": 2,
     "metadata": {},
     "output_type": "execute_result"
    }
   ],
   "source": [
    "#verificamos nuestra sesion de spark\n",
    "sqlContext"
   ]
  },
  {
   "cell_type": "code",
   "execution_count": 3,
   "metadata": {
    "collapsed": false,
    "jupyter": {
     "outputs_hidden": false
    }
   },
   "outputs": [
    {
     "name": "stdout",
     "output_type": "stream",
     "text": [
      "copyFromLocal: `audi.csv': File exists\n"
     ]
    }
   ],
   "source": [
    "#en caso de querer copiar el dataset del local al hdfs\n",
    "!hadoop fs -copyFromLocal /home/cloudera/audi.csv"
   ]
  },
  {
   "cell_type": "code",
   "execution_count": 3,
   "metadata": {
    "tags": []
   },
   "outputs": [],
   "source": [
    "#hacemos la lectura de nuestro dataset\n",
    "bd5 = sqlContext.read.format(\n",
    "    \"com.databricks.spark.csv\"\n",
    ").option(\"header\", \"true\").load(\"audi.csv\", inferSchema=True)\n"
   ]
  },
  {
   "cell_type": "markdown",
   "metadata": {},
   "source": [
    "## Inspección inicial"
   ]
  },
  {
   "cell_type": "code",
   "execution_count": null,
   "metadata": {
    "collapsed": false,
    "jupyter": {
     "outputs_hidden": false
    }
   },
   "outputs": [
    {
     "name": "stdout",
     "output_type": "stream",
     "text": [
      "+-----+----+-----+------------+-------+--------+---+----+----------+\n",
      "|model|year|price|transmission|mileage|fuelType|tax| mpg|engineSize|\n",
      "+-----+----+-----+------------+-------+--------+---+----+----------+\n",
      "|   A1|2017|12500|      Manual|  15735|  Petrol|150|55.4|       1.4|\n",
      "|   A6|2016|16500|   Automatic|  36203|  Diesel| 20|64.2|       2.0|\n",
      "|   A1|2016|11000|      Manual|  29946|  Petrol| 30|55.4|       1.4|\n",
      "|   A4|2017|16800|   Automatic|  25952|  Diesel|145|67.3|       2.0|\n",
      "|   A3|2019|17300|      Manual|   1998|  Petrol|145|49.6|       1.0|\n",
      "|   A1|2016|13900|   Automatic|  32260|  Petrol| 30|58.9|       1.4|\n",
      "|   A6|2016|13250|   Automatic|  76788|  Diesel| 30|61.4|       2.0|\n",
      "|   A4|2016|11750|      Manual|  75185|  Diesel| 20|70.6|       2.0|\n",
      "|   A3|2015|10200|      Manual|  46112|  Petrol| 20|60.1|       1.4|\n",
      "|   A1|2016|12000|      Manual|  22451|  Petrol| 30|55.4|       1.4|\n",
      "|   A3|2017|16100|      Manual|  28955|  Petrol|145|58.9|       1.4|\n",
      "|   A6|2016|16500|   Automatic|  52198|  Diesel|125|57.6|       2.0|\n",
      "|   Q3|2016|17000|      Manual|  44915|  Diesel|145|52.3|       2.0|\n",
      "|   A3|2017|16400|      Manual|  21695|  Petrol| 30|58.9|       1.4|\n",
      "|   A6|2015|15400|      Manual|  47348|  Diesel| 30|61.4|       2.0|\n",
      "|   A3|2017|14500|   Automatic|  26156|  Petrol|145|58.9|       1.4|\n",
      "|   Q3|2016|15700|   Automatic|  28396|  Diesel|145|53.3|       2.0|\n",
      "|   A3|2014|13900|   Automatic|  30516|  Petrol| 30|56.5|       1.4|\n",
      "|   Q5|2016|19000|   Automatic|  37652|  Diesel|200|47.1|       2.0|\n",
      "|   Q3|2014|17000|      Manual|  34110|  Petrol|145|47.9|       1.4|\n",
      "+-----+----+-----+------------+-------+--------+---+----+----------+\n",
      "only showing top 20 rows\n",
      "\n"
     ]
    }
   ],
   "source": [
    "bd5.show()"
   ]
  },
  {
   "cell_type": "code",
   "execution_count": 11,
   "metadata": {
    "tags": []
   },
   "outputs": [
    {
     "data": {
      "text/plain": [
       "[('model', 'string'),\n",
       " ('year', 'int'),\n",
       " ('price', 'int'),\n",
       " ('transmission', 'string'),\n",
       " ('mileage', 'int'),\n",
       " ('fuelType', 'string'),\n",
       " ('tax', 'int'),\n",
       " ('mpg', 'double'),\n",
       " ('engineSize', 'double')]"
      ]
     },
     "execution_count": 11,
     "metadata": {},
     "output_type": "execute_result"
    }
   ],
   "source": [
    "# Revisamos los typos del dataset\n",
    "bd5.dtypes"
   ]
  },
  {
   "cell_type": "code",
   "execution_count": null,
   "metadata": {
    "collapsed": false,
    "jupyter": {
     "outputs_hidden": false
    }
   },
   "outputs": [],
   "source": [
    "# revisamos los primeros registros del dataset\n",
    "bd5.head()"
   ]
  },
  {
   "cell_type": "code",
   "execution_count": null,
   "metadata": {
    "collapsed": false,
    "jupyter": {
     "outputs_hidden": false
    }
   },
   "outputs": [],
   "source": [
    "#revisamos los estadisticos de price\n",
    "bd5.describe('price').show()"
   ]
  },
  {
   "cell_type": "code",
   "execution_count": 14,
   "metadata": {
    "collapsed": false,
    "jupyter": {
     "outputs_hidden": false
    }
   },
   "outputs": [
    {
     "data": {
      "text/plain": [
       "10668"
      ]
     },
     "execution_count": 14,
     "metadata": {},
     "output_type": "execute_result"
    }
   ],
   "source": [
    "#contamos la cantidad de registros\n",
    "bd5.count()"
   ]
  },
  {
   "cell_type": "code",
   "execution_count": null,
   "metadata": {
    "collapsed": false,
    "jupyter": {
     "outputs_hidden": false
    }
   },
   "outputs": [],
   "source": [
    "#Revisamos los na\n",
    "bd5.dropna().count()\n",
    "# En este caso no existem datos faltantes"
   ]
  },
  {
   "cell_type": "code",
   "execution_count": null,
   "metadata": {
    "collapsed": false,
    "jupyter": {
     "outputs_hidden": false
    }
   },
   "outputs": [],
   "source": [
    "bd5.select('model','price').groupBy('model').mean().show()"
   ]
  },
  {
   "cell_type": "code",
   "execution_count": 17,
   "metadata": {
    "collapsed": false,
    "jupyter": {
     "outputs_hidden": false
    }
   },
   "outputs": [
    {
     "data": {
      "text/plain": [
       "57"
      ]
     },
     "execution_count": 17,
     "metadata": {},
     "output_type": "execute_result"
    }
   ],
   "source": [
    "#Revisamos que engineSize es menor a 1\n",
    "bd5.filter(bd5.engineSize < 1.0).count()"
   ]
  },
  {
   "cell_type": "code",
   "execution_count": null,
   "metadata": {
    "collapsed": false,
    "jupyter": {
     "outputs_hidden": false
    }
   },
   "outputs": [],
   "source": [
    "#REvisemos cual es el mimino engineSize\n",
    "bd5.describe('engineSize').show()"
   ]
  },
  {
   "cell_type": "markdown",
   "metadata": {},
   "source": [
    "### Hacemos una inspección con SQL"
   ]
  },
  {
   "cell_type": "code",
   "execution_count": 19,
   "metadata": {
    "tags": []
   },
   "outputs": [],
   "source": [
    "# Registramos el dataFrame como Tabla\n",
    "sqlContext.registerDataFrameAsTable(bd5, \"bd5\")"
   ]
  },
  {
   "cell_type": "code",
   "execution_count": 20,
   "metadata": {
    "collapsed": false,
    "jupyter": {
     "outputs_hidden": false
    }
   },
   "outputs": [
    {
     "name": "stdout",
     "output_type": "stream",
     "text": [
      "+-----+---------------+\n",
      "|model|cantidad_carros|\n",
      "+-----+---------------+\n",
      "|   A3|           1929|\n",
      "|   Q3|           1417|\n",
      "|   A4|           1381|\n",
      "|   A1|           1347|\n",
      "|   A5|            882|\n",
      "|   Q5|            877|\n",
      "|   Q2|            822|\n",
      "|   A6|            748|\n",
      "|   Q7|            397|\n",
      "|   TT|            336|\n",
      "|   A7|            122|\n",
      "|   A8|            118|\n",
      "|   Q8|             69|\n",
      "|  RS6|             39|\n",
      "|  RS3|             33|\n",
      "|  RS4|             31|\n",
      "|  RS5|             29|\n",
      "|   R8|             28|\n",
      "|   S3|             18|\n",
      "|  SQ5|             16|\n",
      "+-----+---------------+\n",
      "only showing top 20 rows\n",
      "\n"
     ]
    }
   ],
   "source": [
    "#Hacemos nuestra consulta sql\n",
    "sqlContext.sql(\"select model, count(*) as cantidad_carros \\\n",
    "                from bd5 \\\n",
    "                group by model \\\n",
    "                order by cantidad_carros desc\").show()"
   ]
  },
  {
   "cell_type": "code",
   "execution_count": 26,
   "metadata": {
    "collapsed": false,
    "jupyter": {
     "outputs_hidden": false
    }
   },
   "outputs": [
    {
     "name": "stdout",
     "output_type": "stream",
     "text": [
      "+-----+----+-----+\n",
      "|model|   n|    p|\n",
      "+-----+----+-----+\n",
      "|   A7| 122| 1.14|\n",
      "|  SQ7|   8| 0.07|\n",
      "|   A4|1381|12.95|\n",
      "|  RS3|  33| 0.31|\n",
      "|   S3|  18| 0.17|\n",
      "|  RS5|  29| 0.27|\n",
      "|  RS6|  39| 0.37|\n",
      "|  SQ5|  16| 0.15|\n",
      "|   S4|  12| 0.11|\n",
      "|   Q8|  69| 0.65|\n",
      "|  RS4|  31| 0.29|\n",
      "|   A1|1347|12.63|\n",
      "|   A3|1929|18.08|\n",
      "|   Q2| 822| 7.71|\n",
      "|  RS7|   1| 0.01|\n",
      "|   Q7| 397| 3.72|\n",
      "|   Q3|1417|13.28|\n",
      "|   R8|  28| 0.26|\n",
      "|   S5|   3| 0.03|\n",
      "|   Q5| 877| 8.22|\n",
      "+-----+----+-----+\n",
      "only showing top 20 rows\n",
      "\n"
     ]
    }
   ],
   "source": [
    "#Podemos realizar nuestra tabla de frecuencias a traves de sQl\n",
    "sqlContext.sql(\"select model, count(*) as n , round(  100*count(*)/10668  ,2) as p \\\n",
    "                from bd5 \\\n",
    "                group by model \").show()"
   ]
  },
  {
   "cell_type": "code",
   "execution_count": 34,
   "metadata": {},
   "outputs": [
    {
     "name": "stdout",
     "output_type": "stream",
     "text": [
      "Requirement already satisfied: matplotlib in /usr/local/lib/python3.8/dist-packages (3.5.1)\n",
      "Requirement already satisfied: fonttools>=4.22.0 in /usr/local/lib/python3.8/dist-packages (from matplotlib) (4.28.4)\n",
      "Requirement already satisfied: packaging>=20.0 in /usr/local/lib/python3.8/dist-packages (from matplotlib) (21.3)\n",
      "Requirement already satisfied: pyparsing>=2.2.1 in /usr/local/lib/python3.8/dist-packages (from matplotlib) (3.0.6)\n",
      "Requirement already satisfied: pillow>=6.2.0 in /usr/local/lib/python3.8/dist-packages (from matplotlib) (8.4.0)\n",
      "Requirement already satisfied: cycler>=0.10 in /usr/local/lib/python3.8/dist-packages (from matplotlib) (0.11.0)\n",
      "Requirement already satisfied: python-dateutil>=2.7 in /usr/local/lib/python3.8/dist-packages (from matplotlib) (2.8.2)\n",
      "Requirement already satisfied: kiwisolver>=1.0.1 in /usr/local/lib/python3.8/dist-packages (from matplotlib) (1.3.2)\n",
      "Requirement already satisfied: numpy>=1.17 in /usr/local/lib/python3.8/dist-packages (from matplotlib) (1.21.4)\n",
      "Requirement already satisfied: six>=1.5 in /usr/local/lib/python3.8/dist-packages (from python-dateutil>=2.7->matplotlib) (1.16.0)\n",
      "Collecting pandas\n",
      "  Downloading pandas-1.3.5-cp38-cp38-manylinux_2_17_x86_64.manylinux2014_x86_64.whl (11.5 MB)\n",
      "\u001b[K     |████████████████████████████████| 11.5 MB 2.4 MB/s eta 0:00:01    |███████████████████████████▋    | 9.9 MB 2.4 MB/s eta 0:00:01     |██████████████████████████████  | 10.8 MB 2.4 MB/s eta 0:00:01\n",
      "\u001b[?25hRequirement already satisfied: pytz>=2017.3 in /usr/local/lib/python3.8/dist-packages (from pandas) (2021.3)\n",
      "Requirement already satisfied: python-dateutil>=2.7.3 in /usr/local/lib/python3.8/dist-packages (from pandas) (2.8.2)\n",
      "Requirement already satisfied: numpy>=1.17.3; platform_machine != \"aarch64\" and platform_machine != \"arm64\" and python_version < \"3.10\" in /usr/local/lib/python3.8/dist-packages (from pandas) (1.21.4)\n",
      "Requirement already satisfied: six>=1.5 in /usr/local/lib/python3.8/dist-packages (from python-dateutil>=2.7.3->pandas) (1.16.0)\n",
      "Installing collected packages: pandas\n",
      "Successfully installed pandas-1.3.5\n",
      "Collecting seaborn\n",
      "  Downloading seaborn-0.11.2-py3-none-any.whl (292 kB)\n",
      "\u001b[K     |████████████████████████████████| 292 kB 3.4 MB/s eta 0:00:01\n",
      "\u001b[?25hCollecting scipy>=1.0\n",
      "  Downloading scipy-1.7.3-cp38-cp38-manylinux_2_17_x86_64.manylinux2014_x86_64.whl (39.3 MB)\n",
      "\u001b[K     |████████████████████████████████| 39.3 MB 17.6 MB/s eta 0:00:01     |████████████▍                   | 15.2 MB 16.2 MB/s eta 0:00:02\n",
      "\u001b[?25hRequirement already satisfied: numpy>=1.15 in /usr/local/lib/python3.8/dist-packages (from seaborn) (1.21.4)\n",
      "Requirement already satisfied: matplotlib>=2.2 in /usr/local/lib/python3.8/dist-packages (from seaborn) (3.5.1)\n",
      "Requirement already satisfied: pandas>=0.23 in /usr/local/lib/python3.8/dist-packages (from seaborn) (1.3.5)\n",
      "Requirement already satisfied: python-dateutil>=2.7 in /usr/local/lib/python3.8/dist-packages (from matplotlib>=2.2->seaborn) (2.8.2)\n",
      "Requirement already satisfied: packaging>=20.0 in /usr/local/lib/python3.8/dist-packages (from matplotlib>=2.2->seaborn) (21.3)\n",
      "Requirement already satisfied: pyparsing>=2.2.1 in /usr/local/lib/python3.8/dist-packages (from matplotlib>=2.2->seaborn) (3.0.6)\n",
      "Requirement already satisfied: cycler>=0.10 in /usr/local/lib/python3.8/dist-packages (from matplotlib>=2.2->seaborn) (0.11.0)\n",
      "Requirement already satisfied: kiwisolver>=1.0.1 in /usr/local/lib/python3.8/dist-packages (from matplotlib>=2.2->seaborn) (1.3.2)\n",
      "Requirement already satisfied: fonttools>=4.22.0 in /usr/local/lib/python3.8/dist-packages (from matplotlib>=2.2->seaborn) (4.28.4)\n",
      "Requirement already satisfied: pillow>=6.2.0 in /usr/local/lib/python3.8/dist-packages (from matplotlib>=2.2->seaborn) (8.4.0)\n",
      "Requirement already satisfied: pytz>=2017.3 in /usr/local/lib/python3.8/dist-packages (from pandas>=0.23->seaborn) (2021.3)\n",
      "Requirement already satisfied: six>=1.5 in /usr/local/lib/python3.8/dist-packages (from python-dateutil>=2.7->matplotlib>=2.2->seaborn) (1.16.0)\n",
      "Installing collected packages: scipy, seaborn\n",
      "Successfully installed scipy-1.7.3 seaborn-0.11.2\n"
     ]
    }
   ],
   "source": [
    "!pip install matplotlib &&\\\n",
    "pip install pandas  && \\\n",
    "pip install seaborn\n"
   ]
  },
  {
   "cell_type": "code",
   "execution_count": 35,
   "metadata": {
    "tags": []
   },
   "outputs": [],
   "source": [
    "import matplotlib.pyplot as plt\n",
    "%matplotlib inline\n"
   ]
  },
  {
   "cell_type": "code",
   "execution_count": 36,
   "metadata": {
    "collapsed": false,
    "jupyter": {
     "outputs_hidden": false
    }
   },
   "outputs": [
    {
     "data": {
      "text/html": [
       "<div>\n",
       "<style scoped>\n",
       "    .dataframe tbody tr th:only-of-type {\n",
       "        vertical-align: middle;\n",
       "    }\n",
       "\n",
       "    .dataframe tbody tr th {\n",
       "        vertical-align: top;\n",
       "    }\n",
       "\n",
       "    .dataframe thead th {\n",
       "        text-align: right;\n",
       "    }\n",
       "</style>\n",
       "<table border=\"1\" class=\"dataframe\">\n",
       "  <thead>\n",
       "    <tr style=\"text-align: right;\">\n",
       "      <th></th>\n",
       "      <th>model</th>\n",
       "      <th>numbers</th>\n",
       "    </tr>\n",
       "  </thead>\n",
       "  <tbody>\n",
       "    <tr>\n",
       "      <th>0</th>\n",
       "      <td>A7</td>\n",
       "      <td>122</td>\n",
       "    </tr>\n",
       "    <tr>\n",
       "      <th>1</th>\n",
       "      <td>SQ7</td>\n",
       "      <td>8</td>\n",
       "    </tr>\n",
       "    <tr>\n",
       "      <th>2</th>\n",
       "      <td>A4</td>\n",
       "      <td>1381</td>\n",
       "    </tr>\n",
       "    <tr>\n",
       "      <th>3</th>\n",
       "      <td>RS3</td>\n",
       "      <td>33</td>\n",
       "    </tr>\n",
       "    <tr>\n",
       "      <th>4</th>\n",
       "      <td>S3</td>\n",
       "      <td>18</td>\n",
       "    </tr>\n",
       "    <tr>\n",
       "      <th>5</th>\n",
       "      <td>RS5</td>\n",
       "      <td>29</td>\n",
       "    </tr>\n",
       "    <tr>\n",
       "      <th>6</th>\n",
       "      <td>RS6</td>\n",
       "      <td>39</td>\n",
       "    </tr>\n",
       "    <tr>\n",
       "      <th>7</th>\n",
       "      <td>SQ5</td>\n",
       "      <td>16</td>\n",
       "    </tr>\n",
       "    <tr>\n",
       "      <th>8</th>\n",
       "      <td>S4</td>\n",
       "      <td>12</td>\n",
       "    </tr>\n",
       "    <tr>\n",
       "      <th>9</th>\n",
       "      <td>Q8</td>\n",
       "      <td>69</td>\n",
       "    </tr>\n",
       "    <tr>\n",
       "      <th>10</th>\n",
       "      <td>RS4</td>\n",
       "      <td>31</td>\n",
       "    </tr>\n",
       "    <tr>\n",
       "      <th>11</th>\n",
       "      <td>A1</td>\n",
       "      <td>1347</td>\n",
       "    </tr>\n",
       "    <tr>\n",
       "      <th>12</th>\n",
       "      <td>A3</td>\n",
       "      <td>1929</td>\n",
       "    </tr>\n",
       "    <tr>\n",
       "      <th>13</th>\n",
       "      <td>Q2</td>\n",
       "      <td>822</td>\n",
       "    </tr>\n",
       "    <tr>\n",
       "      <th>14</th>\n",
       "      <td>RS7</td>\n",
       "      <td>1</td>\n",
       "    </tr>\n",
       "    <tr>\n",
       "      <th>15</th>\n",
       "      <td>Q7</td>\n",
       "      <td>397</td>\n",
       "    </tr>\n",
       "    <tr>\n",
       "      <th>16</th>\n",
       "      <td>Q3</td>\n",
       "      <td>1417</td>\n",
       "    </tr>\n",
       "    <tr>\n",
       "      <th>17</th>\n",
       "      <td>R8</td>\n",
       "      <td>28</td>\n",
       "    </tr>\n",
       "    <tr>\n",
       "      <th>18</th>\n",
       "      <td>S5</td>\n",
       "      <td>3</td>\n",
       "    </tr>\n",
       "    <tr>\n",
       "      <th>19</th>\n",
       "      <td>Q5</td>\n",
       "      <td>877</td>\n",
       "    </tr>\n",
       "    <tr>\n",
       "      <th>20</th>\n",
       "      <td>A5</td>\n",
       "      <td>882</td>\n",
       "    </tr>\n",
       "    <tr>\n",
       "      <th>21</th>\n",
       "      <td>A2</td>\n",
       "      <td>1</td>\n",
       "    </tr>\n",
       "    <tr>\n",
       "      <th>22</th>\n",
       "      <td>TT</td>\n",
       "      <td>336</td>\n",
       "    </tr>\n",
       "    <tr>\n",
       "      <th>23</th>\n",
       "      <td>A8</td>\n",
       "      <td>118</td>\n",
       "    </tr>\n",
       "    <tr>\n",
       "      <th>24</th>\n",
       "      <td>A6</td>\n",
       "      <td>748</td>\n",
       "    </tr>\n",
       "    <tr>\n",
       "      <th>25</th>\n",
       "      <td>S8</td>\n",
       "      <td>4</td>\n",
       "    </tr>\n",
       "  </tbody>\n",
       "</table>\n",
       "</div>"
      ],
      "text/plain": [
       "   model  numbers\n",
       "0     A7      122\n",
       "1    SQ7        8\n",
       "2     A4     1381\n",
       "3    RS3       33\n",
       "4     S3       18\n",
       "5    RS5       29\n",
       "6    RS6       39\n",
       "7    SQ5       16\n",
       "8     S4       12\n",
       "9     Q8       69\n",
       "10   RS4       31\n",
       "11    A1     1347\n",
       "12    A3     1929\n",
       "13    Q2      822\n",
       "14   RS7        1\n",
       "15    Q7      397\n",
       "16    Q3     1417\n",
       "17    R8       28\n",
       "18    S5        3\n",
       "19    Q5      877\n",
       "20    A5      882\n",
       "21    A2        1\n",
       "22    TT      336\n",
       "23    A8      118\n",
       "24    A6      748\n",
       "25    S8        4"
      ]
     },
     "execution_count": 36,
     "metadata": {},
     "output_type": "execute_result"
    }
   ],
   "source": [
    "#Vamos a proceder a realizar una representación grafica\n",
    "dato1= sqlContext.sql(\"select model, count(*) as numbers from bd5 group by model\")\n",
    "dato=dato1.toPandas()\n",
    "dato"
   ]
  },
  {
   "cell_type": "code",
   "execution_count": 37,
   "metadata": {
    "collapsed": false,
    "jupyter": {
     "outputs_hidden": false
    }
   },
   "outputs": [
    {
     "data": {
      "text/plain": [
       "<AxesSubplot:xlabel='model'>"
      ]
     },
     "execution_count": 37,
     "metadata": {},
     "output_type": "execute_result"
    },
    {
     "data": {
      "image/png": "[encoded data removed]",
      "text/plain": [
       "<Figure size 432x288 with 1 Axes>"
      ]
     },
     "metadata": {
      "needs_background": "light"
     },
     "output_type": "display_data"
    }
   ],
   "source": [
    "#un grafico de barras o histograma de frecuencias\n",
    "dato.plot(kind='bar',x='model',y='numbers')\n"
   ]
  },
  {
   "cell_type": "code",
   "execution_count": 38,
   "metadata": {
    "collapsed": false,
    "jupyter": {
     "outputs_hidden": false
    }
   },
   "outputs": [
    {
     "data": {
      "text/plain": [
       "<AxesSubplot:ylabel='numbers'>"
      ]
     },
     "execution_count": 38,
     "metadata": {},
     "output_type": "execute_result"
    },
    {
     "data": {
      "image/png": "[encoded data removed]",
      "text/plain": [
       "<Figure size 432x288 with 1 Axes>"
      ]
     },
     "metadata": {},
     "output_type": "display_data"
    }
   ],
   "source": [
    "dato.plot.pie(y='numbers',labels=dato['model'])"
   ]
  },
  {
   "cell_type": "code",
   "execution_count": 39,
   "metadata": {
    "collapsed": false,
    "jupyter": {
     "outputs_hidden": false
    }
   },
   "outputs": [],
   "source": [
    "#Podemos hacer representaciones graficar de varibles cuantitativas\n",
    "pdf2 = bd5.sample(False, 0.1, 0).select('engineSize').toPandas()"
   ]
  },
  {
   "cell_type": "code",
   "execution_count": 40,
   "metadata": {
    "collapsed": false,
    "jupyter": {
     "outputs_hidden": false
    }
   },
   "outputs": [
    {
     "data": {
      "text/plain": [
       "<AxesSubplot:ylabel='Frequency'>"
      ]
     },
     "execution_count": 40,
     "metadata": {},
     "output_type": "execute_result"
    },
    {
     "data": {
      "image/png": "[encoded data removed]",
      "text/plain": [
       "<Figure size 432x288 with 1 Axes>"
      ]
     },
     "metadata": {
      "needs_background": "light"
     },
     "output_type": "display_data"
    }
   ],
   "source": [
    "#histograma de frecuencias\n",
    "pdf2.plot.hist(bins=15)"
   ]
  },
  {
   "cell_type": "code",
   "execution_count": 41,
   "metadata": {
    "collapsed": false,
    "jupyter": {
     "outputs_hidden": false
    }
   },
   "outputs": [
    {
     "data": {
      "text/plain": [
       "<AxesSubplot:>"
      ]
     },
     "execution_count": 41,
     "metadata": {},
     "output_type": "execute_result"
    },
    {
     "data": {
      "image/png": "[encoded data removed]",
      "text/plain": [
       "<Figure size 432x288 with 1 Axes>"
      ]
     },
     "metadata": {
      "needs_background": "light"
     },
     "output_type": "display_data"
    }
   ],
   "source": [
    "#diagramas de cajas o boxplot\n",
    "pdf2.plot.box()"
   ]
  },
  {
   "cell_type": "markdown",
   "metadata": {},
   "source": [
    "## Ahora comenzamos a realizar un analisis exploratorio de los datos"
   ]
  },
  {
   "cell_type": "code",
   "execution_count": 42,
   "metadata": {
    "tags": []
   },
   "outputs": [],
   "source": [
    "# Realizamos la lectura del dataframe\n",
    "bd5 = sqlContext.read.format(\n",
    "    \"com.databricks.spark.csv\"\n",
    ").option(\"header\", \"true\").load(\"audi.csv\", inferSchema=True)\n",
    "sqlContext.registerDataFrameAsTable(bd5, \"bd5\")"
   ]
  },
  {
   "cell_type": "code",
   "execution_count": 43,
   "metadata": {
    "collapsed": false,
    "jupyter": {
     "outputs_hidden": false
    }
   },
   "outputs": [
    {
     "name": "stdout",
     "output_type": "stream",
     "text": [
      "+-----+----+-----+------------+-------+--------+---+----+----------+\n",
      "|model|year|price|transmission|mileage|fuelType|tax| mpg|engineSize|\n",
      "+-----+----+-----+------------+-------+--------+---+----+----------+\n",
      "|   A1|2017|12500|      Manual|  15735|  Petrol|150|55.4|       1.4|\n",
      "|   A6|2016|16500|   Automatic|  36203|  Diesel| 20|64.2|       2.0|\n",
      "|   A1|2016|11000|      Manual|  29946|  Petrol| 30|55.4|       1.4|\n",
      "|   A4|2017|16800|   Automatic|  25952|  Diesel|145|67.3|       2.0|\n",
      "|   A3|2019|17300|      Manual|   1998|  Petrol|145|49.6|       1.0|\n",
      "+-----+----+-----+------------+-------+--------+---+----+----------+\n",
      "only showing top 5 rows\n",
      "\n"
     ]
    }
   ],
   "source": [
    "bd5.show(5)"
   ]
  },
  {
   "cell_type": "code",
   "execution_count": 44,
   "metadata": {
    "collapsed": false,
    "jupyter": {
     "outputs_hidden": false
    }
   },
   "outputs": [
    {
     "data": {
      "text/plain": [
       "['model',\n",
       " 'year',\n",
       " 'price',\n",
       " 'transmission',\n",
       " 'mileage',\n",
       " 'fuelType',\n",
       " 'tax',\n",
       " 'mpg',\n",
       " 'engineSize']"
      ]
     },
     "execution_count": 44,
     "metadata": {},
     "output_type": "execute_result"
    }
   ],
   "source": [
    "bd5.columns"
   ]
  },
  {
   "cell_type": "code",
   "execution_count": 45,
   "metadata": {
    "collapsed": false,
    "jupyter": {
     "outputs_hidden": false
    }
   },
   "outputs": [],
   "source": [
    "#Ahora vamos a seleccionar algunas varibles para realizar el trabajo\n",
    "bd=bd5.select('model',\n",
    " 'year',\n",
    " 'price',\n",
    " 'transmission',\n",
    " 'mileage',\n",
    " 'fuelType',\n",
    " 'tax',\n",
    " 'mpg',\n",
    " 'engineSize'\n",
    "            ) "
   ]
  },
  {
   "cell_type": "code",
   "execution_count": 46,
   "metadata": {
    "collapsed": false,
    "jupyter": {
     "outputs_hidden": false
    }
   },
   "outputs": [
    {
     "name": "stdout",
     "output_type": "stream",
     "text": [
      "+-----+----+-----+------------+-------+--------+---+----+----------+\n",
      "|model|year|price|transmission|mileage|fuelType|tax| mpg|engineSize|\n",
      "+-----+----+-----+------------+-------+--------+---+----+----------+\n",
      "|   A1|2017|12500|      Manual|  15735|  Petrol|150|55.4|       1.4|\n",
      "|   A6|2016|16500|   Automatic|  36203|  Diesel| 20|64.2|       2.0|\n",
      "|   A1|2016|11000|      Manual|  29946|  Petrol| 30|55.4|       1.4|\n",
      "|   A4|2017|16800|   Automatic|  25952|  Diesel|145|67.3|       2.0|\n",
      "|   A3|2019|17300|      Manual|   1998|  Petrol|145|49.6|       1.0|\n",
      "|   A1|2016|13900|   Automatic|  32260|  Petrol| 30|58.9|       1.4|\n",
      "|   A6|2016|13250|   Automatic|  76788|  Diesel| 30|61.4|       2.0|\n",
      "|   A4|2016|11750|      Manual|  75185|  Diesel| 20|70.6|       2.0|\n",
      "+-----+----+-----+------------+-------+--------+---+----+----------+\n",
      "only showing top 8 rows\n",
      "\n"
     ]
    }
   ],
   "source": [
    "bd.show(8)"
   ]
  },
  {
   "cell_type": "code",
   "execution_count": 47,
   "metadata": {
    "collapsed": false,
    "jupyter": {
     "outputs_hidden": false
    }
   },
   "outputs": [],
   "source": [
    "#Ahora registramos nuestro nuevo dataset como tabla\n",
    "sqlContext.registerDataFrameAsTable(bd, \"bd\")\n",
    "#Hacemos un filtro en una nueva bd donde deseamos saber en el año 2017\n",
    "#que carros se vendieron con transmisión manual\n",
    "bd2 = sqlContext.sql(\"select * from bd \\\n",
    "            where transmission in ('Manual') \\\n",
    "            and model like '_A1'\")"
   ]
  },
  {
   "cell_type": "code",
   "execution_count": null,
   "metadata": {
    "collapsed": false,
    "jupyter": {
     "outputs_hidden": false
    }
   },
   "outputs": [],
   "source": []
  },
  {
   "cell_type": "code",
   "execution_count": 48,
   "metadata": {
    "tags": []
   },
   "outputs": [],
   "source": [
    "#Lo registramos como tabla\n",
    "sqlContext.registerDataFrameAsTable(bd2, \"bd2\")"
   ]
  },
  {
   "cell_type": "code",
   "execution_count": 49,
   "metadata": {
    "collapsed": false,
    "jupyter": {
     "outputs_hidden": false
    }
   },
   "outputs": [
    {
     "name": "stdout",
     "output_type": "stream",
     "text": [
      "+-----+----+-----+------------+-------+--------+---+----+----------+\n",
      "|model|year|price|transmission|mileage|fuelType|tax| mpg|engineSize|\n",
      "+-----+----+-----+------------+-------+--------+---+----+----------+\n",
      "|   A1|2017|12500|      Manual|  15735|  Petrol|150|55.4|       1.4|\n",
      "|   A1|2016|11000|      Manual|  29946|  Petrol| 30|55.4|       1.4|\n",
      "|   A1|2016|12000|      Manual|  22451|  Petrol| 30|55.4|       1.4|\n",
      "|   A1|2018|15800|      Manual|  10793|  Petrol|145|56.5|       1.4|\n",
      "|   A1|2017|10800|      Manual|  31447|  Petrol|145|67.3|       1.0|\n",
      "|   A1|2014|11000|      Manual|  34315|  Petrol|125|53.3|       1.4|\n",
      "|   A1|2013| 7000|      Manual|  76269|  Diesel|  0|74.3|       1.6|\n",
      "|   A1|2017|11700|      Manual|  19268|  Petrol|150|67.3|       1.0|\n",
      "|   A1|2016|10800|      Manual|  18181|  Petrol|  0|67.3|       1.0|\n",
      "|   A1|2017|11300|      Manual|  29327|  Petrol| 30|55.4|       1.4|\n",
      "+-----+----+-----+------------+-------+--------+---+----+----------+\n",
      "only showing top 10 rows\n",
      "\n"
     ]
    }
   ],
   "source": [
    "#hacemos un show de los 10 primeros valores\n",
    "bd2.show(10)"
   ]
  },
  {
   "cell_type": "code",
   "execution_count": 50,
   "metadata": {
    "collapsed": false,
    "jupyter": {
     "outputs_hidden": false
    }
   },
   "outputs": [
    {
     "data": {
      "text/plain": [
       "983"
      ]
     },
     "execution_count": 50,
     "metadata": {},
     "output_type": "execute_result"
    }
   ],
   "source": [
    "bd2.count() "
   ]
  },
  {
   "cell_type": "code",
   "execution_count": 51,
   "metadata": {
    "collapsed": false,
    "jupyter": {
     "outputs_hidden": false
    }
   },
   "outputs": [
    {
     "data": {
      "text/plain": [
       "1"
      ]
     },
     "execution_count": 51,
     "metadata": {},
     "output_type": "execute_result"
    }
   ],
   "source": [
    "bd2.select(\"model\").distinct().count()"
   ]
  },
  {
   "cell_type": "code",
   "execution_count": 52,
   "metadata": {
    "collapsed": false,
    "jupyter": {
     "outputs_hidden": false
    }
   },
   "outputs": [
    {
     "name": "stdout",
     "output_type": "stream",
     "text": [
      "+-----+-----+\n",
      "|model|count|\n",
      "+-----+-----+\n",
      "|   A1|  983|\n",
      "+-----+-----+\n",
      "\n"
     ]
    }
   ],
   "source": [
    "bd2.groupBy(\"model\").count().show()"
   ]
  },
  {
   "cell_type": "code",
   "execution_count": 53,
   "metadata": {
    "collapsed": false,
    "jupyter": {
     "outputs_hidden": false
    }
   },
   "outputs": [
    {
     "name": "stdout",
     "output_type": "stream",
     "text": [
      "+-----+---+-----+\n",
      "|model|  n|    p|\n",
      "+-----+---+-----+\n",
      "|   A1|983|100.0|\n",
      "+-----+---+-----+\n",
      "\n"
     ]
    }
   ],
   "source": [
    "#Tabla de frecuiencias\n",
    "sqlContext.sql(\"select t1.model , t1.n , 100*t1.n/t2.t as p\\\n",
    "               from (select model, count(*) as n from bd2 group by model ) as t1 , \\\n",
    "               (select count(*) as t from bd2) as t2\").show()"
   ]
  },
  {
   "cell_type": "code",
   "execution_count": 54,
   "metadata": {
    "collapsed": false,
    "jupyter": {
     "outputs_hidden": false
    }
   },
   "outputs": [
    {
     "name": "stdout",
     "output_type": "stream",
     "text": [
      "+-------+------------------+\n",
      "|summary|           mileage|\n",
      "+-------+------------------+\n",
      "|  count|               983|\n",
      "|   mean|28300.748728382503|\n",
      "| stddev|17489.312702779855|\n",
      "|    min|                10|\n",
      "|    max|            116000|\n",
      "+-------+------------------+\n",
      "\n"
     ]
    }
   ],
   "source": [
    "bd2.describe(\"mileage\").show()"
   ]
  },
  {
   "cell_type": "code",
   "execution_count": 55,
   "metadata": {
    "collapsed": false,
    "jupyter": {
     "outputs_hidden": false
    }
   },
   "outputs": [
    {
     "data": {
      "text/plain": [
       "[Row(max(mileage)=116000)]"
      ]
     },
     "execution_count": 55,
     "metadata": {},
     "output_type": "execute_result"
    }
   ],
   "source": [
    "bd2.select('mileage').groupBy().max().collect()"
   ]
  },
  {
   "cell_type": "code",
   "execution_count": 56,
   "metadata": {
    "collapsed": false,
    "jupyter": {
     "outputs_hidden": false
    }
   },
   "outputs": [
    {
     "name": "stdout",
     "output_type": "stream",
     "text": [
      "+---+------+\n",
      "|Min|   Max|\n",
      "+---+------+\n",
      "| 10|116000|\n",
      "+---+------+\n",
      "\n"
     ]
    }
   ],
   "source": [
    "sqlContext.sql(\"select min(mileage) as Min, \\\n",
    "                max(mileage) as Max from bd2\" ).show()"
   ]
  },
  {
   "cell_type": "code",
   "execution_count": 57,
   "metadata": {
    "collapsed": false,
    "jupyter": {
     "outputs_hidden": false
    }
   },
   "outputs": [
    {
     "name": "stdout",
     "output_type": "stream",
     "text": [
      "+-------+\n",
      "|mileage|\n",
      "+-------+\n",
      "| 116000|\n",
      "| 107000|\n",
      "|  98520|\n",
      "|  92760|\n",
      "|  90000|\n",
      "|  90000|\n",
      "|  88340|\n",
      "|  83390|\n",
      "|  81012|\n",
      "|  80814|\n",
      "+-------+\n",
      "only showing top 10 rows\n",
      "\n"
     ]
    }
   ],
   "source": [
    "bd2.select('mileage').orderBy('mileage',ascending=False).show(10)"
   ]
  },
  {
   "cell_type": "code",
   "execution_count": 58,
   "metadata": {
    "collapsed": false,
    "jupyter": {
     "outputs_hidden": false
    }
   },
   "outputs": [
    {
     "data": {
      "text/plain": [
       "Row(mileage=62500)"
      ]
     },
     "execution_count": 58,
     "metadata": {},
     "output_type": "execute_result"
    }
   ],
   "source": [
    "#Percentiles\n",
    "n=bd2.select('mileage').count()\n",
    "P95=int(n*0.95)\n",
    "bd2.select('mileage').sort('mileage').collect()[P95]"
   ]
  },
  {
   "cell_type": "markdown",
   "metadata": {},
   "source": [
    "## Representación grafica de Variables cualitativas"
   ]
  },
  {
   "cell_type": "code",
   "execution_count": 59,
   "metadata": {
    "tags": []
   },
   "outputs": [],
   "source": [
    "import matplotlib.pyplot as plt\n",
    "%matplotlib inline"
   ]
  },
  {
   "cell_type": "code",
   "execution_count": 60,
   "metadata": {
    "collapsed": false,
    "jupyter": {
     "outputs_hidden": false
    }
   },
   "outputs": [
    {
     "data": {
      "text/html": [
       "<div>\n",
       "<style scoped>\n",
       "    .dataframe tbody tr th:only-of-type {\n",
       "        vertical-align: middle;\n",
       "    }\n",
       "\n",
       "    .dataframe tbody tr th {\n",
       "        vertical-align: top;\n",
       "    }\n",
       "\n",
       "    .dataframe thead th {\n",
       "        text-align: right;\n",
       "    }\n",
       "</style>\n",
       "<table border=\"1\" class=\"dataframe\">\n",
       "  <thead>\n",
       "    <tr style=\"text-align: right;\">\n",
       "      <th></th>\n",
       "      <th>model</th>\n",
       "      <th>n</th>\n",
       "    </tr>\n",
       "  </thead>\n",
       "  <tbody>\n",
       "    <tr>\n",
       "      <th>0</th>\n",
       "      <td>A1</td>\n",
       "      <td>983</td>\n",
       "    </tr>\n",
       "  </tbody>\n",
       "</table>\n",
       "</div>"
      ],
      "text/plain": [
       "  model    n\n",
       "0    A1  983"
      ]
     },
     "execution_count": 60,
     "metadata": {},
     "output_type": "execute_result"
    }
   ],
   "source": [
    "g2=sqlContext.sql(\"select model, count(*) as n from bd2 group by model\")\n",
    "pdf2=g2.toPandas()\n",
    "pdf2"
   ]
  },
  {
   "cell_type": "code",
   "execution_count": 61,
   "metadata": {
    "collapsed": false,
    "jupyter": {
     "outputs_hidden": false
    }
   },
   "outputs": [
    {
     "data": {
      "text/plain": [
       "<AxesSubplot:xlabel='model'>"
      ]
     },
     "execution_count": 61,
     "metadata": {},
     "output_type": "execute_result"
    },
    {
     "data": {
      "image/png": "[encoded data removed]",
      "text/plain": [
       "<Figure size 432x288 with 1 Axes>"
      ]
     },
     "metadata": {
      "needs_background": "light"
     },
     "output_type": "display_data"
    }
   ],
   "source": [
    "# Diagrama de barras verticales\n",
    "pdf2.plot(kind='bar',x='model',y='n')"
   ]
  },
  {
   "cell_type": "code",
   "execution_count": 62,
   "metadata": {
    "collapsed": false,
    "jupyter": {
     "outputs_hidden": false
    }
   },
   "outputs": [
    {
     "data": {
      "text/plain": [
       "<AxesSubplot:ylabel='n'>"
      ]
     },
     "execution_count": 62,
     "metadata": {},
     "output_type": "execute_result"
    },
    {
     "data": {
      "image/png": "[encoded data removed]",
      "text/plain": [
       "<Figure size 432x288 with 1 Axes>"
      ]
     },
     "metadata": {},
     "output_type": "display_data"
    }
   ],
   "source": [
    "#digrama circular\n",
    "pdf2.plot.pie(y='n',labels=pdf2['model'])"
   ]
  },
  {
   "cell_type": "markdown",
   "metadata": {},
   "source": [
    "### Ahora comenzamos con el prepoceso de los datos\n",
    "    * Revisión de valores anomales\n",
    "    * Revisión de valores faltantes\n",
    "    * Posibles inconcistencias"
   ]
  },
  {
   "cell_type": "code",
   "execution_count": 63,
   "metadata": {
    "collapsed": false,
    "jupyter": {
     "outputs_hidden": false
    }
   },
   "outputs": [
    {
     "name": "stdout",
     "output_type": "stream",
     "text": [
      "+-----+----+-----+------------+-------+--------+---+----+----------+\n",
      "|model|year|price|transmission|mileage|fuelType|tax| mpg|engineSize|\n",
      "+-----+----+-----+------------+-------+--------+---+----+----------+\n",
      "|   A1|2017|12500|      Manual|  15735|  Petrol|150|55.4|       1.4|\n",
      "|   A6|2016|16500|   Automatic|  36203|  Diesel| 20|64.2|       2.0|\n",
      "|   A1|2016|11000|      Manual|  29946|  Petrol| 30|55.4|       1.4|\n",
      "|   A4|2017|16800|   Automatic|  25952|  Diesel|145|67.3|       2.0|\n",
      "|   A3|2019|17300|      Manual|   1998|  Petrol|145|49.6|       1.0|\n",
      "|   A1|2016|13900|   Automatic|  32260|  Petrol| 30|58.9|       1.4|\n",
      "|   A6|2016|13250|   Automatic|  76788|  Diesel| 30|61.4|       2.0|\n",
      "|   A4|2016|11750|      Manual|  75185|  Diesel| 20|70.6|       2.0|\n",
      "|   A3|2015|10200|      Manual|  46112|  Petrol| 20|60.1|       1.4|\n",
      "|   A1|2016|12000|      Manual|  22451|  Petrol| 30|55.4|       1.4|\n",
      "|   A3|2017|16100|      Manual|  28955|  Petrol|145|58.9|       1.4|\n",
      "|   A6|2016|16500|   Automatic|  52198|  Diesel|125|57.6|       2.0|\n",
      "|   Q3|2016|17000|      Manual|  44915|  Diesel|145|52.3|       2.0|\n",
      "|   A3|2017|16400|      Manual|  21695|  Petrol| 30|58.9|       1.4|\n",
      "|   A6|2015|15400|      Manual|  47348|  Diesel| 30|61.4|       2.0|\n",
      "|   A3|2017|14500|   Automatic|  26156|  Petrol|145|58.9|       1.4|\n",
      "|   Q3|2016|15700|   Automatic|  28396|  Diesel|145|53.3|       2.0|\n",
      "|   A3|2014|13900|   Automatic|  30516|  Petrol| 30|56.5|       1.4|\n",
      "|   Q5|2016|19000|   Automatic|  37652|  Diesel|200|47.1|       2.0|\n",
      "|   Q3|2014|17000|      Manual|  34110|  Petrol|145|47.9|       1.4|\n",
      "+-----+----+-----+------------+-------+--------+---+----+----------+\n",
      "only showing top 20 rows\n",
      "\n"
     ]
    }
   ],
   "source": [
    "bd5.show()"
   ]
  },
  {
   "cell_type": "code",
   "execution_count": 64,
   "metadata": {
    "collapsed": false,
    "jupyter": {
     "outputs_hidden": false
    }
   },
   "outputs": [
    {
     "name": "stdout",
     "output_type": "stream",
     "text": [
      "+-----+----+-----+------------+-------+--------+---+----+----------+\n",
      "|model|year|price|transmission|mileage|fuelType|tax| mpg|engineSize|\n",
      "+-----+----+-----+------------+-------+--------+---+----+----------+\n",
      "|   A1|2017|12500|      Manual|  15735|  Petrol|150|55.4|       1.4|\n",
      "|   A4|2017|16800|   Automatic|  25952|  Diesel|145|67.3|       2.0|\n",
      "|   A3|2017|16100|      Manual|  28955|  Petrol|145|58.9|       1.4|\n",
      "|   A3|2017|16400|      Manual|  21695|  Petrol| 30|58.9|       1.4|\n",
      "|   A3|2017|14500|   Automatic|  26156|  Petrol|145|58.9|       1.4|\n",
      "+-----+----+-----+------------+-------+--------+---+----+----------+\n",
      "only showing top 5 rows\n",
      "\n"
     ]
    }
   ],
   "source": [
    "bd3 = bd5.filter( bd5.year.isin('2017'))\n",
    "bd3.show(5)"
   ]
  },
  {
   "cell_type": "code",
   "execution_count": 65,
   "metadata": {
    "collapsed": false,
    "jupyter": {
     "outputs_hidden": false
    }
   },
   "outputs": [],
   "source": [
    "sqlContext.registerDataFrameAsTable(bd3, \"bd3\")"
   ]
  },
  {
   "cell_type": "code",
   "execution_count": 66,
   "metadata": {
    "collapsed": false,
    "jupyter": {
     "outputs_hidden": false
    }
   },
   "outputs": [
    {
     "name": "stdout",
     "output_type": "stream",
     "text": [
      "+-------+------------------+\n",
      "|summary|           mileage|\n",
      "+-------+------------------+\n",
      "|  count|              1935|\n",
      "|   mean|26841.214470284238|\n",
      "| stddev|13521.278960283946|\n",
      "|    min|              1420|\n",
      "|    max|            111890|\n",
      "+-------+------------------+\n",
      "\n"
     ]
    }
   ],
   "source": [
    "bd3.describe('mileage').show()"
   ]
  },
  {
   "cell_type": "code",
   "execution_count": 67,
   "metadata": {
    "collapsed": false,
    "jupyter": {
     "outputs_hidden": false
    }
   },
   "outputs": [
    {
     "name": "stdout",
     "output_type": "stream",
     "text": [
      "+-------+-----+------+------------------+------------+------------------+--------+------------------+------------------+------------------+\n",
      "|summary|model|  year|             price|transmission|           mileage|fuelType|               tax|               mpg|        engineSize|\n",
      "+-------+-----+------+------------------+------------+------------------+--------+------------------+------------------+------------------+\n",
      "|  count| 1935|  1935|              1935|        1935|              1935|    1935|              1935|              1935|              1935|\n",
      "|   mean| null|2017.0|19951.624289405685|        null|26841.214470284238|    null|123.17054263565892| 55.87689922480607| 1.833540051679602|\n",
      "| stddev| null|   0.0|  7282.24289104866|        null|13521.278960283946|    null| 57.35385059741576|10.135594598606204|0.6130657911211629|\n",
      "|    min|   A1|  2017|              8490|   Automatic|              1420|  Diesel|                 0|              28.2|               0.0|\n",
      "|    max|   TT|  2017|             61700|   Semi-Auto|            111890|  Petrol|               555|             156.9|               4.0|\n",
      "+-------+-----+------+------------------+------------+------------------+--------+------------------+------------------+------------------+\n",
      "\n"
     ]
    }
   ],
   "source": [
    "bd3.describe().show()"
   ]
  },
  {
   "cell_type": "code",
   "execution_count": 68,
   "metadata": {
    "collapsed": false,
    "jupyter": {
     "outputs_hidden": false
    }
   },
   "outputs": [
    {
     "data": {
      "text/html": [
       "<div>\n",
       "<style scoped>\n",
       "    .dataframe tbody tr th:only-of-type {\n",
       "        vertical-align: middle;\n",
       "    }\n",
       "\n",
       "    .dataframe tbody tr th {\n",
       "        vertical-align: top;\n",
       "    }\n",
       "\n",
       "    .dataframe thead th {\n",
       "        text-align: right;\n",
       "    }\n",
       "</style>\n",
       "<table border=\"1\" class=\"dataframe\">\n",
       "  <thead>\n",
       "    <tr style=\"text-align: right;\">\n",
       "      <th>summary</th>\n",
       "      <th>count</th>\n",
       "      <th>mean</th>\n",
       "      <th>stddev</th>\n",
       "      <th>min</th>\n",
       "      <th>max</th>\n",
       "    </tr>\n",
       "  </thead>\n",
       "  <tbody>\n",
       "    <tr>\n",
       "      <th>model</th>\n",
       "      <td>1935</td>\n",
       "      <td>None</td>\n",
       "      <td>None</td>\n",
       "      <td>A1</td>\n",
       "      <td>TT</td>\n",
       "    </tr>\n",
       "    <tr>\n",
       "      <th>year</th>\n",
       "      <td>1935</td>\n",
       "      <td>2017.0</td>\n",
       "      <td>0.0</td>\n",
       "      <td>2017</td>\n",
       "      <td>2017</td>\n",
       "    </tr>\n",
       "    <tr>\n",
       "      <th>price</th>\n",
       "      <td>1935</td>\n",
       "      <td>19951.624289405685</td>\n",
       "      <td>7282.24289104866</td>\n",
       "      <td>8490</td>\n",
       "      <td>61700</td>\n",
       "    </tr>\n",
       "    <tr>\n",
       "      <th>transmission</th>\n",
       "      <td>1935</td>\n",
       "      <td>None</td>\n",
       "      <td>None</td>\n",
       "      <td>Automatic</td>\n",
       "      <td>Semi-Auto</td>\n",
       "    </tr>\n",
       "    <tr>\n",
       "      <th>mileage</th>\n",
       "      <td>1935</td>\n",
       "      <td>26841.214470284238</td>\n",
       "      <td>13521.278960283946</td>\n",
       "      <td>1420</td>\n",
       "      <td>111890</td>\n",
       "    </tr>\n",
       "    <tr>\n",
       "      <th>fuelType</th>\n",
       "      <td>1935</td>\n",
       "      <td>None</td>\n",
       "      <td>None</td>\n",
       "      <td>Diesel</td>\n",
       "      <td>Petrol</td>\n",
       "    </tr>\n",
       "    <tr>\n",
       "      <th>tax</th>\n",
       "      <td>1935</td>\n",
       "      <td>123.17054263565892</td>\n",
       "      <td>57.35385059741576</td>\n",
       "      <td>0</td>\n",
       "      <td>555</td>\n",
       "    </tr>\n",
       "    <tr>\n",
       "      <th>mpg</th>\n",
       "      <td>1935</td>\n",
       "      <td>55.87689922480607</td>\n",
       "      <td>10.135594598606204</td>\n",
       "      <td>28.2</td>\n",
       "      <td>156.9</td>\n",
       "    </tr>\n",
       "    <tr>\n",
       "      <th>engineSize</th>\n",
       "      <td>1935</td>\n",
       "      <td>1.833540051679602</td>\n",
       "      <td>0.6130657911211629</td>\n",
       "      <td>0.0</td>\n",
       "      <td>4.0</td>\n",
       "    </tr>\n",
       "  </tbody>\n",
       "</table>\n",
       "</div>"
      ],
      "text/plain": [
       "summary      count                mean              stddev        min  \\\n",
       "model         1935                None                None         A1   \n",
       "year          1935              2017.0                 0.0       2017   \n",
       "price         1935  19951.624289405685    7282.24289104866       8490   \n",
       "transmission  1935                None                None  Automatic   \n",
       "mileage       1935  26841.214470284238  13521.278960283946       1420   \n",
       "fuelType      1935                None                None     Diesel   \n",
       "tax           1935  123.17054263565892   57.35385059741576          0   \n",
       "mpg           1935   55.87689922480607  10.135594598606204       28.2   \n",
       "engineSize    1935   1.833540051679602  0.6130657911211629        0.0   \n",
       "\n",
       "summary             max  \n",
       "model                TT  \n",
       "year               2017  \n",
       "price             61700  \n",
       "transmission  Semi-Auto  \n",
       "mileage          111890  \n",
       "fuelType         Petrol  \n",
       "tax                 555  \n",
       "mpg               156.9  \n",
       "engineSize          4.0  "
      ]
     },
     "execution_count": 68,
     "metadata": {},
     "output_type": "execute_result"
    }
   ],
   "source": [
    "bd3.describe().toPandas().set_index('summary').transpose()"
   ]
  },
  {
   "cell_type": "code",
   "execution_count": null,
   "metadata": {
    "collapsed": false,
    "jupyter": {
     "outputs_hidden": false
    }
   },
   "outputs": [],
   "source": []
  },
  {
   "cell_type": "code",
   "execution_count": 69,
   "metadata": {
    "collapsed": false,
    "jupyter": {
     "outputs_hidden": false
    }
   },
   "outputs": [
    {
     "data": {
      "text/plain": [
       "summary         count\n",
       "model            1935\n",
       "year             1935\n",
       "price            1935\n",
       "transmission     1935\n",
       "mileage          1935\n",
       "fuelType         1935\n",
       "tax              1935\n",
       "mpg              1935\n",
       "engineSize       1935\n",
       "Name: 0, dtype: object"
      ]
     },
     "execution_count": 69,
     "metadata": {},
     "output_type": "execute_result"
    }
   ],
   "source": [
    "#VAlores faltantes en la bd\n",
    "bd3.describe().toPandas().transpose()[0]"
   ]
  },
  {
   "cell_type": "code",
   "execution_count": 70,
   "metadata": {
    "collapsed": false,
    "jupyter": {
     "outputs_hidden": false
    }
   },
   "outputs": [
    {
     "data": {
      "text/plain": [
       "'\\nEn este caso nuestra bd está bastante limpia y completa por lo que \\nno aparacen datos faltantes\\n'"
      ]
     },
     "execution_count": 70,
     "metadata": {},
     "output_type": "execute_result"
    }
   ],
   "source": [
    "\"\"\"\n",
    "En este caso nuestra bd está bastante limpia y completa por lo que \n",
    "no aparacen datos faltantes\n",
    "\"\"\"\n"
   ]
  },
  {
   "cell_type": "code",
   "execution_count": 71,
   "metadata": {
    "collapsed": false,
    "jupyter": {
     "outputs_hidden": false
    }
   },
   "outputs": [
    {
     "name": "stdout",
     "output_type": "stream",
     "text": [
      "+-----+----+------------------+------------------+\n",
      "|model|   n|              Mean|               Std|\n",
      "+-----+----+------------------+------------------+\n",
      "|   A7| 122| 27480.94262295082|23631.067911746464|\n",
      "|  SQ7|   8|         27659.375| 9875.330836230247|\n",
      "|   A4|1381|29690.989862418537| 26935.24225323539|\n",
      "|  RS3|  33|25870.545454545456|22311.476762379083|\n",
      "|   S3|  18| 40500.72222222222|22728.814142626652|\n",
      "|  RS5|  29|11572.758620689656|15444.172131665468|\n",
      "|  RS6|  39|28524.641025641027|16962.171195257404|\n",
      "|  SQ5|  16|         42114.875| 29890.76161597983|\n",
      "|   S4|  12|27117.666666666668| 36101.01952308356|\n",
      "|   Q8|  69|  6412.04347826087|4057.1046486915743|\n",
      "|  RS4|  31|  21743.8064516129|23142.374956515527|\n",
      "|   A1|1347|24498.288047512993| 17963.97099794573|\n",
      "|   A3|1929| 28891.08709175739|25485.110901942717|\n",
      "|   Q2| 822|10797.816301703164|11029.319190422242|\n",
      "|  RS7|   1|           56000.0|              null|\n",
      "|   Q7| 397|  21672.7556675063|21169.404047242406|\n",
      "|   Q3|1417|21194.870853916724|19500.140969673103|\n",
      "|   R8|  28|           12363.0|13942.066726012776|\n",
      "|   S5|   3|53606.666666666664| 34858.05693571191|\n",
      "|   Q5| 877|22318.257696693272|22523.974457057804|\n",
      "+-----+----+------------------+------------------+\n",
      "only showing top 20 rows\n",
      "\n"
     ]
    }
   ],
   "source": [
    "# Variable continua vs cualitativa\n",
    "g3 = sqlContext.sql(\"select model, count(*) as n, \\\n",
    "               avg(mileage) as Mean, \\\n",
    "               stddev(mileage) as Std \\\n",
    "               from bd5 group by model\")\n",
    "g3.show()"
   ]
  },
  {
   "cell_type": "code",
   "execution_count": 72,
   "metadata": {
    "collapsed": false,
    "jupyter": {
     "outputs_hidden": false
    }
   },
   "outputs": [],
   "source": [
    "g4 = g3.dropna()"
   ]
  },
  {
   "cell_type": "code",
   "execution_count": 73,
   "metadata": {
    "collapsed": false,
    "jupyter": {
     "outputs_hidden": false
    }
   },
   "outputs": [
    {
     "name": "stdout",
     "output_type": "stream",
     "text": [
      "+-----+----+------------------+------------------+\n",
      "|model|   n|              Mean|               Std|\n",
      "+-----+----+------------------+------------------+\n",
      "|   A7| 122| 27480.94262295082|23631.067911746464|\n",
      "|  SQ7|   8|         27659.375| 9875.330836230247|\n",
      "|   A4|1381|29690.989862418537| 26935.24225323539|\n",
      "|  RS3|  33|25870.545454545456|22311.476762379083|\n",
      "|   S3|  18| 40500.72222222222|22728.814142626652|\n",
      "|  RS5|  29|11572.758620689656|15444.172131665468|\n",
      "|  RS6|  39|28524.641025641027|16962.171195257404|\n",
      "|  SQ5|  16|         42114.875| 29890.76161597983|\n",
      "|   S4|  12|27117.666666666668| 36101.01952308356|\n",
      "|   Q8|  69|  6412.04347826087|4057.1046486915743|\n",
      "|  RS4|  31|  21743.8064516129|23142.374956515527|\n",
      "|   A1|1347|24498.288047512993| 17963.97099794573|\n",
      "|   A3|1929| 28891.08709175739|25485.110901942717|\n",
      "|   Q2| 822|10797.816301703164|11029.319190422242|\n",
      "|   Q7| 397|  21672.7556675063|21169.404047242406|\n",
      "|   Q3|1417|21194.870853916724|19500.140969673103|\n",
      "|   R8|  28|           12363.0|13942.066726012776|\n",
      "|   S5|   3|53606.666666666664| 34858.05693571191|\n",
      "|   Q5| 877|22318.257696693272|22523.974457057804|\n",
      "|   A5| 882| 23515.29591836735|23721.086330354457|\n",
      "+-----+----+------------------+------------------+\n",
      "only showing top 20 rows\n",
      "\n"
     ]
    }
   ],
   "source": [
    "g4.show()"
   ]
  },
  {
   "cell_type": "code",
   "execution_count": 74,
   "metadata": {
    "collapsed": false,
    "jupyter": {
     "outputs_hidden": false
    }
   },
   "outputs": [
    {
     "data": {
      "text/plain": [
       "<AxesSubplot:xlabel='model'>"
      ]
     },
     "execution_count": 74,
     "metadata": {},
     "output_type": "execute_result"
    },
    {
     "data": {
      "image/png": "[encoded data removed]",
      "text/plain": [
       "<Figure size 432x288 with 1 Axes>"
      ]
     },
     "metadata": {
      "needs_background": "light"
     },
     "output_type": "display_data"
    }
   ],
   "source": [
    "import matplotlib.pyplot as plt\n",
    "%matplotlib inline\n",
    "pdf3=g4.toPandas()\n",
    "pdf3.plot(kind='bar',x='model',y='Mean',yerr='Std')"
   ]
  },
  {
   "cell_type": "code",
   "execution_count": 75,
   "metadata": {
    "collapsed": false,
    "jupyter": {
     "outputs_hidden": false
    }
   },
   "outputs": [
    {
     "data": {
      "text/html": [
       "<div>\n",
       "<style scoped>\n",
       "    .dataframe tbody tr th:only-of-type {\n",
       "        vertical-align: middle;\n",
       "    }\n",
       "\n",
       "    .dataframe tbody tr th {\n",
       "        vertical-align: top;\n",
       "    }\n",
       "\n",
       "    .dataframe thead th {\n",
       "        text-align: right;\n",
       "    }\n",
       "</style>\n",
       "<table border=\"1\" class=\"dataframe\">\n",
       "  <thead>\n",
       "    <tr style=\"text-align: right;\">\n",
       "      <th></th>\n",
       "      <th>model</th>\n",
       "      <th>mileage</th>\n",
       "      <th>year</th>\n",
       "      <th>price</th>\n",
       "      <th>transmission</th>\n",
       "      <th>fueltype</th>\n",
       "    </tr>\n",
       "  </thead>\n",
       "  <tbody>\n",
       "    <tr>\n",
       "      <th>1</th>\n",
       "      <td>A1</td>\n",
       "      <td>22451</td>\n",
       "      <td>2016</td>\n",
       "      <td>12000</td>\n",
       "      <td>Manual</td>\n",
       "      <td>Petrol</td>\n",
       "    </tr>\n",
       "    <tr>\n",
       "      <th>2</th>\n",
       "      <td>Q3</td>\n",
       "      <td>28396</td>\n",
       "      <td>2016</td>\n",
       "      <td>15700</td>\n",
       "      <td>Automatic</td>\n",
       "      <td>Diesel</td>\n",
       "    </tr>\n",
       "    <tr>\n",
       "      <th>3</th>\n",
       "      <td>A5</td>\n",
       "      <td>33300</td>\n",
       "      <td>2017</td>\n",
       "      <td>19500</td>\n",
       "      <td>Automatic</td>\n",
       "      <td>Diesel</td>\n",
       "    </tr>\n",
       "    <tr>\n",
       "      <th>4</th>\n",
       "      <td>A6</td>\n",
       "      <td>22958</td>\n",
       "      <td>2018</td>\n",
       "      <td>16600</td>\n",
       "      <td>Automatic</td>\n",
       "      <td>Petrol</td>\n",
       "    </tr>\n",
       "    <tr>\n",
       "      <th>5</th>\n",
       "      <td>A1</td>\n",
       "      <td>34315</td>\n",
       "      <td>2014</td>\n",
       "      <td>11000</td>\n",
       "      <td>Manual</td>\n",
       "      <td>Petrol</td>\n",
       "    </tr>\n",
       "    <tr>\n",
       "      <th>6</th>\n",
       "      <td>A3</td>\n",
       "      <td>66369</td>\n",
       "      <td>2016</td>\n",
       "      <td>10200</td>\n",
       "      <td>Manual</td>\n",
       "      <td>Diesel</td>\n",
       "    </tr>\n",
       "    <tr>\n",
       "      <th>7</th>\n",
       "      <td>A4</td>\n",
       "      <td>97440</td>\n",
       "      <td>2016</td>\n",
       "      <td>10200</td>\n",
       "      <td>Manual</td>\n",
       "      <td>Diesel</td>\n",
       "    </tr>\n",
       "    <tr>\n",
       "      <th>8</th>\n",
       "      <td>A5</td>\n",
       "      <td>20052</td>\n",
       "      <td>2017</td>\n",
       "      <td>18700</td>\n",
       "      <td>Manual</td>\n",
       "      <td>Petrol</td>\n",
       "    </tr>\n",
       "    <tr>\n",
       "      <th>9</th>\n",
       "      <td>A6</td>\n",
       "      <td>24744</td>\n",
       "      <td>2016</td>\n",
       "      <td>15500</td>\n",
       "      <td>Automatic</td>\n",
       "      <td>Diesel</td>\n",
       "    </tr>\n",
       "  </tbody>\n",
       "</table>\n",
       "</div>"
      ],
      "text/plain": [
       "  model  mileage  year  price transmission fueltype\n",
       "1    A1    22451  2016  12000       Manual   Petrol\n",
       "2    Q3    28396  2016  15700    Automatic   Diesel\n",
       "3    A5    33300  2017  19500    Automatic   Diesel\n",
       "4    A6    22958  2018  16600    Automatic   Petrol\n",
       "5    A1    34315  2014  11000       Manual   Petrol\n",
       "6    A3    66369  2016  10200       Manual   Diesel\n",
       "7    A4    97440  2016  10200       Manual   Diesel\n",
       "8    A5    20052  2017  18700       Manual   Petrol\n",
       "9    A6    24744  2016  15500    Automatic   Diesel"
      ]
     },
     "execution_count": 75,
     "metadata": {},
     "output_type": "execute_result"
    }
   ],
   "source": [
    "pdf4 = bd5.sample(False, 0.1, 0).select('model','mileage','year','price','transmission','fueltype').toPandas()\n",
    "pdf4[1:10]"
   ]
  },
  {
   "cell_type": "code",
   "execution_count": null,
   "metadata": {
    "collapsed": true,
    "jupyter": {
     "outputs_hidden": true
    }
   },
   "outputs": [],
   "source": []
  },
  {
   "cell_type": "code",
   "execution_count": 76,
   "metadata": {
    "collapsed": false,
    "jupyter": {
     "outputs_hidden": false
    }
   },
   "outputs": [
    {
     "data": {
      "text/plain": [
       "<AxesSubplot:xlabel='model', ylabel='mileage'>"
      ]
     },
     "execution_count": 76,
     "metadata": {},
     "output_type": "execute_result"
    },
    {
     "data": {
      "image/png": "[encoded data removed]",
      "text/plain": [
       "<Figure size 432x288 with 1 Axes>"
      ]
     },
     "metadata": {
      "needs_background": "light"
     },
     "output_type": "display_data"
    }
   ],
   "source": [
    "import seaborn as sns \n",
    "\n",
    "sns.boxplot(x='model',y='mileage',data=pdf4)"
   ]
  },
  {
   "cell_type": "code",
   "execution_count": 77,
   "metadata": {
    "collapsed": false,
    "jupyter": {
     "outputs_hidden": false
    }
   },
   "outputs": [
    {
     "data": {
      "text/plain": [
       "<AxesSubplot:xlabel='model', ylabel='mileage'>"
      ]
     },
     "execution_count": 77,
     "metadata": {},
     "output_type": "execute_result"
    },
    {
     "data": {
      "image/png": "[encoded data removed]",
      "text/plain": [
       "<Figure size 432x288 with 1 Axes>"
      ]
     },
     "metadata": {
      "needs_background": "light"
     },
     "output_type": "display_data"
    }
   ],
   "source": [
    "sns.barplot(x=\"model\", y=\"mileage\", hue=\"transmission\", data=pdf4)"
   ]
  },
  {
   "cell_type": "code",
   "execution_count": 78,
   "metadata": {
    "collapsed": false,
    "jupyter": {
     "outputs_hidden": false
    }
   },
   "outputs": [
    {
     "data": {
      "text/plain": [
       "<AxesSubplot:xlabel='model', ylabel='mileage'>"
      ]
     },
     "execution_count": 78,
     "metadata": {},
     "output_type": "execute_result"
    },
    {
     "data": {
      "image/png": "[encoded data removed]",
      "text/plain": [
       "<Figure size 432x288 with 1 Axes>"
      ]
     },
     "metadata": {
      "needs_background": "light"
     },
     "output_type": "display_data"
    }
   ],
   "source": [
    "sns.barplot(x=\"model\", y=\"mileage\", hue=\"fueltype\", data=pdf4)"
   ]
  },
  {
   "cell_type": "markdown",
   "metadata": {},
   "source": [
    "### Cualitativa  vs Cualitativa\n"
   ]
  },
  {
   "cell_type": "code",
   "execution_count": 79,
   "metadata": {
    "collapsed": false,
    "jupyter": {
     "outputs_hidden": false
    }
   },
   "outputs": [
    {
     "data": {
      "text/html": [
       "<div>\n",
       "<style scoped>\n",
       "    .dataframe tbody tr th:only-of-type {\n",
       "        vertical-align: middle;\n",
       "    }\n",
       "\n",
       "    .dataframe tbody tr th {\n",
       "        vertical-align: top;\n",
       "    }\n",
       "\n",
       "    .dataframe thead th {\n",
       "        text-align: right;\n",
       "    }\n",
       "</style>\n",
       "<table border=\"1\" class=\"dataframe\">\n",
       "  <thead>\n",
       "    <tr style=\"text-align: right;\">\n",
       "      <th></th>\n",
       "      <th>model</th>\n",
       "      <th>transmission</th>\n",
       "      <th>n</th>\n",
       "    </tr>\n",
       "  </thead>\n",
       "  <tbody>\n",
       "    <tr>\n",
       "      <th>0</th>\n",
       "      <td>A1</td>\n",
       "      <td>Automatic</td>\n",
       "      <td>97</td>\n",
       "    </tr>\n",
       "    <tr>\n",
       "      <th>1</th>\n",
       "      <td>A1</td>\n",
       "      <td>Manual</td>\n",
       "      <td>983</td>\n",
       "    </tr>\n",
       "    <tr>\n",
       "      <th>2</th>\n",
       "      <td>A1</td>\n",
       "      <td>Semi-Auto</td>\n",
       "      <td>267</td>\n",
       "    </tr>\n",
       "    <tr>\n",
       "      <th>3</th>\n",
       "      <td>A2</td>\n",
       "      <td>Manual</td>\n",
       "      <td>1</td>\n",
       "    </tr>\n",
       "    <tr>\n",
       "      <th>4</th>\n",
       "      <td>A3</td>\n",
       "      <td>Automatic</td>\n",
       "      <td>304</td>\n",
       "    </tr>\n",
       "    <tr>\n",
       "      <th>...</th>\n",
       "      <td>...</td>\n",
       "      <td>...</td>\n",
       "      <td>...</td>\n",
       "    </tr>\n",
       "    <tr>\n",
       "      <th>56</th>\n",
       "      <td>SQ7</td>\n",
       "      <td>Automatic</td>\n",
       "      <td>7</td>\n",
       "    </tr>\n",
       "    <tr>\n",
       "      <th>57</th>\n",
       "      <td>SQ7</td>\n",
       "      <td>Semi-Auto</td>\n",
       "      <td>1</td>\n",
       "    </tr>\n",
       "    <tr>\n",
       "      <th>58</th>\n",
       "      <td>TT</td>\n",
       "      <td>Automatic</td>\n",
       "      <td>58</td>\n",
       "    </tr>\n",
       "    <tr>\n",
       "      <th>59</th>\n",
       "      <td>TT</td>\n",
       "      <td>Manual</td>\n",
       "      <td>182</td>\n",
       "    </tr>\n",
       "    <tr>\n",
       "      <th>60</th>\n",
       "      <td>TT</td>\n",
       "      <td>Semi-Auto</td>\n",
       "      <td>96</td>\n",
       "    </tr>\n",
       "  </tbody>\n",
       "</table>\n",
       "<p>61 rows × 3 columns</p>\n",
       "</div>"
      ],
      "text/plain": [
       "   model transmission    n\n",
       "0     A1    Automatic   97\n",
       "1     A1       Manual  983\n",
       "2     A1    Semi-Auto  267\n",
       "3     A2       Manual    1\n",
       "4     A3    Automatic  304\n",
       "..   ...          ...  ...\n",
       "56   SQ7    Automatic    7\n",
       "57   SQ7    Semi-Auto    1\n",
       "58    TT    Automatic   58\n",
       "59    TT       Manual  182\n",
       "60    TT    Semi-Auto   96\n",
       "\n",
       "[61 rows x 3 columns]"
      ]
     },
     "execution_count": 79,
     "metadata": {},
     "output_type": "execute_result"
    }
   ],
   "source": [
    "#Realizamos una consulta sql, seleccionando las información deseada\n",
    "pdf6 = sqlContext.sql(\"select model, transmission, count(*) as n \\\n",
    "               from bd5 group by model,  transmission \\\n",
    "               order by model,  transmission\").toPandas()\n",
    "pdf6"
   ]
  },
  {
   "cell_type": "code",
   "execution_count": 80,
   "metadata": {
    "collapsed": false,
    "jupyter": {
     "outputs_hidden": false
    }
   },
   "outputs": [
    {
     "data": {
      "text/plain": [
       "<AxesSubplot:xlabel='model', ylabel='n'>"
      ]
     },
     "execution_count": 80,
     "metadata": {},
     "output_type": "execute_result"
    },
    {
     "data": {
      "image/png": "[encoded data removed]",
      "text/plain": [
       "<Figure size 432x288 with 1 Axes>"
      ]
     },
     "metadata": {
      "needs_background": "light"
     },
     "output_type": "display_data"
    }
   ],
   "source": [
    "sns.barplot(x=\"model\", y=\"n\", hue=\"transmission\", data=pdf6)"
   ]
  },
  {
   "cell_type": "code",
   "execution_count": 81,
   "metadata": {
    "collapsed": false,
    "jupyter": {
     "outputs_hidden": false
    }
   },
   "outputs": [
    {
     "data": {
      "text/plain": [
       "<AxesSubplot:xlabel='model', ylabel='avg(mileage)'>"
      ]
     },
     "execution_count": 81,
     "metadata": {},
     "output_type": "execute_result"
    },
    {
     "data": {
      "image/png": "[encoded data removed]",
      "text/plain": [
       "<Figure size 432x288 with 1 Axes>"
      ]
     },
     "metadata": {
      "needs_background": "light"
     },
     "output_type": "display_data"
    }
   ],
   "source": [
    "pdf7 = bd5.groupBy('model').mean('mileage').toPandas()\n",
    "sns.barplot(x=\"model\", y= \"avg(mileage)\", data=pdf7)"
   ]
  },
  {
   "cell_type": "code",
   "execution_count": 82,
   "metadata": {
    "collapsed": false,
    "jupyter": {
     "outputs_hidden": false
    }
   },
   "outputs": [
    {
     "name": "stderr",
     "output_type": "stream",
     "text": [
      "/usr/local/lib/python3.8/dist-packages/seaborn/categorical.py:3717: UserWarning: The `factorplot` function has been renamed to `catplot`. The original name will be removed in a future release. Please update your code. Note that the default `kind` in `factorplot` (`'point'`) has changed `'strip'` in `catplot`.\n",
      "  warnings.warn(msg)\n"
     ]
    },
    {
     "data": {
      "text/plain": [
       "<seaborn.axisgrid.FacetGrid at 0x7f19e6f4cbb0>"
      ]
     },
     "execution_count": 82,
     "metadata": {},
     "output_type": "execute_result"
    },
    {
     "data": {
      "image/png": "[encoded data removed]",
      "text/plain": [
       "<Figure size 1167.38x3240 with 26 Axes>"
      ]
     },
     "metadata": {
      "needs_background": "light"
     },
     "output_type": "display_data"
    }
   ],
   "source": [
    "pdf8 = sqlContext.sql(\"select year, model, transmission, count(*) as n \\\n",
    "               from bd5 group by  year, model, transmission \\\n",
    "               order by  year, model, transmission\").toPandas()\n",
    "\n",
    "sns.factorplot(x=\"year\", y=\"n\", col=\"model\", hue=\"transmission\", data=pdf8, col_wrap=3,)"
   ]
  },
  {
   "cell_type": "markdown",
   "metadata": {},
   "source": [
    "## Variable continua vs continua\n"
   ]
  },
  {
   "cell_type": "code",
   "execution_count": 83,
   "metadata": {
    "collapsed": false,
    "jupyter": {
     "outputs_hidden": false
    }
   },
   "outputs": [
    {
     "data": {
      "text/plain": [
       "0.39510336897281695"
      ]
     },
     "execution_count": 83,
     "metadata": {},
     "output_type": "execute_result"
    }
   ],
   "source": [
    "bd5.corr('mpg','mileage')"
   ]
  },
  {
   "cell_type": "code",
   "execution_count": 84,
   "metadata": {
    "collapsed": false,
    "jupyter": {
     "outputs_hidden": false
    }
   },
   "outputs": [
    {
     "data": {
      "text/html": [
       "<div>\n",
       "<style scoped>\n",
       "    .dataframe tbody tr th:only-of-type {\n",
       "        vertical-align: middle;\n",
       "    }\n",
       "\n",
       "    .dataframe tbody tr th {\n",
       "        vertical-align: top;\n",
       "    }\n",
       "\n",
       "    .dataframe thead th {\n",
       "        text-align: right;\n",
       "    }\n",
       "</style>\n",
       "<table border=\"1\" class=\"dataframe\">\n",
       "  <thead>\n",
       "    <tr style=\"text-align: right;\">\n",
       "      <th></th>\n",
       "      <th>mileage</th>\n",
       "      <th>year</th>\n",
       "      <th>price</th>\n",
       "    </tr>\n",
       "  </thead>\n",
       "  <tbody>\n",
       "    <tr>\n",
       "      <th>mileage</th>\n",
       "      <td>1.000000</td>\n",
       "      <td>-0.813246</td>\n",
       "      <td>-0.504513</td>\n",
       "    </tr>\n",
       "    <tr>\n",
       "      <th>year</th>\n",
       "      <td>-0.813246</td>\n",
       "      <td>1.000000</td>\n",
       "      <td>0.583965</td>\n",
       "    </tr>\n",
       "    <tr>\n",
       "      <th>price</th>\n",
       "      <td>-0.504513</td>\n",
       "      <td>0.583965</td>\n",
       "      <td>1.000000</td>\n",
       "    </tr>\n",
       "  </tbody>\n",
       "</table>\n",
       "</div>"
      ],
      "text/plain": [
       "          mileage      year     price\n",
       "mileage  1.000000 -0.813246 -0.504513\n",
       "year    -0.813246  1.000000  0.583965\n",
       "price   -0.504513  0.583965  1.000000"
      ]
     },
     "execution_count": 84,
     "metadata": {},
     "output_type": "execute_result"
    }
   ],
   "source": [
    "pdf4.corr()\n"
   ]
  },
  {
   "cell_type": "code",
   "execution_count": 85,
   "metadata": {
    "collapsed": false,
    "jupyter": {
     "outputs_hidden": false
    }
   },
   "outputs": [
    {
     "data": {
      "text/plain": [
       "<seaborn.axisgrid.JointGrid at 0x7f19e72337f0>"
      ]
     },
     "execution_count": 85,
     "metadata": {},
     "output_type": "execute_result"
    },
    {
     "data": {
      "image/png": "[encoded data removed]",
      "text/plain": [
       "<Figure size 432x432 with 3 Axes>"
      ]
     },
     "metadata": {
      "needs_background": "light"
     },
     "output_type": "display_data"
    }
   ],
   "source": [
    "sns.jointplot(x=\"year\", y=\"price\", data=pdf4)"
   ]
  },
  {
   "cell_type": "code",
   "execution_count": 86,
   "metadata": {
    "collapsed": false,
    "jupyter": {
     "outputs_hidden": false
    }
   },
   "outputs": [
    {
     "data": {
      "text/plain": [
       "<seaborn.axisgrid.JointGrid at 0x7f19e38683a0>"
      ]
     },
     "execution_count": 86,
     "metadata": {},
     "output_type": "execute_result"
    },
    {
     "data": {
      "image/png": "[encoded data removed]",
      "text/plain": [
       "<Figure size 432x432 with 3 Axes>"
      ]
     },
     "metadata": {
      "needs_background": "light"
     },
     "output_type": "display_data"
    }
   ],
   "source": [
    "sns.jointplot(x=\"year\", y=\"mileage\", data=pdf4)"
   ]
  },
  {
   "cell_type": "markdown",
   "metadata": {},
   "source": [
    "### Ahora haremos una regresión lineal"
   ]
  },
  {
   "cell_type": "code",
   "execution_count": 87,
   "metadata": {
    "tags": []
   },
   "outputs": [],
   "source": [
    "#hacemos la lectura de nuestro dataset\n",
    "bd5 = sqlContext.read.format(\n",
    "    \"com.databricks.spark.csv\"\n",
    ").option(\"header\", \"true\").load(\"audi.csv\", inferSchema=True)\n",
    "sqlContext.registerDataFrameAsTable(bd5, \"bd5\")"
   ]
  },
  {
   "cell_type": "code",
   "execution_count": 88,
   "metadata": {
    "collapsed": false,
    "jupyter": {
     "outputs_hidden": false
    }
   },
   "outputs": [
    {
     "data": {
      "text/plain": [
       "['model',\n",
       " 'year',\n",
       " 'price',\n",
       " 'transmission',\n",
       " 'mileage',\n",
       " 'fuelType',\n",
       " 'tax',\n",
       " 'mpg',\n",
       " 'engineSize']"
      ]
     },
     "execution_count": 88,
     "metadata": {},
     "output_type": "execute_result"
    }
   ],
   "source": [
    "bd5.columns"
   ]
  },
  {
   "cell_type": "code",
   "execution_count": 89,
   "metadata": {
    "collapsed": false,
    "jupyter": {
     "outputs_hidden": false
    }
   },
   "outputs": [
    {
     "data": {
      "text/html": [
       "<div>\n",
       "<style scoped>\n",
       "    .dataframe tbody tr th:only-of-type {\n",
       "        vertical-align: middle;\n",
       "    }\n",
       "\n",
       "    .dataframe tbody tr th {\n",
       "        vertical-align: top;\n",
       "    }\n",
       "\n",
       "    .dataframe thead th {\n",
       "        text-align: right;\n",
       "    }\n",
       "</style>\n",
       "<table border=\"1\" class=\"dataframe\">\n",
       "  <thead>\n",
       "    <tr style=\"text-align: right;\">\n",
       "      <th></th>\n",
       "      <th>year</th>\n",
       "      <th>price</th>\n",
       "      <th>mileage</th>\n",
       "      <th>tax</th>\n",
       "      <th>mpg</th>\n",
       "      <th>engineSize</th>\n",
       "    </tr>\n",
       "  </thead>\n",
       "  <tbody>\n",
       "    <tr>\n",
       "      <th>year</th>\n",
       "      <td>1.000000</td>\n",
       "      <td>0.583965</td>\n",
       "      <td>-0.813246</td>\n",
       "      <td>0.188819</td>\n",
       "      <td>-0.445088</td>\n",
       "      <td>0.047624</td>\n",
       "    </tr>\n",
       "    <tr>\n",
       "      <th>price</th>\n",
       "      <td>0.583965</td>\n",
       "      <td>1.000000</td>\n",
       "      <td>-0.504513</td>\n",
       "      <td>0.332986</td>\n",
       "      <td>-0.625900</td>\n",
       "      <td>0.641844</td>\n",
       "    </tr>\n",
       "    <tr>\n",
       "      <th>mileage</th>\n",
       "      <td>-0.813246</td>\n",
       "      <td>-0.504513</td>\n",
       "      <td>1.000000</td>\n",
       "      <td>-0.163762</td>\n",
       "      <td>0.414697</td>\n",
       "      <td>0.039397</td>\n",
       "    </tr>\n",
       "    <tr>\n",
       "      <th>tax</th>\n",
       "      <td>0.188819</td>\n",
       "      <td>0.332986</td>\n",
       "      <td>-0.163762</td>\n",
       "      <td>1.000000</td>\n",
       "      <td>-0.675543</td>\n",
       "      <td>0.341454</td>\n",
       "    </tr>\n",
       "    <tr>\n",
       "      <th>mpg</th>\n",
       "      <td>-0.445088</td>\n",
       "      <td>-0.625900</td>\n",
       "      <td>0.414697</td>\n",
       "      <td>-0.675543</td>\n",
       "      <td>1.000000</td>\n",
       "      <td>-0.376746</td>\n",
       "    </tr>\n",
       "    <tr>\n",
       "      <th>engineSize</th>\n",
       "      <td>0.047624</td>\n",
       "      <td>0.641844</td>\n",
       "      <td>0.039397</td>\n",
       "      <td>0.341454</td>\n",
       "      <td>-0.376746</td>\n",
       "      <td>1.000000</td>\n",
       "    </tr>\n",
       "  </tbody>\n",
       "</table>\n",
       "</div>"
      ],
      "text/plain": [
       "                year     price   mileage       tax       mpg  engineSize\n",
       "year        1.000000  0.583965 -0.813246  0.188819 -0.445088    0.047624\n",
       "price       0.583965  1.000000 -0.504513  0.332986 -0.625900    0.641844\n",
       "mileage    -0.813246 -0.504513  1.000000 -0.163762  0.414697    0.039397\n",
       "tax         0.188819  0.332986 -0.163762  1.000000 -0.675543    0.341454\n",
       "mpg        -0.445088 -0.625900  0.414697 -0.675543  1.000000   -0.376746\n",
       "engineSize  0.047624  0.641844  0.039397  0.341454 -0.376746    1.000000"
      ]
     },
     "execution_count": 89,
     "metadata": {},
     "output_type": "execute_result"
    }
   ],
   "source": [
    "pdf4 = bd5.sample(False, 0.1, 0).select('model','year','price','transmission','mileage','tax','mpg', 'engineSize').toPandas()\n",
    "pdf4.corr()"
   ]
  },
  {
   "cell_type": "code",
   "execution_count": 90,
   "metadata": {
    "collapsed": false,
    "jupyter": {
     "outputs_hidden": false
    }
   },
   "outputs": [
    {
     "data": {
      "text/plain": [
       "<seaborn.axisgrid.JointGrid at 0x7f1a44577490>"
      ]
     },
     "execution_count": 90,
     "metadata": {},
     "output_type": "execute_result"
    },
    {
     "data": {
      "image/png": "[encoded data removed]",
      "text/plain": [
       "<Figure size 432x432 with 3 Axes>"
      ]
     },
     "metadata": {
      "needs_background": "light"
     },
     "output_type": "display_data"
    }
   ],
   "source": [
    "import seaborn as sns\n",
    "%matplotlib inline\n",
    "sns.jointplot(x=\"engineSize\", y=\"price\", data=pdf4)"
   ]
  },
  {
   "cell_type": "code",
   "execution_count": null,
   "metadata": {
    "collapsed": true,
    "jupyter": {
     "outputs_hidden": true
    }
   },
   "outputs": [],
   "source": []
  },
  {
   "cell_type": "code",
   "execution_count": 91,
   "metadata": {
    "collapsed": false,
    "jupyter": {
     "outputs_hidden": false
    }
   },
   "outputs": [
    {
     "name": "stdout",
     "output_type": "stream",
     "text": [
      "+-----+---------+\n",
      "|label| features|\n",
      "+-----+---------+\n",
      "|  1.4|[12500.0]|\n",
      "|  2.0|[16500.0]|\n",
      "|  1.4|[11000.0]|\n",
      "|  2.0|[16800.0]|\n",
      "|  1.0|[17300.0]|\n",
      "|  1.4|[13900.0]|\n",
      "|  2.0|[13250.0]|\n",
      "|  2.0|[11750.0]|\n",
      "|  1.4|[10200.0]|\n",
      "|  1.4|[12000.0]|\n",
      "|  1.4|[16100.0]|\n",
      "|  2.0|[16500.0]|\n",
      "|  2.0|[17000.0]|\n",
      "|  1.4|[16400.0]|\n",
      "|  2.0|[15400.0]|\n",
      "|  1.4|[14500.0]|\n",
      "|  2.0|[15700.0]|\n",
      "|  1.4|[13900.0]|\n",
      "|  2.0|[19000.0]|\n",
      "|  1.4|[17000.0]|\n",
      "+-----+---------+\n",
      "only showing top 20 rows\n",
      "\n"
     ]
    }
   ],
   "source": [
    "from pyspark.ml.feature import VectorAssembler\n",
    "from pyspark.sql.functions import col\n",
    "\n",
    "assembler = VectorAssembler(\n",
    "    inputCols=['price'],\n",
    "    outputCol='features')\n",
    "\n",
    "bd6 = assembler.transform(bd5).select(col(\"engineSize\").alias(\"label\"),'features')\n",
    "bd6.show()"
   ]
  },
  {
   "cell_type": "code",
   "execution_count": null,
   "metadata": {
    "collapsed": true,
    "jupyter": {
     "outputs_hidden": true
    }
   },
   "outputs": [],
   "source": []
  },
  {
   "cell_type": "code",
   "execution_count": 92,
   "metadata": {
    "collapsed": false,
    "jupyter": {
     "outputs_hidden": false
    }
   },
   "outputs": [
    {
     "name": "stderr",
     "output_type": "stream",
     "text": [
      "21/12/17 23:40:22 WARN Instrumentation: [1d0bf971] regParam is zero, which might cause numerical instability and overfitting.\n",
      "21/12/17 23:40:22 WARN InstanceBuilder$NativeBLAS: Failed to load implementation from:dev.ludovic.netlib.blas.JNIBLAS\n",
      "21/12/17 23:40:22 WARN InstanceBuilder$NativeBLAS: Failed to load implementation from:dev.ludovic.netlib.blas.ForeignLinkerBLAS\n",
      "21/12/17 23:40:22 WARN InstanceBuilder$NativeLAPACK: Failed to load implementation from:dev.ludovic.netlib.lapack.JNILAPACK\n"
     ]
    }
   ],
   "source": [
    "from pyspark.ml.regression import LinearRegression\n",
    "lr = LinearRegression()\n",
    "model = lr.fit(bd6)\n",
    "pred = model.transform(bd6)"
   ]
  },
  {
   "cell_type": "code",
   "execution_count": 93,
   "metadata": {
    "collapsed": false,
    "jupyter": {
     "outputs_hidden": false
    }
   },
   "outputs": [
    {
     "name": "stdout",
     "output_type": "stream",
     "text": [
      "1.2339185316214902 [3.043192185234333e-05]\n"
     ]
    }
   ],
   "source": [
    "print(model.intercept,model.coefficients)"
   ]
  },
  {
   "cell_type": "markdown",
   "metadata": {},
   "source": [
    "#### EL MODELO PREDICTIVO QUEDARIA\n",
    "    - engineSize = 1.234 + 3.043192*price + error\n"
   ]
  },
  {
   "cell_type": "code",
   "execution_count": null,
   "metadata": {
    "collapsed": true,
    "jupyter": {
     "outputs_hidden": true
    }
   },
   "outputs": [],
   "source": []
  },
  {
   "cell_type": "code",
   "execution_count": 94,
   "metadata": {
    "collapsed": false,
    "jupyter": {
     "outputs_hidden": false
    }
   },
   "outputs": [
    {
     "name": "stdout",
     "output_type": "stream",
     "text": [
      "+-----+---------+------------------+--------------------+\n",
      "|label| features|        prediction|            residual|\n",
      "+-----+---------+------------------+--------------------+\n",
      "|  1.4|[12500.0]|1.6143175547757818|-0.21431755477578185|\n",
      "|  2.0|[16500.0]|1.7360452421851553|  0.2639547578148447|\n",
      "|  1.4|[11000.0]|1.5686696719972668| -0.1686696719972669|\n",
      "|  2.0|[16800.0]|1.7451748187408582|  0.2548251812591418|\n",
      "|  1.0|[17300.0]|1.7603907796670297| -0.7603907796670297|\n",
      "|  1.4|[13900.0]|1.6569222453690626| -0.2569222453690627|\n",
      "|  2.0|[13250.0]|1.6371414961650395| 0.36285850383496054|\n",
      "|  2.0|[11750.0]|1.5914936133865243|  0.4085063866134757|\n",
      "|  1.4|[10200.0]|1.5443241345153922|-0.14432413451539228|\n",
      "|  1.4|[12000.0]|1.5991015938496103|-0.19910159384961035|\n",
      "|  1.4|[16100.0]| 1.723872473444218|  -0.323872473444218|\n",
      "|  2.0|[16500.0]|1.7360452421851553|  0.2639547578148447|\n",
      "|  2.0|[17000.0]|1.7512612031113268| 0.24873879688867317|\n",
      "|  1.4|[16400.0]|1.7330020499999208| -0.3330020499999209|\n",
      "|  2.0|[15400.0]|1.7025701281475776|  0.2974298718524224|\n",
      "|  1.4|[14500.0]|1.6751813984804684| -0.2751813984804685|\n",
      "|  2.0|[15700.0]|1.7116997047032805|  0.2883002952967195|\n",
      "|  1.4|[13900.0]|1.6569222453690626| -0.2569222453690627|\n",
      "|  2.0|[19000.0]|1.8121250468160135|  0.1878749531839865|\n",
      "|  1.4|[17000.0]|1.7512612031113268| -0.3512612031113269|\n",
      "+-----+---------+------------------+--------------------+\n",
      "only showing top 20 rows\n",
      "\n"
     ]
    }
   ],
   "source": [
    "pred = pred.withColumn('residual', pred.label-pred.prediction)\n",
    "pred.show()"
   ]
  },
  {
   "cell_type": "code",
   "execution_count": 95,
   "metadata": {
    "collapsed": false,
    "jupyter": {
     "outputs_hidden": false
    }
   },
   "outputs": [
    {
     "data": {
      "text/plain": [
       "<seaborn.axisgrid.JointGrid at 0x7f19e32d41c0>"
      ]
     },
     "execution_count": 95,
     "metadata": {},
     "output_type": "execute_result"
    },
    {
     "data": {
      "image/png": "[encoded data removed]",
      "text/plain": [
       "<Figure size 432x432 with 3 Axes>"
      ]
     },
     "metadata": {
      "needs_background": "light"
     },
     "output_type": "display_data"
    }
   ],
   "source": [
    "pdpred = pred.toPandas()\n",
    "sns.jointplot(x=\"prediction\", y=\"label\", data=pdpred)"
   ]
  },
  {
   "cell_type": "code",
   "execution_count": 96,
   "metadata": {
    "collapsed": false,
    "jupyter": {
     "outputs_hidden": false
    }
   },
   "outputs": [
    {
     "data": {
      "text/plain": [
       "<seaborn.axisgrid.JointGrid at 0x7f19e3871250>"
      ]
     },
     "execution_count": 96,
     "metadata": {},
     "output_type": "execute_result"
    },
    {
     "data": {
      "image/png": "[encoded data removed]",
      "text/plain": [
       "<Figure size 432x432 with 3 Axes>"
      ]
     },
     "metadata": {
      "needs_background": "light"
     },
     "output_type": "display_data"
    }
   ],
   "source": [
    "#haciendo intercambio de variables\n",
    "sns.jointplot(x=\"label\", y=\"prediction\", data=pdpred)"
   ]
  },
  {
   "cell_type": "code",
   "execution_count": null,
   "metadata": {
    "collapsed": true,
    "jupyter": {
     "outputs_hidden": true
    }
   },
   "outputs": [],
   "source": []
  },
  {
   "cell_type": "code",
   "execution_count": 97,
   "metadata": {
    "collapsed": false,
    "jupyter": {
     "outputs_hidden": false
    }
   },
   "outputs": [
    {
     "data": {
      "text/plain": [
       "<seaborn.axisgrid.JointGrid at 0x7f19e0cffbe0>"
      ]
     },
     "execution_count": 97,
     "metadata": {},
     "output_type": "execute_result"
    },
    {
     "data": {
      "image/png": "[encoded data removed]",
      "text/plain": [
       "<Figure size 432x432 with 3 Axes>"
      ]
     },
     "metadata": {
      "needs_background": "light"
     },
     "output_type": "display_data"
    }
   ],
   "source": [
    "sns.jointplot(x=\"prediction\", y=\"residual\", data=pdpred)"
   ]
  },
  {
   "cell_type": "code",
   "execution_count": 98,
   "metadata": {
    "collapsed": false,
    "jupyter": {
     "outputs_hidden": false
    }
   },
   "outputs": [
    {
     "name": "stdout",
     "output_type": "stream",
     "text": [
      "0.4862495857473535\n",
      "0.34959033035574005\n"
     ]
    }
   ],
   "source": [
    "from pyspark.ml.evaluation import RegressionEvaluator\n",
    "\n",
    "print(RegressionEvaluator(metricName=\"rmse\").evaluate(pred))\n",
    "print(RegressionEvaluator(metricName=\"r2\").evaluate(pred))"
   ]
  },
  {
   "cell_type": "markdown",
   "metadata": {},
   "source": [
    "## Creación de varibles nuevas o feature extration"
   ]
  },
  {
   "cell_type": "code",
   "execution_count": 99,
   "metadata": {
    "collapsed": false,
    "jupyter": {
     "outputs_hidden": false
    }
   },
   "outputs": [],
   "source": [
    "bd5 = sqlContext.read.format(\n",
    "    \"com.databricks.spark.csv\"\n",
    ").option(\"header\", \"true\").load(\"audi.csv\", inferSchema=True)\n",
    "sqlContext.registerDataFrameAsTable(bd5, \"bd5\")"
   ]
  },
  {
   "cell_type": "code",
   "execution_count": 100,
   "metadata": {
    "collapsed": false,
    "jupyter": {
     "outputs_hidden": false
    }
   },
   "outputs": [],
   "source": [
    "# Variables Dummy \n",
    "bd5 = bd5.withColumn('Automatic',(bd5.transmission=='Automatic') \n",
    ").withColumn('Manual',(bd5.transmission=='Manual'))"
   ]
  },
  {
   "cell_type": "code",
   "execution_count": 101,
   "metadata": {
    "collapsed": false,
    "jupyter": {
     "outputs_hidden": false
    }
   },
   "outputs": [
    {
     "data": {
      "text/html": [
       "<div>\n",
       "<style scoped>\n",
       "    .dataframe tbody tr th:only-of-type {\n",
       "        vertical-align: middle;\n",
       "    }\n",
       "\n",
       "    .dataframe tbody tr th {\n",
       "        vertical-align: top;\n",
       "    }\n",
       "\n",
       "    .dataframe thead th {\n",
       "        text-align: right;\n",
       "    }\n",
       "</style>\n",
       "<table border=\"1\" class=\"dataframe\">\n",
       "  <thead>\n",
       "    <tr style=\"text-align: right;\">\n",
       "      <th></th>\n",
       "      <th>model</th>\n",
       "      <th>year</th>\n",
       "      <th>price</th>\n",
       "      <th>transmission</th>\n",
       "      <th>mileage</th>\n",
       "      <th>fuelType</th>\n",
       "      <th>tax</th>\n",
       "      <th>mpg</th>\n",
       "      <th>engineSize</th>\n",
       "      <th>Automatic</th>\n",
       "      <th>Manual</th>\n",
       "    </tr>\n",
       "  </thead>\n",
       "  <tbody>\n",
       "    <tr>\n",
       "      <th>0</th>\n",
       "      <td>A1</td>\n",
       "      <td>2017</td>\n",
       "      <td>12500</td>\n",
       "      <td>Manual</td>\n",
       "      <td>15735</td>\n",
       "      <td>Petrol</td>\n",
       "      <td>150</td>\n",
       "      <td>55.4</td>\n",
       "      <td>1.4</td>\n",
       "      <td>False</td>\n",
       "      <td>True</td>\n",
       "    </tr>\n",
       "    <tr>\n",
       "      <th>1</th>\n",
       "      <td>A6</td>\n",
       "      <td>2016</td>\n",
       "      <td>16500</td>\n",
       "      <td>Automatic</td>\n",
       "      <td>36203</td>\n",
       "      <td>Diesel</td>\n",
       "      <td>20</td>\n",
       "      <td>64.2</td>\n",
       "      <td>2.0</td>\n",
       "      <td>True</td>\n",
       "      <td>False</td>\n",
       "    </tr>\n",
       "    <tr>\n",
       "      <th>2</th>\n",
       "      <td>A1</td>\n",
       "      <td>2016</td>\n",
       "      <td>11000</td>\n",
       "      <td>Manual</td>\n",
       "      <td>29946</td>\n",
       "      <td>Petrol</td>\n",
       "      <td>30</td>\n",
       "      <td>55.4</td>\n",
       "      <td>1.4</td>\n",
       "      <td>False</td>\n",
       "      <td>True</td>\n",
       "    </tr>\n",
       "    <tr>\n",
       "      <th>3</th>\n",
       "      <td>A4</td>\n",
       "      <td>2017</td>\n",
       "      <td>16800</td>\n",
       "      <td>Automatic</td>\n",
       "      <td>25952</td>\n",
       "      <td>Diesel</td>\n",
       "      <td>145</td>\n",
       "      <td>67.3</td>\n",
       "      <td>2.0</td>\n",
       "      <td>True</td>\n",
       "      <td>False</td>\n",
       "    </tr>\n",
       "    <tr>\n",
       "      <th>4</th>\n",
       "      <td>A3</td>\n",
       "      <td>2019</td>\n",
       "      <td>17300</td>\n",
       "      <td>Manual</td>\n",
       "      <td>1998</td>\n",
       "      <td>Petrol</td>\n",
       "      <td>145</td>\n",
       "      <td>49.6</td>\n",
       "      <td>1.0</td>\n",
       "      <td>False</td>\n",
       "      <td>True</td>\n",
       "    </tr>\n",
       "    <tr>\n",
       "      <th>...</th>\n",
       "      <td>...</td>\n",
       "      <td>...</td>\n",
       "      <td>...</td>\n",
       "      <td>...</td>\n",
       "      <td>...</td>\n",
       "      <td>...</td>\n",
       "      <td>...</td>\n",
       "      <td>...</td>\n",
       "      <td>...</td>\n",
       "      <td>...</td>\n",
       "      <td>...</td>\n",
       "    </tr>\n",
       "    <tr>\n",
       "      <th>10663</th>\n",
       "      <td>A3</td>\n",
       "      <td>2020</td>\n",
       "      <td>16999</td>\n",
       "      <td>Manual</td>\n",
       "      <td>4018</td>\n",
       "      <td>Petrol</td>\n",
       "      <td>145</td>\n",
       "      <td>49.6</td>\n",
       "      <td>1.0</td>\n",
       "      <td>False</td>\n",
       "      <td>True</td>\n",
       "    </tr>\n",
       "    <tr>\n",
       "      <th>10664</th>\n",
       "      <td>A3</td>\n",
       "      <td>2020</td>\n",
       "      <td>16999</td>\n",
       "      <td>Manual</td>\n",
       "      <td>1978</td>\n",
       "      <td>Petrol</td>\n",
       "      <td>150</td>\n",
       "      <td>49.6</td>\n",
       "      <td>1.0</td>\n",
       "      <td>False</td>\n",
       "      <td>True</td>\n",
       "    </tr>\n",
       "    <tr>\n",
       "      <th>10665</th>\n",
       "      <td>A3</td>\n",
       "      <td>2020</td>\n",
       "      <td>17199</td>\n",
       "      <td>Manual</td>\n",
       "      <td>609</td>\n",
       "      <td>Petrol</td>\n",
       "      <td>150</td>\n",
       "      <td>49.6</td>\n",
       "      <td>1.0</td>\n",
       "      <td>False</td>\n",
       "      <td>True</td>\n",
       "    </tr>\n",
       "    <tr>\n",
       "      <th>10666</th>\n",
       "      <td>Q3</td>\n",
       "      <td>2017</td>\n",
       "      <td>19499</td>\n",
       "      <td>Automatic</td>\n",
       "      <td>8646</td>\n",
       "      <td>Petrol</td>\n",
       "      <td>150</td>\n",
       "      <td>47.9</td>\n",
       "      <td>1.4</td>\n",
       "      <td>True</td>\n",
       "      <td>False</td>\n",
       "    </tr>\n",
       "    <tr>\n",
       "      <th>10667</th>\n",
       "      <td>Q3</td>\n",
       "      <td>2016</td>\n",
       "      <td>15999</td>\n",
       "      <td>Manual</td>\n",
       "      <td>11855</td>\n",
       "      <td>Petrol</td>\n",
       "      <td>150</td>\n",
       "      <td>47.9</td>\n",
       "      <td>1.4</td>\n",
       "      <td>False</td>\n",
       "      <td>True</td>\n",
       "    </tr>\n",
       "  </tbody>\n",
       "</table>\n",
       "<p>10668 rows × 11 columns</p>\n",
       "</div>"
      ],
      "text/plain": [
       "      model  year  price transmission  mileage fuelType  tax   mpg  \\\n",
       "0        A1  2017  12500       Manual    15735   Petrol  150  55.4   \n",
       "1        A6  2016  16500    Automatic    36203   Diesel   20  64.2   \n",
       "2        A1  2016  11000       Manual    29946   Petrol   30  55.4   \n",
       "3        A4  2017  16800    Automatic    25952   Diesel  145  67.3   \n",
       "4        A3  2019  17300       Manual     1998   Petrol  145  49.6   \n",
       "...     ...   ...    ...          ...      ...      ...  ...   ...   \n",
       "10663    A3  2020  16999       Manual     4018   Petrol  145  49.6   \n",
       "10664    A3  2020  16999       Manual     1978   Petrol  150  49.6   \n",
       "10665    A3  2020  17199       Manual      609   Petrol  150  49.6   \n",
       "10666    Q3  2017  19499    Automatic     8646   Petrol  150  47.9   \n",
       "10667    Q3  2016  15999       Manual    11855   Petrol  150  47.9   \n",
       "\n",
       "       engineSize  Automatic  Manual  \n",
       "0             1.4      False    True  \n",
       "1             2.0       True   False  \n",
       "2             1.4      False    True  \n",
       "3             2.0       True   False  \n",
       "4             1.0      False    True  \n",
       "...           ...        ...     ...  \n",
       "10663         1.0      False    True  \n",
       "10664         1.0      False    True  \n",
       "10665         1.0      False    True  \n",
       "10666         1.4       True   False  \n",
       "10667         1.4      False    True  \n",
       "\n",
       "[10668 rows x 11 columns]"
      ]
     },
     "execution_count": 101,
     "metadata": {},
     "output_type": "execute_result"
    }
   ],
   "source": [
    "d2=bd5.toPandas()\n",
    "d2"
   ]
  },
  {
   "cell_type": "code",
   "execution_count": 102,
   "metadata": {
    "collapsed": false,
    "jupyter": {
     "outputs_hidden": false
    }
   },
   "outputs": [
    {
     "data": {
      "text/plain": [
       "Row(model=' A1', year=2017, price=12500, transmission='Manual', mileage=15735, fuelType='Petrol', tax=150, mpg=55.4, engineSize=1.4, Automatic=False, Manual=True, SalidaBin=1.0)"
      ]
     },
     "execution_count": 102,
     "metadata": {},
     "output_type": "execute_result"
    }
   ],
   "source": [
    "# Variables discretizadas binarias\n",
    "from pyspark.ml.feature import Binarizer\n",
    "binarizer = Binarizer(threshold=1.0, inputCol='engineSize', outputCol='SalidaBin')\n",
    "binarizer.transform(bd5).head()"
   ]
  },
  {
   "cell_type": "code",
   "execution_count": 103,
   "metadata": {
    "collapsed": false,
    "jupyter": {
     "outputs_hidden": false
    }
   },
   "outputs": [
    {
     "name": "stdout",
     "output_type": "stream",
     "text": [
      "+----------+---------+\n",
      "|engineSize|SalidaBin|\n",
      "+----------+---------+\n",
      "|       1.4|      1.0|\n",
      "|       2.0|      1.0|\n",
      "|       1.4|      1.0|\n",
      "|       2.0|      1.0|\n",
      "|       1.0|      0.0|\n",
      "|       1.4|      1.0|\n",
      "|       2.0|      1.0|\n",
      "|       2.0|      1.0|\n",
      "|       1.4|      1.0|\n",
      "|       1.4|      1.0|\n",
      "|       1.4|      1.0|\n",
      "|       2.0|      1.0|\n",
      "|       2.0|      1.0|\n",
      "|       1.4|      1.0|\n",
      "|       2.0|      1.0|\n",
      "|       1.4|      1.0|\n",
      "|       2.0|      1.0|\n",
      "|       1.4|      1.0|\n",
      "|       2.0|      1.0|\n",
      "|       1.4|      1.0|\n",
      "+----------+---------+\n",
      "only showing top 20 rows\n",
      "\n"
     ]
    }
   ],
   "source": [
    "binarizer.transform(bd5).select('engineSize','SalidaBin').show()"
   ]
  },
  {
   "cell_type": "code",
   "execution_count": 104,
   "metadata": {
    "collapsed": false,
    "jupyter": {
     "outputs_hidden": false
    }
   },
   "outputs": [
    {
     "name": "stdout",
     "output_type": "stream",
     "text": [
      "+----------+---------+\n",
      "|engineSize|SalidaCat|\n",
      "+----------+---------+\n",
      "|       1.4|      2.0|\n",
      "|       2.0|      2.0|\n",
      "|       1.4|      2.0|\n",
      "|       2.0|      2.0|\n",
      "|       1.0|      1.0|\n",
      "|       1.4|      2.0|\n",
      "|       2.0|      2.0|\n",
      "|       2.0|      2.0|\n",
      "|       1.4|      2.0|\n",
      "|       1.4|      2.0|\n",
      "|       1.4|      2.0|\n",
      "|       2.0|      2.0|\n",
      "|       2.0|      2.0|\n",
      "|       1.4|      2.0|\n",
      "|       2.0|      2.0|\n",
      "|       1.4|      2.0|\n",
      "|       2.0|      2.0|\n",
      "|       1.4|      2.0|\n",
      "|       2.0|      2.0|\n",
      "|       1.4|      2.0|\n",
      "+----------+---------+\n",
      "only showing top 20 rows\n",
      "\n"
     ]
    }
   ],
   "source": [
    "# VAriables discretizadas en buckets\n",
    "from pyspark.ml.feature import Bucketizer\n",
    "bucketizer = Bucketizer(splits=[-float(\"inf\"), 1.0,1.4, float(\"inf\")],\n",
    "                        inputCol='engineSize', outputCol='SalidaCat')\n",
    "bucketizer.transform(bd5).select('engineSize','SalidaCat').show()"
   ]
  },
  {
   "cell_type": "code",
   "execution_count": 105,
   "metadata": {
    "collapsed": false,
    "jupyter": {
     "outputs_hidden": false
    }
   },
   "outputs": [
    {
     "data": {
      "text/plain": [
       "[Row(engineSize=1.4, mpg=55.4, Polyn=DenseVector([1.4, 1.96, 55.4, 77.56, 3069.16])),\n",
       " Row(engineSize=2.0, mpg=64.2, Polyn=DenseVector([2.0, 4.0, 64.2, 128.4, 4121.64])),\n",
       " Row(engineSize=1.4, mpg=55.4, Polyn=DenseVector([1.4, 1.96, 55.4, 77.56, 3069.16])),\n",
       " Row(engineSize=2.0, mpg=67.3, Polyn=DenseVector([2.0, 4.0, 67.3, 134.6, 4529.29])),\n",
       " Row(engineSize=1.0, mpg=49.6, Polyn=DenseVector([1.0, 1.0, 49.6, 49.6, 2460.16]))]"
      ]
     },
     "execution_count": 105,
     "metadata": {},
     "output_type": "execute_result"
    }
   ],
   "source": [
    "#Expansión polinomica de las variables\n",
    "from pyspark.ml.feature import VectorAssembler\n",
    "from pyspark.ml.feature import PolynomialExpansion\n",
    "\n",
    "assembler = VectorAssembler(\n",
    "    inputCols=['engineSize','mpg'],\n",
    "    outputCol='features')\n",
    "\n",
    "px = PolynomialExpansion(\n",
    "    degree=2, \n",
    "    inputCol=\"features\", \n",
    "    outputCol=\"Polyn\")\n",
    "\n",
    "bd6 = px.transform(assembler.transform(bd5))\n",
    "\n",
    "bd6.select('engineSize','mpg','Polyn').head(5)"
   ]
  },
  {
   "cell_type": "code",
   "execution_count": 106,
   "metadata": {
    "collapsed": false,
    "jupyter": {
     "outputs_hidden": false
    }
   },
   "outputs": [
    {
     "name": "stdout",
     "output_type": "stream",
     "text": [
      "+----------+--------------------+\n",
      "|  features|         stdfeatures|\n",
      "+----------+--------------------+\n",
      "|[1.4,55.4]|[-0.8801771097229...|\n",
      "|[2.0,64.2]|[0.11491926655135...|\n",
      "|[1.4,55.4]|[-0.8801771097229...|\n",
      "|[2.0,67.3]|[0.11491926655135...|\n",
      "|[1.0,49.6]|[-1.5435746939057...|\n",
      "|[1.4,58.9]|[-0.8801771097229...|\n",
      "|[2.0,61.4]|[0.11491926655135...|\n",
      "|[2.0,70.6]|[0.11491926655135...|\n",
      "|[1.4,60.1]|[-0.8801771097229...|\n",
      "|[1.4,55.4]|[-0.8801771097229...|\n",
      "|[1.4,58.9]|[-0.8801771097229...|\n",
      "|[2.0,57.6]|[0.11491926655135...|\n",
      "|[2.0,52.3]|[0.11491926655135...|\n",
      "|[1.4,58.9]|[-0.8801771097229...|\n",
      "|[2.0,61.4]|[0.11491926655135...|\n",
      "|[1.4,58.9]|[-0.8801771097229...|\n",
      "|[2.0,53.3]|[0.11491926655135...|\n",
      "|[1.4,56.5]|[-0.8801771097229...|\n",
      "|[2.0,47.1]|[0.11491926655135...|\n",
      "|[1.4,47.9]|[-0.8801771097229...|\n",
      "+----------+--------------------+\n",
      "only showing top 20 rows\n",
      "\n"
     ]
    }
   ],
   "source": [
    "#TAmbien  podemos hacer una estandarización de variables\n",
    "from pyspark.ml.feature import StandardScaler\n",
    "\n",
    "scaler = StandardScaler(inputCol=\"features\", outputCol=\"stdfeatures\",\n",
    "                        withStd=True, withMean=True)\n",
    "scalerModel = scaler.fit(bd6)\n",
    "bd6std = scalerModel.transform(bd6)\n",
    "\n",
    "bd6std.select('features','stdfeatures').show()\n"
   ]
  },
  {
   "cell_type": "markdown",
   "metadata": {},
   "source": [
    "### Regresión multipe\n",
    "\n"
   ]
  },
  {
   "cell_type": "code",
   "execution_count": 78,
   "metadata": {
    "tags": []
   },
   "outputs": [],
   "source": [
    "#Realizamos la lectura de nuestro dataframe\n",
    "bd5 = sqlContext.read.format(\n",
    "    \"com.databricks.spark.csv\"\n",
    ").option(\"header\", \"true\").load(\"audi.csv\", inferSchema=True)\n",
    "sqlContext.registerDataFrameAsTable(bd5, \"bd5\")"
   ]
  },
  {
   "cell_type": "code",
   "execution_count": 108,
   "metadata": {
    "collapsed": false,
    "jupyter": {
     "outputs_hidden": false
    }
   },
   "outputs": [],
   "source": [
    "#hacemos nuestra transformación\n",
    "bd5 = bd5.withColumn('Automatic',(bd5.transmission=='Automatic') \n",
    ").withColumn('Manual',(bd5.transmission=='Manual'))\n",
    "\n",
    "bd5 = bd5.withColumn('mpg2',(bd5.mpg**2)\n",
    ").withColumn('mpg_mileage',(bd5.mpg * bd5.mileage))\n"
   ]
  },
  {
   "cell_type": "code",
   "execution_count": 109,
   "metadata": {
    "collapsed": false,
    "jupyter": {
     "outputs_hidden": false
    }
   },
   "outputs": [
    {
     "data": {
      "text/html": [
       "<div>\n",
       "<style scoped>\n",
       "    .dataframe tbody tr th:only-of-type {\n",
       "        vertical-align: middle;\n",
       "    }\n",
       "\n",
       "    .dataframe tbody tr th {\n",
       "        vertical-align: top;\n",
       "    }\n",
       "\n",
       "    .dataframe thead th {\n",
       "        text-align: right;\n",
       "    }\n",
       "</style>\n",
       "<table border=\"1\" class=\"dataframe\">\n",
       "  <thead>\n",
       "    <tr style=\"text-align: right;\">\n",
       "      <th></th>\n",
       "      <th>price</th>\n",
       "      <th>mpg</th>\n",
       "      <th>mileage</th>\n",
       "      <th>engineSize</th>\n",
       "      <th>mpg2</th>\n",
       "      <th>mpg_mileage</th>\n",
       "    </tr>\n",
       "  </thead>\n",
       "  <tbody>\n",
       "    <tr>\n",
       "      <th>price</th>\n",
       "      <td>1.000000</td>\n",
       "      <td>-0.625900</td>\n",
       "      <td>-0.504513</td>\n",
       "      <td>0.641844</td>\n",
       "      <td>-0.483100</td>\n",
       "      <td>-0.543287</td>\n",
       "    </tr>\n",
       "    <tr>\n",
       "      <th>mpg</th>\n",
       "      <td>-0.625900</td>\n",
       "      <td>1.000000</td>\n",
       "      <td>0.414697</td>\n",
       "      <td>-0.376746</td>\n",
       "      <td>0.937195</td>\n",
       "      <td>0.607405</td>\n",
       "    </tr>\n",
       "    <tr>\n",
       "      <th>mileage</th>\n",
       "      <td>-0.504513</td>\n",
       "      <td>0.414697</td>\n",
       "      <td>1.000000</td>\n",
       "      <td>0.039397</td>\n",
       "      <td>0.339876</td>\n",
       "      <td>0.952638</td>\n",
       "    </tr>\n",
       "    <tr>\n",
       "      <th>engineSize</th>\n",
       "      <td>0.641844</td>\n",
       "      <td>-0.376746</td>\n",
       "      <td>0.039397</td>\n",
       "      <td>1.000000</td>\n",
       "      <td>-0.282691</td>\n",
       "      <td>-0.046114</td>\n",
       "    </tr>\n",
       "    <tr>\n",
       "      <th>mpg2</th>\n",
       "      <td>-0.483100</td>\n",
       "      <td>0.937195</td>\n",
       "      <td>0.339876</td>\n",
       "      <td>-0.282691</td>\n",
       "      <td>1.000000</td>\n",
       "      <td>0.531803</td>\n",
       "    </tr>\n",
       "    <tr>\n",
       "      <th>mpg_mileage</th>\n",
       "      <td>-0.543287</td>\n",
       "      <td>0.607405</td>\n",
       "      <td>0.952638</td>\n",
       "      <td>-0.046114</td>\n",
       "      <td>0.531803</td>\n",
       "      <td>1.000000</td>\n",
       "    </tr>\n",
       "  </tbody>\n",
       "</table>\n",
       "</div>"
      ],
      "text/plain": [
       "                price       mpg   mileage  engineSize      mpg2  mpg_mileage\n",
       "price        1.000000 -0.625900 -0.504513    0.641844 -0.483100    -0.543287\n",
       "mpg         -0.625900  1.000000  0.414697   -0.376746  0.937195     0.607405\n",
       "mileage     -0.504513  0.414697  1.000000    0.039397  0.339876     0.952638\n",
       "engineSize   0.641844 -0.376746  0.039397    1.000000 -0.282691    -0.046114\n",
       "mpg2        -0.483100  0.937195  0.339876   -0.282691  1.000000     0.531803\n",
       "mpg_mileage -0.543287  0.607405  0.952638   -0.046114  0.531803     1.000000"
      ]
     },
     "execution_count": 109,
     "metadata": {},
     "output_type": "execute_result"
    }
   ],
   "source": [
    "pdf7 = bd5.sample(False, 0.1, 0).select('price','mpg','mileage','engineSize','mpg2','mpg_mileage').toPandas()\n",
    "pdf7.corr()"
   ]
  },
  {
   "cell_type": "code",
   "execution_count": 110,
   "metadata": {
    "tags": []
   },
   "outputs": [],
   "source": [
    "#hacemos la configuración para el modelo usando Vector assembres\n",
    "from pyspark.ml.feature import VectorAssembler\n",
    "\n",
    "a1  = VectorAssembler(\n",
    "    inputCols=['mpg','mileage','engineSize','mpg2','mpg_mileage'],\n",
    "    outputCol='features')\n",
    "bd6 = a1.transform(bd5)"
   ]
  },
  {
   "cell_type": "code",
   "execution_count": 111,
   "metadata": {
    "collapsed": false,
    "jupyter": {
     "outputs_hidden": false
    }
   },
   "outputs": [
    {
     "name": "stdout",
     "output_type": "stream",
     "text": [
      "+-------+--------------------+\n",
      "|  label|            features|\n",
      "+-------+--------------------+\n",
      "|12500.0|[55.4,15735.0,1.4...|\n",
      "|16500.0|[64.2,36203.0,2.0...|\n",
      "|11000.0|[55.4,29946.0,1.4...|\n",
      "|16800.0|[67.3,25952.0,2.0...|\n",
      "|17300.0|[49.6,1998.0,1.0,...|\n",
      "|13900.0|[58.9,32260.0,1.4...|\n",
      "|13250.0|[61.4,76788.0,2.0...|\n",
      "|11750.0|[70.6,75185.0,2.0...|\n",
      "|10200.0|[60.1,46112.0,1.4...|\n",
      "|12000.0|[55.4,22451.0,1.4...|\n",
      "|16100.0|[58.9,28955.0,1.4...|\n",
      "|16500.0|[57.6,52198.0,2.0...|\n",
      "|17000.0|[52.3,44915.0,2.0...|\n",
      "|16400.0|[58.9,21695.0,1.4...|\n",
      "|15400.0|[61.4,47348.0,2.0...|\n",
      "|14500.0|[58.9,26156.0,1.4...|\n",
      "|15700.0|[53.3,28396.0,2.0...|\n",
      "|13900.0|[56.5,30516.0,1.4...|\n",
      "|19000.0|[47.1,37652.0,2.0...|\n",
      "|17000.0|[47.9,34110.0,1.4...|\n",
      "+-------+--------------------+\n",
      "only showing top 20 rows\n",
      "\n"
     ]
    }
   ],
   "source": [
    "from pyspark.sql.functions import col\n",
    "\n",
    "bd6 = bd6.select(col('price').cast(\"double\").alias(\"label\"),'features')\n",
    "bd6.show()"
   ]
  },
  {
   "cell_type": "code",
   "execution_count": 112,
   "metadata": {
    "collapsed": false,
    "jupyter": {
     "outputs_hidden": false
    }
   },
   "outputs": [
    {
     "name": "stderr",
     "output_type": "stream",
     "text": [
      "21/12/17 23:41:09 WARN Instrumentation: [def68e4c] regParam is zero, which might cause numerical instability and overfitting.\n"
     ]
    }
   ],
   "source": [
    "from pyspark.ml.regression import LinearRegression\n",
    "\n",
    "# Define LinearRegression algorithm\n",
    "lr = LinearRegression()\n",
    "model = lr.fit(bd6)\n",
    "pred = model.transform(bd6)"
   ]
  },
  {
   "cell_type": "code",
   "execution_count": 113,
   "metadata": {
    "collapsed": false,
    "jupyter": {
     "outputs_hidden": false
    }
   },
   "outputs": [
    {
     "name": "stdout",
     "output_type": "stream",
     "text": [
      "38078.1213570845 [-710.6205583051158,-0.5087243264110249,9701.046274454855,2.6668306836473823,0.0054144619851148644]\n"
     ]
    }
   ],
   "source": [
    "print(model.intercept,model.coefficients)"
   ]
  },
  {
   "cell_type": "code",
   "execution_count": 114,
   "metadata": {
    "collapsed": false,
    "jupyter": {
     "outputs_hidden": false
    }
   },
   "outputs": [
    {
     "name": "stdout",
     "output_type": "stream",
     "text": [
      "+-------+--------------------+------------------+-------------------+\n",
      "|  label|            features|        prediction|           residual|\n",
      "+-------+--------------------+------------------+-------------------+\n",
      "|12500.0|[55.4,15735.0,1.4...|17191.249383365946| -4691.249383365946|\n",
      "|16500.0|[64.2,36203.0,2.0...|17017.212349960526| -517.2123499605259|\n",
      "|11000.0|[55.4,29946.0,1.4...|14224.516508322766|-3224.5165083227657|\n",
      "|16800.0|[67.3,25952.0,2.0...|17988.620863735523| -1188.620863735523|\n",
      "|17300.0|[49.6,1998.0,1.0,...|18613.364424412805|-1313.3644244128045|\n",
      "|13900.0|[58.9,32260.0,1.4...|12932.479183531195|  967.5208164688047|\n",
      "|13250.0|[61.4,76788.0,2.0...|10366.047458191813| 2883.9525418081867|\n",
      "|11750.0|[70.6,75185.0,2.0...|11094.702693955587|  655.2973060444128|\n",
      "|10200.0|[60.1,46112.0,1.4...|10130.880975922591|  69.11902407740854|\n",
      "|12000.0|[55.4,22451.0,1.4...|15789.196185928049| -3789.196185928049|\n",
      "|16100.0|[58.9,28955.0,1.4...| 13559.80954721824| 2540.1904527817605|\n",
      "|16500.0|[57.6,52198.0,2.0...|15121.128920458694| 1378.8710795413062|\n",
      "|17000.0|[52.3,44915.0,2.0...|17478.827177772324| -478.8271777723239|\n",
      "|16400.0|[58.9,21695.0,1.4...|14937.848409659382|  1462.151590340618|\n",
      "|15400.0|[61.4,47348.0,2.0...|15555.623512047008|-155.62351204700826|\n",
      "|14500.0|[58.9,26156.0,1.4...|14091.094778068487| 408.90522193151264|\n",
      "|15700.0|[53.3,28396.0,2.0...| 20929.39982924393| -5229.399829243928|\n",
      "|13900.0|[56.5,30516.0,1.4...|13833.849591680511|  66.15040831948863|\n",
      "|19000.0|[47.1,37652.0,2.0...|20373.677826158506| -1373.677826158506|\n",
      "|17000.0|[47.9,34110.0,1.4...|15233.599202651225|  1766.400797348775|\n",
      "+-------+--------------------+------------------+-------------------+\n",
      "only showing top 20 rows\n",
      "\n"
     ]
    }
   ],
   "source": [
    "pred = pred.withColumn('residual', pred.label-pred.prediction)\n",
    "pred.show()"
   ]
  },
  {
   "cell_type": "code",
   "execution_count": 115,
   "metadata": {
    "collapsed": false,
    "jupyter": {
     "outputs_hidden": false
    }
   },
   "outputs": [
    {
     "name": "stdout",
     "output_type": "stream",
     "text": [
      "5685.795047632258\n",
      "3600.7256267808357\n",
      "0.7644135809733885\n"
     ]
    }
   ],
   "source": [
    "from pyspark.ml.evaluation import RegressionEvaluator\n",
    "\n",
    "print(RegressionEvaluator(metricName=\"rmse\").evaluate(pred))\n",
    "print(RegressionEvaluator(metricName=\"mae\").evaluate(pred))\n",
    "print(RegressionEvaluator(metricName=\"r2\").evaluate(pred))"
   ]
  },
  {
   "cell_type": "code",
   "execution_count": 116,
   "metadata": {
    "collapsed": false,
    "jupyter": {
     "outputs_hidden": false
    }
   },
   "outputs": [
    {
     "data": {
      "text/plain": [
       "<seaborn.axisgrid.JointGrid at 0x7f19e0c4d610>"
      ]
     },
     "execution_count": 116,
     "metadata": {},
     "output_type": "execute_result"
    },
    {
     "data": {
      "image/png": "[encoded data removed]",
      "text/plain": [
       "<Figure size 432x432 with 3 Axes>"
      ]
     },
     "metadata": {
      "needs_background": "light"
     },
     "output_type": "display_data"
    }
   ],
   "source": [
    "import seaborn as sns\n",
    "%matplotlib inline\n",
    "\n",
    "pdpred = pred.toPandas()\n",
    "sns.jointplot(x=\"prediction\", y=\"residual\", data=pdpred)"
   ]
  },
  {
   "cell_type": "code",
   "execution_count": 117,
   "metadata": {
    "collapsed": false,
    "jupyter": {
     "outputs_hidden": false
    }
   },
   "outputs": [],
   "source": [
    "#haciendo uso del ridge regression\n",
    "lr = LinearRegression(\n",
    "    maxIter=5, \n",
    "    regParam=5.0,\n",
    "    elasticNetParam=0.0,\n",
    "    solver=\"normal\")\n",
    "model = lr.fit(bd6)\n",
    "pred = model.transform(bd6)"
   ]
  },
  {
   "cell_type": "code",
   "execution_count": 118,
   "metadata": {
    "collapsed": false,
    "jupyter": {
     "outputs_hidden": false
    }
   },
   "outputs": [
    {
     "name": "stdout",
     "output_type": "stream",
     "text": [
      "37866.17706022484 [-705.8565016188038,-0.5030778398867263,9703.984786003044,2.656607107903405,0.005307474958186408]\n",
      "0.7644029953157601\n"
     ]
    }
   ],
   "source": [
    "print(model.intercept,model.coefficients)\n",
    "print(RegressionEvaluator(metricName=\"r2\").evaluate(pred))"
   ]
  },
  {
   "cell_type": "code",
   "execution_count": 119,
   "metadata": {
    "collapsed": false,
    "jupyter": {
     "outputs_hidden": false
    }
   },
   "outputs": [
    {
     "data": {
      "text/plain": [
       "[('features', 'vector')]"
      ]
     },
     "execution_count": 119,
     "metadata": {},
     "output_type": "execute_result"
    }
   ],
   "source": [
    "bd6.select('features').dtypes"
   ]
  },
  {
   "cell_type": "code",
   "execution_count": 120,
   "metadata": {
    "collapsed": false,
    "jupyter": {
     "outputs_hidden": false
    }
   },
   "outputs": [],
   "source": [
    "#haciendo uso del lasso regressión\n",
    "lr = LinearRegression(\n",
    "    maxIter=5, \n",
    "    regParam=0.7,\n",
    "    elasticNetParam=1.0,\n",
    "    solver=\"auto\")\n",
    "model = lr.fit(bd6)\n",
    "pred = model.transform(bd6)"
   ]
  },
  {
   "cell_type": "code",
   "execution_count": 121,
   "metadata": {
    "collapsed": false,
    "jupyter": {
     "outputs_hidden": false
    }
   },
   "outputs": [
    {
     "name": "stdout",
     "output_type": "stream",
     "text": [
      "17781.907755651042 [-195.94336465766645,-0.18841161757047212,11129.114193303652,0.0,-0.001264914678975532]\n",
      "0.6927584791494288\n"
     ]
    }
   ],
   "source": [
    "print(model.intercept,model.coefficients)\n",
    "print(RegressionEvaluator(metricName=\"r2\").evaluate(pred))"
   ]
  },
  {
   "cell_type": "code",
   "execution_count": 122,
   "metadata": {
    "collapsed": false,
    "jupyter": {
     "outputs_hidden": false
    }
   },
   "outputs": [
    {
     "name": "stdout",
     "output_type": "stream",
     "text": [
      "17782.279471699843 [-195.9389247665625,-0.18840232973626164,11128.659680047342,0.0,-0.001264878602537518]\n",
      "0.6927631613958447\n"
     ]
    }
   ],
   "source": [
    "#estandariazación \n",
    "lr = LinearRegression(\n",
    "    maxIter=5, \n",
    "    regParam=1.0,\n",
    "    elasticNetParam=1.0,\n",
    "    solver=\"auto\",\n",
    "    standardization=True,\n",
    "    featuresCol = \"features\" ) \n",
    "model = lr.fit(bd6)\n",
    "pred = model.transform(bd6)\n",
    "print(model.intercept,model.coefficients)\n",
    "print(RegressionEvaluator(metricName=\"r2\").evaluate(pred))"
   ]
  },
  {
   "cell_type": "code",
   "execution_count": 123,
   "metadata": {
    "collapsed": false,
    "jupyter": {
     "outputs_hidden": false
    }
   },
   "outputs": [
    {
     "name": "stdout",
     "output_type": "stream",
     "text": [
      "17785.288948781494 [-195.9626490494236,-0.18842484966384143,11128.05414266062,0.0,-0.0012649342039344408]\n",
      "0.6927573382779706\n"
     ]
    }
   ],
   "source": [
    "lr2 = LinearRegression(\n",
    "    maxIter=5, \n",
    "    regParam=0.7,\n",
    "    elasticNetParam=1.0,\n",
    "    solver=\"auto\",\n",
    "    standardization=False,\n",
    "    featuresCol = \"features\" ) \n",
    "model = lr2.fit(bd6)\n",
    "pred = model.transform(bd6)\n",
    "print(model.intercept,model.coefficients)\n",
    "print(RegressionEvaluator(metricName=\"r2\").evaluate(pred))"
   ]
  },
  {
   "cell_type": "code",
   "execution_count": 135,
   "metadata": {
    "collapsed": false,
    "jupyter": {
     "outputs_hidden": false
    }
   },
   "outputs": [
    {
     "data": {
      "text/plain": [
       "<AxesSubplot:xlabel='mileage', ylabel='price'>"
      ]
     },
     "execution_count": 135,
     "metadata": {},
     "output_type": "execute_result"
    },
    {
     "data": {
      "image/png": "[encoded data removed]",
      "text/plain": [
       "<Figure size 432x288 with 1 Axes>"
      ]
     },
     "metadata": {
      "needs_background": "light"
     },
     "output_type": "display_data"
    }
   ],
   "source": [
    "#Ahora probaremos con una regresión logistica\n",
    "import seaborn as sns\n",
    "%matplotlib inline\n",
    "\n",
    "sns.boxplot(x='mileage',y='price',data=pdf7)"
   ]
  },
  {
   "cell_type": "markdown",
   "metadata": {
    "jupyter": {
     "outputs_hidden": false
    }
   },
   "source": [
    "## Ahora vamos a realizar la practica de algunas agregaciones"
   ]
  },
  {
   "cell_type": "code",
   "execution_count": 81,
   "metadata": {
    "collapsed": false,
    "jupyter": {
     "outputs_hidden": false
    }
   },
   "outputs": [],
   "source": [
    "#haciendo uso del approx_count_distinc()\n",
    "from pyspark.sql.functions import approx_count_distinct\n",
    "\n",
    "b1 = bd5.agg(approx_count_distinct(bd5.model).alias('distinct_models')).collect()"
   ]
  },
  {
   "cell_type": "code",
   "execution_count": 38,
   "metadata": {},
   "outputs": [],
   "source": [
    "#haciendo uSo del Avg\n",
    "from pyspark.sql.functions import avg\n",
    "b2 = bd5.agg(avg(bd5.price).alias('avg_price')).take(5)"
   ]
  },
  {
   "cell_type": "code",
   "execution_count": 47,
   "metadata": {},
   "outputs": [
    {
     "name": "stdout",
     "output_type": "stream",
     "text": [
      "+--------------------+\n",
      "| collect_list(model)|\n",
      "+--------------------+\n",
      "|[ A1,  A6,  A1,  ...|\n",
      "+--------------------+\n",
      "\n"
     ]
    }
   ],
   "source": [
    "#collect list\n",
    "from pyspark.sql.functions import collect_list\n",
    "b3 = bd5.select(collect_list(\"model\")).show()"
   ]
  },
  {
   "cell_type": "code",
   "execution_count": 48,
   "metadata": {},
   "outputs": [
    {
     "name": "stdout",
     "output_type": "stream",
     "text": [
      "+--------------------+\n",
      "|  collect_set(price)|\n",
      "+--------------------+\n",
      "|[47949, 85900, 30...|\n",
      "+--------------------+\n",
      "\n"
     ]
    }
   ],
   "source": [
    "#collect set\n",
    "from pyspark.sql.functions import collect_set\n",
    "b4 = bd5.select(collect_set(\"price\")).show()"
   ]
  },
  {
   "cell_type": "code",
   "execution_count": 52,
   "metadata": {},
   "outputs": [
    {
     "name": "stdout",
     "output_type": "stream",
     "text": [
      "+-------------------------------------------+\n",
      "|count(DISTINCT model, engineSize, fuelType)|\n",
      "+-------------------------------------------+\n",
      "|                                        119|\n",
      "+-------------------------------------------+\n",
      "\n"
     ]
    }
   ],
   "source": [
    "#Count distinc \n",
    "from pyspark.sql.functions import countDistinct\n",
    "b4 = bd5.select(countDistinct(\"model\",\"engineSize\", \"fuelType\"))\n",
    "b4.show()"
   ]
  },
  {
   "cell_type": "code",
   "execution_count": 70,
   "metadata": {},
   "outputs": [
    {
     "name": "stdout",
     "output_type": "stream",
     "text": [
      "+------------+\n",
      "|count(model)|\n",
      "+------------+\n",
      "|       10668|\n",
      "+------------+\n",
      "\n"
     ]
    }
   ],
   "source": [
    "#count \n",
    "from pyspark.sql.functions import count\n",
    "b6 = bd5.select(count(\"model\")).show()\n"
   ]
  },
  {
   "cell_type": "markdown",
   "metadata": {},
   "source": [
    "## alternativamente\n",
    " `bd5.select(\"model\").count()`"
   ]
  },
  {
   "cell_type": "code",
   "execution_count": 79,
   "metadata": {},
   "outputs": [
    {
     "data": {
      "text/plain": [
       "10668"
      ]
     },
     "execution_count": 79,
     "metadata": {},
     "output_type": "execute_result"
    }
   ],
   "source": [
    "#alternativamente\n",
    "bd5.select(\"model\").count()\n"
   ]
  },
  {
   "cell_type": "code",
   "execution_count": 80,
   "metadata": {},
   "outputs": [
    {
     "name": "stdout",
     "output_type": "stream",
     "text": [
      "+-----+----+-----+------------+-------+--------+---+----+----------+\n",
      "|model|year|price|transmission|mileage|fuelType|tax| mpg|engineSize|\n",
      "+-----+----+-----+------------+-------+--------+---+----+----------+\n",
      "|   A1|2017|12500|      Manual|  15735|  Petrol|150|55.4|       1.4|\n",
      "|   A6|2016|16500|   Automatic|  36203|  Diesel| 20|64.2|       2.0|\n",
      "|   A1|2016|11000|      Manual|  29946|  Petrol| 30|55.4|       1.4|\n",
      "|   A4|2017|16800|   Automatic|  25952|  Diesel|145|67.3|       2.0|\n",
      "|   A3|2019|17300|      Manual|   1998|  Petrol|145|49.6|       1.0|\n",
      "|   A1|2016|13900|   Automatic|  32260|  Petrol| 30|58.9|       1.4|\n",
      "|   A6|2016|13250|   Automatic|  76788|  Diesel| 30|61.4|       2.0|\n",
      "|   A4|2016|11750|      Manual|  75185|  Diesel| 20|70.6|       2.0|\n",
      "|   A3|2015|10200|      Manual|  46112|  Petrol| 20|60.1|       1.4|\n",
      "|   A1|2016|12000|      Manual|  22451|  Petrol| 30|55.4|       1.4|\n",
      "|   A3|2017|16100|      Manual|  28955|  Petrol|145|58.9|       1.4|\n",
      "|   A6|2016|16500|   Automatic|  52198|  Diesel|125|57.6|       2.0|\n",
      "|   Q3|2016|17000|      Manual|  44915|  Diesel|145|52.3|       2.0|\n",
      "|   A3|2017|16400|      Manual|  21695|  Petrol| 30|58.9|       1.4|\n",
      "|   A6|2015|15400|      Manual|  47348|  Diesel| 30|61.4|       2.0|\n",
      "|   A3|2017|14500|   Automatic|  26156|  Petrol|145|58.9|       1.4|\n",
      "|   Q3|2016|15700|   Automatic|  28396|  Diesel|145|53.3|       2.0|\n",
      "|   A3|2014|13900|   Automatic|  30516|  Petrol| 30|56.5|       1.4|\n",
      "|   Q5|2016|19000|   Automatic|  37652|  Diesel|200|47.1|       2.0|\n",
      "|   Q3|2014|17000|      Manual|  34110|  Petrol|145|47.9|       1.4|\n",
      "+-----+----+-----+------------+-------+--------+---+----+----------+\n",
      "only showing top 20 rows\n",
      "\n"
     ]
    }
   ],
   "source": [
    "bd5.show()"
   ]
  },
  {
   "cell_type": "code",
   "execution_count": 82,
   "metadata": {},
   "outputs": [
    {
     "name": "stdout",
     "output_type": "stream",
     "text": [
      "+-----+----+-----+------------+-------+--------+---+----+----------+\n",
      "|model|year|price|transmission|mileage|fuelType|tax| mpg|engineSize|\n",
      "+-----+----+-----+------------+-------+--------+---+----+----------+\n",
      "|   A1|2017|11300|      Manual|  29327|  Petrol| 30|55.4|       1.4|\n",
      "|   A1|2019|19685|      Manual|     10|  Petrol|145|49.6|       1.0|\n",
      "|   A1|2014|10000|      Manual|  28324|  Petrol|125|53.3|       1.4|\n",
      "|   A1|2016|11000|      Manual|  29946|  Petrol| 30|55.4|       1.4|\n",
      "|   A1|2016|14500|      Manual|  12100|  Petrol| 30|56.5|       1.4|\n",
      "|   A1|2016|12000|      Manual|  22451|  Petrol| 30|55.4|       1.4|\n",
      "|   A1|2016|10600|      Manual|  28760|  Petrol| 30|55.4|       1.4|\n",
      "|   A1|2015| 9500|   Automatic|  54754|  Diesel|  0|76.3|       1.6|\n",
      "|   A1|2017|14000|      Manual|  12577|  Petrol| 30|58.9|       1.4|\n",
      "|   A1|2014|11000|      Manual|  34315|  Petrol|125|53.3|       1.4|\n",
      "|   A1|2016|10600|      Manual|  15567|  Diesel|  0|76.3|       1.6|\n",
      "|   A1|2017|11700|      Manual|  19268|  Petrol|150|67.3|       1.0|\n",
      "|   A1|2016|10500|      Manual|  18272|  Petrol|  0|67.3|       1.0|\n",
      "|   A1|2017|11000|      Manual|  34551|  Petrol|150|67.3|       1.0|\n",
      "|   A1|2017|11200|      Manual|  34824|  Petrol|  0|67.3|       1.0|\n",
      "|   A1|2017|12500|      Manual|  15735|  Petrol|150|55.4|       1.4|\n",
      "|   A1|2017|12800|      Manual|  20351|  Petrol| 30|55.4|       1.4|\n",
      "|   A1|2018|15800|      Manual|  10793|  Petrol|145|56.5|       1.4|\n",
      "|   A1|2016|13500|      Manual|  22780|  Petrol| 30|58.9|       1.4|\n",
      "|   A1|2013| 7000|      Manual|  76269|  Diesel|  0|74.3|       1.6|\n",
      "+-----+----+-----+------------+-------+--------+---+----+----------+\n",
      "only showing top 20 rows\n",
      "\n"
     ]
    }
   ],
   "source": [
    "bd5.sort(\"model\").show()"
   ]
  },
  {
   "cell_type": "code",
   "execution_count": 4,
   "metadata": {},
   "outputs": [
    {
     "name": "stdout",
     "output_type": "stream",
     "text": [
      "+-----+----+-----+------------+-------+--------+---+----+----------+\n",
      "|model|year|price|transmission|mileage|fuelType|tax| mpg|engineSize|\n",
      "+-----+----+-----+------------+-------+--------+---+----+----------+\n",
      "|   A1|2017|12500|      Manual|15735.0|  Petrol|150|55.4|       1.4|\n",
      "|   A6|2016|16500|   Automatic|36203.0|  Diesel| 20|64.2|       2.0|\n",
      "|   A1|2016|11000|      Manual|29946.0|  Petrol| 30|55.4|       1.4|\n",
      "|   A4|2017|16800|   Automatic|25952.0|  Diesel|145|67.3|       2.0|\n",
      "|   A3|2019|17300|      Manual| 1998.0|  Petrol|145|49.6|       1.0|\n",
      "|   A1|2016|13900|   Automatic|32260.0|  Petrol| 30|58.9|       1.4|\n",
      "|   A6|2016|13250|   Automatic|76788.0|  Diesel| 30|61.4|       2.0|\n",
      "|   A4|2016|11750|      Manual|75185.0|  Diesel| 20|70.6|       2.0|\n",
      "|   A3|2015|10200|      Manual|46112.0|  Petrol| 20|60.1|       1.4|\n",
      "|   A1|2016|12000|      Manual|22451.0|  Petrol| 30|55.4|       1.4|\n",
      "|   A3|2017|16100|      Manual|28955.0|  Petrol|145|58.9|       1.4|\n",
      "|   A6|2016|16500|   Automatic|52198.0|  Diesel|125|57.6|       2.0|\n",
      "|   Q3|2016|17000|      Manual|44915.0|  Diesel|145|52.3|       2.0|\n",
      "|   A3|2017|16400|      Manual|21695.0|  Petrol| 30|58.9|       1.4|\n",
      "|   A6|2015|15400|      Manual|47348.0|  Diesel| 30|61.4|       2.0|\n",
      "|   A3|2017|14500|   Automatic|26156.0|  Petrol|145|58.9|       1.4|\n",
      "|   Q3|2016|15700|   Automatic|28396.0|  Diesel|145|53.3|       2.0|\n",
      "|   A3|2014|13900|   Automatic|30516.0|  Petrol| 30|56.5|       1.4|\n",
      "|   Q5|2016|19000|   Automatic|37652.0|  Diesel|200|47.1|       2.0|\n",
      "|   Q3|2014|17000|      Manual|34110.0|  Petrol|145|47.9|       1.4|\n",
      "+-----+----+-----+------------+-------+--------+---+----+----------+\n",
      "only showing top 20 rows\n",
      "\n"
     ]
    }
   ],
   "source": [
    "#casteo de variables( no es recomendable)\n",
    "from pyspark.sql.types import DoubleType, IntegerType, StringType\n",
    "from pyspark.sql import functions as F\n",
    "bd5 = bd5.withColumn('mileage', F.col('mileage').cast(DoubleType()))\n",
    "bd5.show()"
   ]
  },
  {
   "cell_type": "code",
   "execution_count": 23,
   "metadata": {},
   "outputs": [
    {
     "name": "stdout",
     "output_type": "stream",
     "text": [
      "+-----+------------+\n",
      "|model|sum(mileage)|\n",
      "+-----+------------+\n",
      "|   A7|   3352675.0|\n",
      "|  SQ7|    221275.0|\n",
      "|   A4| 4.1003257E7|\n",
      "|  RS3|    853728.0|\n",
      "|   S3|    729013.0|\n",
      "|  RS5|    335610.0|\n",
      "|  RS6|   1112461.0|\n",
      "|  SQ5|    673838.0|\n",
      "|   S4|    325412.0|\n",
      "|   Q8|    442431.0|\n",
      "|  RS4|    674058.0|\n",
      "|   A1| 3.2999194E7|\n",
      "|   A3| 5.5730907E7|\n",
      "|   Q2|   8875805.0|\n",
      "|  RS7|     56000.0|\n",
      "|   Q7|   8604084.0|\n",
      "|   Q3| 3.0033132E7|\n",
      "|   R8|    346164.0|\n",
      "|   S5|    160820.0|\n",
      "|   Q5| 1.9573112E7|\n",
      "+-----+------------+\n",
      "only showing top 20 rows\n",
      "\n"
     ]
    }
   ],
   "source": [
    "df7 = bd5.groupBy(\"model\")\n",
    "df7.agg({'mileage': 'sum'}).show()"
   ]
  },
  {
   "cell_type": "code",
   "execution_count": 27,
   "metadata": {},
   "outputs": [
    {
     "name": "stdout",
     "output_type": "stream",
     "text": [
      "+---------+----+-----+------------+-------+--------+---+-----+----------+\n",
      "|    model|year|price|transmission|mileage|fuelType|tax|  mpg|engineSize|\n",
      "+---------+----+-----+------------+-------+--------+---+-----+----------+\n",
      "| 5 Series|2014|11200|   Automatic|  67068|  Diesel|125| 57.6|       2.0|\n",
      "| 6 Series|2018|27000|   Automatic|  14827|  Petrol|145| 42.8|       2.0|\n",
      "| 5 Series|2016|16000|   Automatic|  62794|  Diesel|160| 51.4|       3.0|\n",
      "| 1 Series|2017|12750|   Automatic|  26676|  Diesel|145| 72.4|       1.5|\n",
      "| 7 Series|2014|14500|   Automatic|  39554|  Diesel|160| 50.4|       3.0|\n",
      "| 5 Series|2016|14900|   Automatic|  35309|  Diesel|125| 60.1|       2.0|\n",
      "| 5 Series|2017|16000|   Automatic|  38538|  Diesel|125| 60.1|       2.0|\n",
      "| 2 Series|2018|16250|      Manual|  10401|  Petrol|145| 52.3|       1.5|\n",
      "| 4 Series|2017|14250|      Manual|  42668|  Diesel| 30| 62.8|       2.0|\n",
      "| 5 Series|2016|14250|   Automatic|  36099|  Diesel| 20| 68.9|       2.0|\n",
      "|       X3|2017|15500|      Manual|  74907|  Diesel|145| 52.3|       2.0|\n",
      "| 1 Series|2017|11800|      Manual|  29840|  Diesel| 20| 68.9|       2.0|\n",
      "|       X3|2016|15500|   Automatic|  77823|  Diesel|125| 54.3|       2.0|\n",
      "| 2 Series|2015|10500|      Manual|  31469|  Diesel| 20| 68.9|       2.0|\n",
      "|       X3|2017|22000|   Automatic|  19057|  Diesel|145| 54.3|       2.0|\n",
      "| 3 Series|2017|16500|      Manual|  16570|  Diesel|125| 58.9|       2.0|\n",
      "| 3 Series|2017|14250|   Automatic|  55594|   Other|135|148.7|       2.0|\n",
      "| 3 Series|2017|16000|   Automatic|  45456|  Diesel| 30| 64.2|       2.0|\n",
      "| 1 Series|2017|15500|   Automatic|  22812|  Diesel| 20| 68.9|       1.5|\n",
      "| 4 Series|2014|14000|   Automatic|  47348|  Diesel|125| 60.1|       2.0|\n",
      "+---------+----+-----+------------+-------+--------+---+-----+----------+\n",
      "only showing top 20 rows\n",
      "\n"
     ]
    }
   ],
   "source": [
    "#ahora procederemos a hacer un par de joins\n",
    "bmw_set  = sqlContext.read.format(\n",
    "    \"com.databricks.spark.csv\"\n",
    ").option(\"header\", \"true\").load(\"bmw.csv\", inferschema = True)\n",
    "bmw_set.show()"
   ]
  },
  {
   "cell_type": "code",
   "execution_count": 42,
   "metadata": {},
   "outputs": [
    {
     "name": "stdout",
     "output_type": "stream",
     "text": [
      "+------------+---------+----+-----+-------+--------+---+----+----------+-----+----+-----+-------+--------+---+----+----------+\n",
      "|transmission|    model|year|price|mileage|fuelType|tax| mpg|engineSize|model|year|price|mileage|fuelType|tax| mpg|engineSize|\n",
      "+------------+---------+----+-----+-------+--------+---+----+----------+-----+----+-----+-------+--------+---+----+----------+\n",
      "|   Automatic| 5 Series|2014|11200|  67068|  Diesel|125|57.6|       2.0|   Q3|2017|19499| 8646.0|  Petrol|150|47.9|       1.4|\n",
      "|   Automatic| 5 Series|2014|11200|  67068|  Diesel|125|57.6|       2.0|   A4|2011| 9995|78000.0|  Diesel|305|39.8|       3.0|\n",
      "|   Automatic| 5 Series|2014|11200|  67068|  Diesel|125|57.6|       2.0|   S4|2018|29995|29000.0|  Petrol|150|35.8|       3.0|\n",
      "|   Automatic| 5 Series|2014|11200|  67068|  Diesel|125|57.6|       2.0|  RS6|2016|49990|24000.0|  Petrol|325|29.4|       4.0|\n",
      "|   Automatic| 5 Series|2014|11200|  67068|  Diesel|125|57.6|       2.0|   A3|2015|21000|12084.0|  Petrol|205|39.8|       2.0|\n",
      "|   Automatic| 5 Series|2014|11200|  67068|  Diesel|125|57.6|       2.0|   A5|2019|25000| 8571.0|  Diesel|145|46.3|       2.0|\n",
      "|   Automatic| 5 Series|2014|11200|  67068|  Diesel|125|57.6|       2.0|   A4|2019|30000| 9900.0|  Diesel|145|49.6|       2.0|\n",
      "|   Automatic| 5 Series|2014|11200|  67068|  Diesel|125|57.6|       2.0|   Q5|2019|33000| 5207.0|  Diesel|145|38.2|       2.0|\n",
      "|   Automatic| 5 Series|2014|11200|  67068|  Diesel|125|57.6|       2.0|   A5|2020|25000|  751.0|  Petrol|145|40.4|       2.0|\n",
      "|   Automatic| 5 Series|2014|11200|  67068|  Diesel|125|57.6|       2.0|   Q5|2020|37000| 1436.0|  Petrol|145|32.1|       2.0|\n",
      "|   Automatic| 5 Series|2014|11200|  67068|  Diesel|125|57.6|       2.0|   A6|2020|28000| 2511.0|  Diesel|145|47.9|       2.0|\n",
      "|   Automatic| 5 Series|2014|11200|  67068|  Diesel|125|57.6|       2.0|   A4|2017|18491|17900.0|  Petrol|145|50.4|       1.4|\n",
      "|   Automatic| 5 Series|2014|11200|  67068|  Diesel|125|57.6|       2.0|   A5|2017|21291|29666.0|  Diesel| 30|65.7|       2.0|\n",
      "|   Automatic| 5 Series|2014|11200|  67068|  Diesel|125|57.6|       2.0|   A3|2016|18000|29494.0|  Petrol|125|49.6|       2.0|\n",
      "|   Automatic| 5 Series|2014|11200|  67068|  Diesel|125|57.6|       2.0|   Q7|2017|45595|28949.0|  Diesel|145|39.2|       4.0|\n",
      "|   Automatic| 5 Series|2014|11200|  67068|  Diesel|125|57.6|       2.0|   A4|2018|26891|22414.0|  Petrol|145|36.7|       3.0|\n",
      "|   Automatic| 5 Series|2014|11200|  67068|  Diesel|125|57.6|       2.0|   A1|2010| 9990|38000.0|  Petrol|125|53.3|       1.4|\n",
      "|   Automatic| 5 Series|2014|11200|  67068|  Diesel|125|57.6|       2.0|   Q3|2017|23995|10000.0|  Petrol|145|42.2|       2.0|\n",
      "|   Automatic| 5 Series|2014|11200|  67068|  Diesel|125|57.6|       2.0|   A5|2017|29000|37265.0|  Petrol|150|36.2|       3.0|\n",
      "|   Automatic| 5 Series|2014|11200|  67068|  Diesel|125|57.6|       2.0|   Q5|2020|38000| 1481.0|  Petrol|145|32.1|       2.0|\n",
      "+------------+---------+----+-----+-------+--------+---+----+----------+-----+----+-----+-------+--------+---+----+----------+\n",
      "only showing top 20 rows\n",
      "\n"
     ]
    }
   ],
   "source": [
    "audi_bmw_set =  bmw_set.join(bd5, [\"transmission\"], \"inner\").show()"
   ]
  },
  {
   "cell_type": "code",
   "execution_count": 40,
   "metadata": {},
   "outputs": [
    {
     "name": "stdout",
     "output_type": "stream",
     "text": [
      "+---------+----+-----+------------+-------+--------+---+----+----------+----+-----+------------+-------+--------+----+----+----------+\n",
      "|    model|year|price|transmission|mileage|fuelType|tax| mpg|engineSize|year|price|transmission|mileage|fuelType| tax| mpg|engineSize|\n",
      "+---------+----+-----+------------+-------+--------+---+----+----------+----+-----+------------+-------+--------+----+----+----------+\n",
      "| 1 Series|2017|12750|   Automatic|  26676|  Diesel|145|72.4|       1.5|null| null|        null|   null|    null|null|null|      null|\n",
      "| 1 Series|2017|11800|      Manual|  29840|  Diesel| 20|68.9|       2.0|null| null|        null|   null|    null|null|null|      null|\n",
      "| 1 Series|2017|15500|   Automatic|  22812|  Diesel| 20|68.9|       1.5|null| null|        null|   null|    null|null|null|      null|\n",
      "| 1 Series|2015| 9700|   Automatic|  75124|  Diesel| 20|70.6|       2.0|null| null|        null|   null|    null|null|null|      null|\n",
      "| 1 Series|2016| 9400|      Manual|  44498|  Diesel|  0|83.1|       1.5|null| null|        null|   null|    null|null|null|      null|\n",
      "| 1 Series|2016|14300|   Automatic|  22461|  Diesel| 20|67.3|       2.0|null| null|        null|   null|    null|null|null|      null|\n",
      "| 1 Series|2016|11200|      Manual|  23005|  Petrol|125|53.3|       1.5|null| null|        null|   null|    null|null|null|      null|\n",
      "| 1 Series|2017|20500|   Automatic|  24029|  Petrol|145|39.8|       3.0|null| null|        null|   null|    null|null|null|      null|\n",
      "| 1 Series|2017|11900|      Manual|  22920|  Petrol|145|53.3|       1.5|null| null|        null|   null|    null|null|null|      null|\n",
      "| 1 Series|2016|13500|      Manual|  29226|  Diesel| 30|62.8|       2.0|null| null|        null|   null|    null|null|null|      null|\n",
      "| 1 Series|2018|14600|   Automatic|   6522|  Petrol|145|37.2|       1.5|null| null|        null|   null|    null|null|null|      null|\n",
      "| 1 Series|2016|11400|      Manual|  21591|  Petrol|125|53.3|       1.5|null| null|        null|   null|    null|null|null|      null|\n",
      "| 1 Series|2018|17500|   Automatic|  14037|  Petrol|145|54.3|       1.5|null| null|        null|   null|    null|null|null|      null|\n",
      "| 1 Series|2016| 9200|      Manual|  48858|  Diesel|  0|83.1|       1.5|null| null|        null|   null|    null|null|null|      null|\n",
      "| 1 Series|2017|11200|      Manual|  40399|  Diesel|145|68.9|       2.0|null| null|        null|   null|    null|null|null|      null|\n",
      "| 1 Series|2016|13200|      Manual|  17393|  Diesel| 30|65.7|       2.0|null| null|        null|   null|    null|null|null|      null|\n",
      "| 1 Series|2017|12750|   Automatic|  91563|  Diesel|125|60.1|       2.0|null| null|        null|   null|    null|null|null|      null|\n",
      "| 1 Series|2015|11100|      Manual|  11524|  Diesel|  0|83.1|       1.5|null| null|        null|   null|    null|null|null|      null|\n",
      "| 1 Series|2017|12700|      Manual|  21809|  Petrol|145|53.3|       1.5|null| null|        null|   null|    null|null|null|      null|\n",
      "| 1 Series|2017|14500|   Automatic|  27245|  Diesel|145|68.9|       2.0|null| null|        null|   null|    null|null|null|      null|\n",
      "+---------+----+-----+------------+-------+--------+---+----+----------+----+-----+------------+-------+--------+----+----+----------+\n",
      "only showing top 20 rows\n",
      "\n"
     ]
    }
   ],
   "source": [
    "audi_bmw_set1 =  bmw_set.join(bd5, [\"model\"], \"full\").show()"
   ]
  },
  {
   "cell_type": "code",
   "execution_count": 39,
   "metadata": {},
   "outputs": [
    {
     "name": "stdout",
     "output_type": "stream",
     "text": [
      "+---------+----+-----+------------+-------+--------+---+----+----------+----+-----+------------+-------+--------+----+----+----------+\n",
      "|    model|year|price|transmission|mileage|fuelType|tax| mpg|engineSize|year|price|transmission|mileage|fuelType| tax| mpg|engineSize|\n",
      "+---------+----+-----+------------+-------+--------+---+----+----------+----+-----+------------+-------+--------+----+----+----------+\n",
      "| 1 Series|2017|12750|   Automatic|  26676|  Diesel|145|72.4|       1.5|null| null|        null|   null|    null|null|null|      null|\n",
      "| 1 Series|2017|11800|      Manual|  29840|  Diesel| 20|68.9|       2.0|null| null|        null|   null|    null|null|null|      null|\n",
      "| 1 Series|2017|15500|   Automatic|  22812|  Diesel| 20|68.9|       1.5|null| null|        null|   null|    null|null|null|      null|\n",
      "| 1 Series|2015| 9700|   Automatic|  75124|  Diesel| 20|70.6|       2.0|null| null|        null|   null|    null|null|null|      null|\n",
      "| 1 Series|2016| 9400|      Manual|  44498|  Diesel|  0|83.1|       1.5|null| null|        null|   null|    null|null|null|      null|\n",
      "| 1 Series|2016|14300|   Automatic|  22461|  Diesel| 20|67.3|       2.0|null| null|        null|   null|    null|null|null|      null|\n",
      "| 1 Series|2016|11200|      Manual|  23005|  Petrol|125|53.3|       1.5|null| null|        null|   null|    null|null|null|      null|\n",
      "| 1 Series|2017|20500|   Automatic|  24029|  Petrol|145|39.8|       3.0|null| null|        null|   null|    null|null|null|      null|\n",
      "| 1 Series|2017|11900|      Manual|  22920|  Petrol|145|53.3|       1.5|null| null|        null|   null|    null|null|null|      null|\n",
      "| 1 Series|2016|13500|      Manual|  29226|  Diesel| 30|62.8|       2.0|null| null|        null|   null|    null|null|null|      null|\n",
      "| 1 Series|2018|14600|   Automatic|   6522|  Petrol|145|37.2|       1.5|null| null|        null|   null|    null|null|null|      null|\n",
      "| 1 Series|2016|11400|      Manual|  21591|  Petrol|125|53.3|       1.5|null| null|        null|   null|    null|null|null|      null|\n",
      "| 1 Series|2018|17500|   Automatic|  14037|  Petrol|145|54.3|       1.5|null| null|        null|   null|    null|null|null|      null|\n",
      "| 1 Series|2016| 9200|      Manual|  48858|  Diesel|  0|83.1|       1.5|null| null|        null|   null|    null|null|null|      null|\n",
      "| 1 Series|2017|11200|      Manual|  40399|  Diesel|145|68.9|       2.0|null| null|        null|   null|    null|null|null|      null|\n",
      "| 1 Series|2016|13200|      Manual|  17393|  Diesel| 30|65.7|       2.0|null| null|        null|   null|    null|null|null|      null|\n",
      "| 1 Series|2017|12750|   Automatic|  91563|  Diesel|125|60.1|       2.0|null| null|        null|   null|    null|null|null|      null|\n",
      "| 1 Series|2015|11100|      Manual|  11524|  Diesel|  0|83.1|       1.5|null| null|        null|   null|    null|null|null|      null|\n",
      "| 1 Series|2017|12700|      Manual|  21809|  Petrol|145|53.3|       1.5|null| null|        null|   null|    null|null|null|      null|\n",
      "| 1 Series|2017|14500|   Automatic|  27245|  Diesel|145|68.9|       2.0|null| null|        null|   null|    null|null|null|      null|\n",
      "+---------+----+-----+------------+-------+--------+---+----+----------+----+-----+------------+-------+--------+----+----+----------+\n",
      "only showing top 20 rows\n",
      "\n"
     ]
    }
   ],
   "source": [
    "audi_bmw_set2 =  bmw_set.join(bd5, [\"model\"], \"outer\").show()"
   ]
  },
  {
   "cell_type": "code",
   "execution_count": 43,
   "metadata": {},
   "outputs": [
    {
     "name": "stdout",
     "output_type": "stream",
     "text": [
      "+---------+----+-----+------------+-------+--------+---+----+----------+----+-----+------------+-------+--------+----+----+----------+\n",
      "|    model|year|price|transmission|mileage|fuelType|tax| mpg|engineSize|year|price|transmission|mileage|fuelType| tax| mpg|engineSize|\n",
      "+---------+----+-----+------------+-------+--------+---+----+----------+----+-----+------------+-------+--------+----+----+----------+\n",
      "| 1 Series|2017|12750|   Automatic|  26676|  Diesel|145|72.4|       1.5|null| null|        null|   null|    null|null|null|      null|\n",
      "| 1 Series|2017|11800|      Manual|  29840|  Diesel| 20|68.9|       2.0|null| null|        null|   null|    null|null|null|      null|\n",
      "| 1 Series|2017|15500|   Automatic|  22812|  Diesel| 20|68.9|       1.5|null| null|        null|   null|    null|null|null|      null|\n",
      "| 1 Series|2015| 9700|   Automatic|  75124|  Diesel| 20|70.6|       2.0|null| null|        null|   null|    null|null|null|      null|\n",
      "| 1 Series|2016| 9400|      Manual|  44498|  Diesel|  0|83.1|       1.5|null| null|        null|   null|    null|null|null|      null|\n",
      "| 1 Series|2016|14300|   Automatic|  22461|  Diesel| 20|67.3|       2.0|null| null|        null|   null|    null|null|null|      null|\n",
      "| 1 Series|2016|11200|      Manual|  23005|  Petrol|125|53.3|       1.5|null| null|        null|   null|    null|null|null|      null|\n",
      "| 1 Series|2017|20500|   Automatic|  24029|  Petrol|145|39.8|       3.0|null| null|        null|   null|    null|null|null|      null|\n",
      "| 1 Series|2017|11900|      Manual|  22920|  Petrol|145|53.3|       1.5|null| null|        null|   null|    null|null|null|      null|\n",
      "| 1 Series|2016|13500|      Manual|  29226|  Diesel| 30|62.8|       2.0|null| null|        null|   null|    null|null|null|      null|\n",
      "| 1 Series|2018|14600|   Automatic|   6522|  Petrol|145|37.2|       1.5|null| null|        null|   null|    null|null|null|      null|\n",
      "| 1 Series|2016|11400|      Manual|  21591|  Petrol|125|53.3|       1.5|null| null|        null|   null|    null|null|null|      null|\n",
      "| 1 Series|2018|17500|   Automatic|  14037|  Petrol|145|54.3|       1.5|null| null|        null|   null|    null|null|null|      null|\n",
      "| 1 Series|2016| 9200|      Manual|  48858|  Diesel|  0|83.1|       1.5|null| null|        null|   null|    null|null|null|      null|\n",
      "| 1 Series|2017|11200|      Manual|  40399|  Diesel|145|68.9|       2.0|null| null|        null|   null|    null|null|null|      null|\n",
      "| 1 Series|2016|13200|      Manual|  17393|  Diesel| 30|65.7|       2.0|null| null|        null|   null|    null|null|null|      null|\n",
      "| 1 Series|2017|12750|   Automatic|  91563|  Diesel|125|60.1|       2.0|null| null|        null|   null|    null|null|null|      null|\n",
      "| 1 Series|2015|11100|      Manual|  11524|  Diesel|  0|83.1|       1.5|null| null|        null|   null|    null|null|null|      null|\n",
      "| 1 Series|2017|12700|      Manual|  21809|  Petrol|145|53.3|       1.5|null| null|        null|   null|    null|null|null|      null|\n",
      "| 1 Series|2017|14500|   Automatic|  27245|  Diesel|145|68.9|       2.0|null| null|        null|   null|    null|null|null|      null|\n",
      "+---------+----+-----+------------+-------+--------+---+----+----------+----+-----+------------+-------+--------+----+----+----------+\n",
      "only showing top 20 rows\n",
      "\n"
     ]
    }
   ],
   "source": [
    "audi_bmw_set3 =  bmw_set.join(bd5, [\"model\"], \"fullouter\").show()"
   ]
  },
  {
   "cell_type": "code",
   "execution_count": 44,
   "metadata": {},
   "outputs": [
    {
     "name": "stdout",
     "output_type": "stream",
     "text": [
      "+---------+----+-----+------------+-------+--------+---+-----+----------+----+-----+------------+-------+--------+----+----+----------+\n",
      "|    model|year|price|transmission|mileage|fuelType|tax|  mpg|engineSize|year|price|transmission|mileage|fuelType| tax| mpg|engineSize|\n",
      "+---------+----+-----+------------+-------+--------+---+-----+----------+----+-----+------------+-------+--------+----+----+----------+\n",
      "| 5 Series|2014|11200|   Automatic|  67068|  Diesel|125| 57.6|       2.0|null| null|        null|   null|    null|null|null|      null|\n",
      "| 6 Series|2018|27000|   Automatic|  14827|  Petrol|145| 42.8|       2.0|null| null|        null|   null|    null|null|null|      null|\n",
      "| 5 Series|2016|16000|   Automatic|  62794|  Diesel|160| 51.4|       3.0|null| null|        null|   null|    null|null|null|      null|\n",
      "| 1 Series|2017|12750|   Automatic|  26676|  Diesel|145| 72.4|       1.5|null| null|        null|   null|    null|null|null|      null|\n",
      "| 7 Series|2014|14500|   Automatic|  39554|  Diesel|160| 50.4|       3.0|null| null|        null|   null|    null|null|null|      null|\n",
      "| 5 Series|2016|14900|   Automatic|  35309|  Diesel|125| 60.1|       2.0|null| null|        null|   null|    null|null|null|      null|\n",
      "| 5 Series|2017|16000|   Automatic|  38538|  Diesel|125| 60.1|       2.0|null| null|        null|   null|    null|null|null|      null|\n",
      "| 2 Series|2018|16250|      Manual|  10401|  Petrol|145| 52.3|       1.5|null| null|        null|   null|    null|null|null|      null|\n",
      "| 4 Series|2017|14250|      Manual|  42668|  Diesel| 30| 62.8|       2.0|null| null|        null|   null|    null|null|null|      null|\n",
      "| 5 Series|2016|14250|   Automatic|  36099|  Diesel| 20| 68.9|       2.0|null| null|        null|   null|    null|null|null|      null|\n",
      "|       X3|2017|15500|      Manual|  74907|  Diesel|145| 52.3|       2.0|null| null|        null|   null|    null|null|null|      null|\n",
      "| 1 Series|2017|11800|      Manual|  29840|  Diesel| 20| 68.9|       2.0|null| null|        null|   null|    null|null|null|      null|\n",
      "|       X3|2016|15500|   Automatic|  77823|  Diesel|125| 54.3|       2.0|null| null|        null|   null|    null|null|null|      null|\n",
      "| 2 Series|2015|10500|      Manual|  31469|  Diesel| 20| 68.9|       2.0|null| null|        null|   null|    null|null|null|      null|\n",
      "|       X3|2017|22000|   Automatic|  19057|  Diesel|145| 54.3|       2.0|null| null|        null|   null|    null|null|null|      null|\n",
      "| 3 Series|2017|16500|      Manual|  16570|  Diesel|125| 58.9|       2.0|null| null|        null|   null|    null|null|null|      null|\n",
      "| 3 Series|2017|14250|   Automatic|  55594|   Other|135|148.7|       2.0|null| null|        null|   null|    null|null|null|      null|\n",
      "| 3 Series|2017|16000|   Automatic|  45456|  Diesel| 30| 64.2|       2.0|null| null|        null|   null|    null|null|null|      null|\n",
      "| 1 Series|2017|15500|   Automatic|  22812|  Diesel| 20| 68.9|       1.5|null| null|        null|   null|    null|null|null|      null|\n",
      "| 4 Series|2014|14000|   Automatic|  47348|  Diesel|125| 60.1|       2.0|null| null|        null|   null|    null|null|null|      null|\n",
      "+---------+----+-----+------------+-------+--------+---+-----+----------+----+-----+------------+-------+--------+----+----+----------+\n",
      "only showing top 20 rows\n",
      "\n"
     ]
    }
   ],
   "source": [
    "audi_bmw_set1 =  bmw_set.join(bd5, [\"model\"], \"left\").show()"
   ]
  },
  {
   "cell_type": "code",
   "execution_count": 45,
   "metadata": {},
   "outputs": [
    {
     "name": "stdout",
     "output_type": "stream",
     "text": [
      "+-----+----+-----+------------+-------+--------+----+----+----------+----+-----+------------+-------+--------+---+----+----------+\n",
      "|model|year|price|transmission|mileage|fuelType| tax| mpg|engineSize|year|price|transmission|mileage|fuelType|tax| mpg|engineSize|\n",
      "+-----+----+-----+------------+-------+--------+----+----+----------+----+-----+------------+-------+--------+---+----+----------+\n",
      "|   A1|null| null|        null|   null|    null|null|null|      null|2017|12500|      Manual|15735.0|  Petrol|150|55.4|       1.4|\n",
      "|   A6|null| null|        null|   null|    null|null|null|      null|2016|16500|   Automatic|36203.0|  Diesel| 20|64.2|       2.0|\n",
      "|   A1|null| null|        null|   null|    null|null|null|      null|2016|11000|      Manual|29946.0|  Petrol| 30|55.4|       1.4|\n",
      "|   A4|null| null|        null|   null|    null|null|null|      null|2017|16800|   Automatic|25952.0|  Diesel|145|67.3|       2.0|\n",
      "|   A3|null| null|        null|   null|    null|null|null|      null|2019|17300|      Manual| 1998.0|  Petrol|145|49.6|       1.0|\n",
      "|   A1|null| null|        null|   null|    null|null|null|      null|2016|13900|   Automatic|32260.0|  Petrol| 30|58.9|       1.4|\n",
      "|   A6|null| null|        null|   null|    null|null|null|      null|2016|13250|   Automatic|76788.0|  Diesel| 30|61.4|       2.0|\n",
      "|   A4|null| null|        null|   null|    null|null|null|      null|2016|11750|      Manual|75185.0|  Diesel| 20|70.6|       2.0|\n",
      "|   A3|null| null|        null|   null|    null|null|null|      null|2015|10200|      Manual|46112.0|  Petrol| 20|60.1|       1.4|\n",
      "|   A1|null| null|        null|   null|    null|null|null|      null|2016|12000|      Manual|22451.0|  Petrol| 30|55.4|       1.4|\n",
      "|   A3|null| null|        null|   null|    null|null|null|      null|2017|16100|      Manual|28955.0|  Petrol|145|58.9|       1.4|\n",
      "|   A6|null| null|        null|   null|    null|null|null|      null|2016|16500|   Automatic|52198.0|  Diesel|125|57.6|       2.0|\n",
      "|   Q3|null| null|        null|   null|    null|null|null|      null|2016|17000|      Manual|44915.0|  Diesel|145|52.3|       2.0|\n",
      "|   A3|null| null|        null|   null|    null|null|null|      null|2017|16400|      Manual|21695.0|  Petrol| 30|58.9|       1.4|\n",
      "|   A6|null| null|        null|   null|    null|null|null|      null|2015|15400|      Manual|47348.0|  Diesel| 30|61.4|       2.0|\n",
      "|   A3|null| null|        null|   null|    null|null|null|      null|2017|14500|   Automatic|26156.0|  Petrol|145|58.9|       1.4|\n",
      "|   Q3|null| null|        null|   null|    null|null|null|      null|2016|15700|   Automatic|28396.0|  Diesel|145|53.3|       2.0|\n",
      "|   A3|null| null|        null|   null|    null|null|null|      null|2014|13900|   Automatic|30516.0|  Petrol| 30|56.5|       1.4|\n",
      "|   Q5|null| null|        null|   null|    null|null|null|      null|2016|19000|   Automatic|37652.0|  Diesel|200|47.1|       2.0|\n",
      "|   Q3|null| null|        null|   null|    null|null|null|      null|2014|17000|      Manual|34110.0|  Petrol|145|47.9|       1.4|\n",
      "+-----+----+-----+------------+-------+--------+----+----+----------+----+-----+------------+-------+--------+---+----+----------+\n",
      "only showing top 20 rows\n",
      "\n"
     ]
    }
   ],
   "source": [
    "audi_bmw_set1 =  bmw_set.join(bd5, [\"model\"], \"right\").show()"
   ]
  },
  {
   "cell_type": "code",
   "execution_count": 47,
   "metadata": {},
   "outputs": [
    {
     "name": "stdout",
     "output_type": "stream",
     "text": [
      "+----+---------+-----+------------+-------+--------+---+-----+----------+\n",
      "|year|    model|price|transmission|mileage|fuelType|tax|  mpg|engineSize|\n",
      "+----+---------+-----+------------+-------+--------+---+-----+----------+\n",
      "|2014| 5 Series|11200|   Automatic|  67068|  Diesel|125| 57.6|       2.0|\n",
      "|2018| 6 Series|27000|   Automatic|  14827|  Petrol|145| 42.8|       2.0|\n",
      "|2016| 5 Series|16000|   Automatic|  62794|  Diesel|160| 51.4|       3.0|\n",
      "|2017| 1 Series|12750|   Automatic|  26676|  Diesel|145| 72.4|       1.5|\n",
      "|2014| 7 Series|14500|   Automatic|  39554|  Diesel|160| 50.4|       3.0|\n",
      "|2016| 5 Series|14900|   Automatic|  35309|  Diesel|125| 60.1|       2.0|\n",
      "|2017| 5 Series|16000|   Automatic|  38538|  Diesel|125| 60.1|       2.0|\n",
      "|2018| 2 Series|16250|      Manual|  10401|  Petrol|145| 52.3|       1.5|\n",
      "|2017| 4 Series|14250|      Manual|  42668|  Diesel| 30| 62.8|       2.0|\n",
      "|2016| 5 Series|14250|   Automatic|  36099|  Diesel| 20| 68.9|       2.0|\n",
      "|2017|       X3|15500|      Manual|  74907|  Diesel|145| 52.3|       2.0|\n",
      "|2017| 1 Series|11800|      Manual|  29840|  Diesel| 20| 68.9|       2.0|\n",
      "|2016|       X3|15500|   Automatic|  77823|  Diesel|125| 54.3|       2.0|\n",
      "|2015| 2 Series|10500|      Manual|  31469|  Diesel| 20| 68.9|       2.0|\n",
      "|2017|       X3|22000|   Automatic|  19057|  Diesel|145| 54.3|       2.0|\n",
      "|2017| 3 Series|16500|      Manual|  16570|  Diesel|125| 58.9|       2.0|\n",
      "|2017| 3 Series|14250|   Automatic|  55594|   Other|135|148.7|       2.0|\n",
      "|2017| 3 Series|16000|   Automatic|  45456|  Diesel| 30| 64.2|       2.0|\n",
      "|2017| 1 Series|15500|   Automatic|  22812|  Diesel| 20| 68.9|       1.5|\n",
      "|2014| 4 Series|14000|   Automatic|  47348|  Diesel|125| 60.1|       2.0|\n",
      "+----+---------+-----+------------+-------+--------+---+-----+----------+\n",
      "only showing top 20 rows\n",
      "\n"
     ]
    }
   ],
   "source": [
    "audi_bmw_set1 =  bmw_set.join(bd5, [\"year\"], \"leftsemi\").show()"
   ]
  },
  {
   "cell_type": "code",
   "execution_count": 48,
   "metadata": {},
   "outputs": [
    {
     "name": "stdout",
     "output_type": "stream",
     "text": [
      "+----+---------+-----+------------+-------+--------+---+----+----------+\n",
      "|year|    model|price|transmission|mileage|fuelType|tax| mpg|engineSize|\n",
      "+----+---------+-----+------------+-------+--------+---+----+----------+\n",
      "|2001| 1 Series|13000|      Manual|  22633|  Petrol|125|53.3|       0.0|\n",
      "|2001| 3 Series| 3050|   Automatic|  90000|  Petrol|325|27.7|       3.0|\n",
      "|2000| 5 Series| 1699|      Manual|  99209|  Petrol|265|29.4|       2.0|\n",
      "|1999|       Z3| 3995|      Manual|  74282|  Petrol|245|35.3|       1.9|\n",
      "|1999|       Z3| 3995|      Manual|  51949|  Petrol|255|35.3|       1.9|\n",
      "|1996| 5 Series| 5995|   Automatic|  36000|  Petrol|270|26.4|       2.8|\n",
      "|1999| 3 Series| 1200|   Automatic|  82000|  Petrol|245|31.0|       2.8|\n",
      "|2001|       Z3| 5950|      Manual|  60000|  Petrol|325|30.7|       2.2|\n",
      "|1999|       Z3| 3950|      Manual|  58000|  Petrol|270|35.3|       1.9|\n",
      "|2000| 3 Series| 1550|   Automatic|  93000|  Petrol|270|29.7|       2.5|\n",
      "+----+---------+-----+------------+-------+--------+---+----+----------+\n",
      "\n"
     ]
    }
   ],
   "source": [
    "audi_bmw_set1 =  bmw_set.join(bd5, [\"year\"], \"leftanti\").show()"
   ]
  },
  {
   "cell_type": "code",
   "execution_count": null,
   "metadata": {},
   "outputs": [],
   "source": []
  },
  {
   "cell_type": "code",
   "execution_count": null,
   "metadata": {},
   "outputs": [],
   "source": []
  }
 ],
 "metadata": {
  "anaconda-cloud": {},
  "kernelspec": {
   "display_name": "Python 3 (ipykernel)",
   "language": "python",
   "name": "python3"
  },
  "language_info": {
   "codemirror_mode": {
    "name": "ipython",
    "version": 3
   },
   "file_extension": ".py",
   "mimetype": "text/x-python",
   "name": "python",
   "nbconvert_exporter": "python",
   "pygments_lexer": "ipython3",
   "version": "3.8.10"
  }
 },
 "nbformat": 4,
 "nbformat_minor": 4
}
