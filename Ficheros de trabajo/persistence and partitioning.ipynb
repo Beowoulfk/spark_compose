{
 "cells": [
  {
   "cell_type": "code",
   "execution_count": 3,
   "id": "dc036843-242c-4a93-8cd5-dad38cca7bf5",
   "metadata": {},
   "outputs": [
    {
     "name": "stderr",
     "output_type": "stream",
     "text": [
      "Using Spark's default log4j profile: org/apache/spark/log4j-defaults.properties\n",
      "Setting default log level to \"WARN\".\n",
      "To adjust logging level use sc.setLogLevel(newLevel). For SparkR, use setLogLevel(newLevel).\n",
      "21/12/21 00:29:10 WARN NativeCodeLoader: Unable to load native-hadoop library for your platform... using builtin-java classes where applicable\n"
     ]
    }
   ],
   "source": [
    "from pyspark.sql import SparkSession\n",
    "\n",
    "spark = SparkSession \\\n",
    "    .builder \\\n",
    "    .appName(\"Python Spark SQL basic example\") \\\n",
    "    .config(\"spark.some.config.option\", \"some-value\") \\\n",
    "    .master(\"local[5]\") \\\n",
    "    .getOrCreate()"
   ]
  },
  {
   "cell_type": "code",
   "execution_count": 5,
   "id": "27aac618-db34-41f4-9831-caf0f1452af5",
   "metadata": {},
   "outputs": [
    {
     "data": {
      "text/plain": [
       "5"
      ]
     },
     "execution_count": 5,
     "metadata": {},
     "output_type": "execute_result"
    }
   ],
   "source": [
    "df = spark.range(0,50)\n",
    "df.rdd.getNumPartitions()"
   ]
  },
  {
   "cell_type": "code",
   "execution_count": 6,
   "id": "36d53f85-6f17-41d3-bd99-f78e7158ef25",
   "metadata": {},
   "outputs": [
    {
     "data": {
      "text/plain": [
       "10"
      ]
     },
     "execution_count": 6,
     "metadata": {},
     "output_type": "execute_result"
    }
   ],
   "source": [
    "rdd1 = spark.sparkContext.parallelize((0,20),10)\n",
    "rdd1.getNumPartitions()"
   ]
  },
  {
   "cell_type": "code",
   "execution_count": 9,
   "id": "627f6d4d-3fd3-487f-a9b7-17602e643e3e",
   "metadata": {},
   "outputs": [],
   "source": [
    "rdd_desde_archivo = spark \\\n",
    "    .sparkContext \\\n",
    "    .textFile(\"deporte.csv\", 10)"
   ]
  },
  {
   "cell_type": "code",
   "execution_count": 10,
   "id": "bd9175b0-4456-48c5-ac7c-285f94a4369e",
   "metadata": {},
   "outputs": [
    {
     "data": {
      "text/plain": [
       "10"
      ]
     },
     "execution_count": 10,
     "metadata": {},
     "output_type": "execute_result"
    }
   ],
   "source": [
    "rdd_desde_archivo.getNumPartitions()"
   ]
  },
  {
   "cell_type": "code",
   "execution_count": 23,
   "id": "22cc9158-094f-41a3-8b4f-4f0c334d662a",
   "metadata": {},
   "outputs": [],
   "source": [
    "rdd_desde_archivo.saveAsTextFile(\"Ficheros_de_trabajo_particionado\")"
   ]
  },
  {
   "cell_type": "code",
   "execution_count": 27,
   "id": "d0c71983-b118-4aa0-9177-2e3f7c4d23a6",
   "metadata": {},
   "outputs": [
    {
     "name": "stdout",
     "output_type": "stream",
     "text": [
      "_SUCCESS    part-00001\tpart-00003  part-00005\tpart-00007  part-00009\n",
      "part-00000  part-00002\tpart-00004  part-00006\tpart-00008\n"
     ]
    }
   ],
   "source": [
    "!ls 'Ficheros de trabajo'"
   ]
  },
  {
   "cell_type": "code",
   "execution_count": 30,
   "id": "00e357d1-9e60-4012-bcb1-09ab7fd35b53",
   "metadata": {},
   "outputs": [
    {
     "name": "stdout",
     "output_type": "stream",
     "text": [
      "7,Athletics\n",
      "8,Ice Hockey\n",
      "9,Swimming\n",
      "10,Badminton\n",
      "11,Sailing\n"
     ]
    }
   ],
   "source": [
    "!head -n 5 'Ficheros de trabajo'/part-00001"
   ]
  },
  {
   "cell_type": "code",
   "execution_count": 46,
   "id": "ced66b3d-25df-41b1-b82e-e3409dcfb496",
   "metadata": {},
   "outputs": [],
   "source": [
    "rdd = spark.sparkContext.wholeTextFiles(\"Ficheros de trabajo/*\")"
   ]
  },
  {
   "cell_type": "code",
   "execution_count": 48,
   "id": "bec58412-3ed2-4f8f-ad81-cdae89a809d9",
   "metadata": {},
   "outputs": [
    {
     "data": {
      "text/plain": [
       "[('file:/src/Ficheros de trabajo/Ficheros de trabajo/part-00000',\n",
       "  'deporte_id,deporte\\n1,Basketball\\n2,Judo\\n3,Football\\n4,Tug-Of-War\\n5,Speed Skating\\n6,Cross Country Skiing\\n'),\n",
       " ('file:/src/Ficheros de trabajo/Ficheros de trabajo/part-00001',\n",
       "  '7,Athletics\\n8,Ice Hockey\\n9,Swimming\\n10,Badminton\\n11,Sailing\\n12,Biathlon\\n13,Gymnastics\\n14,Art Competitions\\n'),\n",
       " ('file:/src/Ficheros de trabajo/Ficheros de trabajo/part-00002',\n",
       "  '15,Alpine Skiing\\n16,Handball\\n17,Weightlifting\\n18,Wrestling\\n19,Luge\\n20,Water Polo\\n'),\n",
       " ('file:/src/Ficheros de trabajo/Ficheros de trabajo/part-00003',\n",
       "  '21,Hockey\\n22,Rowing\\n23,Bobsleigh\\n24,Fencing\\n25,Equestrianism\\n26,Shooting\\n27,Boxing\\n28,Taekwondo\\n'),\n",
       " ('file:/src/Ficheros de trabajo/Ficheros de trabajo/part-00004',\n",
       "  '29,Cycling\\n30,Diving\\n31,Canoeing\\n32,Tennis\\n33,Modern Pentathlon\\n34,Figure Skating\\n35,Golf\\n'),\n",
       " ('file:/src/Ficheros de trabajo/Ficheros de trabajo/part-00005',\n",
       "  '36,Softball\\n37,Archery\\n38,Volleyball\\n39,Synchronized Swimming\\n40,Table Tennis\\n41,Nordic Combined\\n'),\n",
       " ('file:/src/Ficheros de trabajo/Ficheros de trabajo/part-00006',\n",
       "  '42,Baseball\\n43,Rhythmic Gymnastics\\n44,Freestyle Skiing\\n45,Rugby Sevens\\n46,Trampolining\\n'),\n",
       " ('file:/src/Ficheros de trabajo/Ficheros de trabajo/part-00007',\n",
       "  '47,Beach Volleyball\\n48,Triathlon\\n49,Ski Jumping\\n50,Curling\\n51,Snowboarding\\n52,Rugby\\n53,Short Track Speed Skating\\n'),\n",
       " ('file:/src/Ficheros de trabajo/Ficheros de trabajo/part-00008',\n",
       "  '54,Skeleton\\n55,Lacrosse\\n56,Polo\\n57,Cricket\\n58,Racquets\\n59,Motorboating\\n60,Military Ski Patrol\\n'),\n",
       " ('file:/src/Ficheros de trabajo/Ficheros de trabajo/part-00009',\n",
       "  '61,Croquet\\n62,Jeu De Paume\\n63,Roque\\n64,Alpinism\\n65,Basque Pelota\\n66,Aeronautics\\n')]"
      ]
     },
     "execution_count": 48,
     "metadata": {},
     "output_type": "execute_result"
    }
   ],
   "source": [
    "rdd.take(10)"
   ]
  },
  {
   "cell_type": "code",
   "execution_count": 59,
   "id": "82522bec-c7e9-43b2-8635-d51445fcc266",
   "metadata": {},
   "outputs": [],
   "source": [
    "lista_deportes = rdd.mapValues(lambda x: x.split()).collect()"
   ]
  },
  {
   "cell_type": "code",
   "execution_count": 60,
   "id": "926eb298-5ee6-478e-8eb2-bb5c4a21f334",
   "metadata": {},
   "outputs": [],
   "source": [
    "lista_deportes = [l[0] for  l in lista_deportes]\n",
    "lista_deportes.sort()"
   ]
  },
  {
   "cell_type": "code",
   "execution_count": 61,
   "id": "1f7422c7-d260-451c-b17c-cabc31b2cd56",
   "metadata": {},
   "outputs": [
    {
     "data": {
      "text/plain": [
       "['file:/src/Ficheros de trabajo/Ficheros de trabajo/part-00000',\n",
       " 'file:/src/Ficheros de trabajo/Ficheros de trabajo/part-00001',\n",
       " 'file:/src/Ficheros de trabajo/Ficheros de trabajo/part-00002',\n",
       " 'file:/src/Ficheros de trabajo/Ficheros de trabajo/part-00003',\n",
       " 'file:/src/Ficheros de trabajo/Ficheros de trabajo/part-00004',\n",
       " 'file:/src/Ficheros de trabajo/Ficheros de trabajo/part-00005',\n",
       " 'file:/src/Ficheros de trabajo/Ficheros de trabajo/part-00006',\n",
       " 'file:/src/Ficheros de trabajo/Ficheros de trabajo/part-00007',\n",
       " 'file:/src/Ficheros de trabajo/Ficheros de trabajo/part-00008',\n",
       " 'file:/src/Ficheros de trabajo/Ficheros de trabajo/part-00009']"
      ]
     },
     "execution_count": 61,
     "metadata": {},
     "output_type": "execute_result"
    }
   ],
   "source": [
    "lista_deportes"
   ]
  },
  {
   "cell_type": "code",
   "execution_count": 63,
   "id": "c5880306-d58d-4e17-ba02-52fcea386d26",
   "metadata": {},
   "outputs": [],
   "source": [
    "rdd2 = spark \\\n",
    "    .sparkContext \\\n",
    "    .textFile(','.join(lista_deportes),10).map(lambda l: l.split(\",\"))"
   ]
  },
  {
   "cell_type": "code",
   "execution_count": 64,
   "id": "d269f4b4-5643-4f3f-8743-368996b9036f",
   "metadata": {},
   "outputs": [
    {
     "data": {
      "text/plain": [
       "[['deporte_id', 'deporte'],\n",
       " ['1', 'Basketball'],\n",
       " ['2', 'Judo'],\n",
       " ['3', 'Football'],\n",
       " ['4', 'Tug-Of-War']]"
      ]
     },
     "execution_count": 64,
     "metadata": {},
     "output_type": "execute_result"
    }
   ],
   "source": [
    "rdd2.take(5)"
   ]
  },
  {
   "cell_type": "code",
   "execution_count": null,
   "id": "03e2bb3d-7ad8-49b7-b2ec-c286e9def5f5",
   "metadata": {},
   "outputs": [],
   "source": []
  }
 ],
 "metadata": {
  "kernelspec": {
   "display_name": "Python 3 (ipykernel)",
   "language": "python",
   "name": "python3"
  },
  "language_info": {
   "codemirror_mode": {
    "name": "ipython",
    "version": 3
   },
   "file_extension": ".py",
   "mimetype": "text/x-python",
   "name": "python",
   "nbconvert_exporter": "python",
   "pygments_lexer": "ipython3",
   "version": "3.8.10"
  }
 },
 "nbformat": 4,
 "nbformat_minor": 5
}
