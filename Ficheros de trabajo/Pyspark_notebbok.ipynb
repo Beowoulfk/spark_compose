{
 "cells": [
  {
   "cell_type": "markdown",
   "id": "92bf277f-6c48-4318-893f-abba42fe1c0a",
   "metadata": {
    "tags": []
   },
   "source": [
    "# Pyspark notebook with the basics"
   ]
  },
  {
   "cell_type": "code",
   "execution_count": 1,
   "id": "7f53a984-e911-457e-a8fc-56b7309f16fd",
   "metadata": {},
   "outputs": [],
   "source": [
    "# Libraries used\n",
    "from pyspark import SparkContext\n",
    "from pyspark.sql import SparkSession\n",
    "#  Necessary libraries to create a Dataframe\n",
    "from pyspark.sql.types import StructType, StructField, IntegerType, FloatType, StringType\n",
    "from pyspark.sql.types import Row\n",
    "from pyspark.sql import SQLContext"
   ]
  },
  {
   "cell_type": "markdown",
   "id": "bb8d9b7b-cee3-4a07-8f09-0fcaf7a7ba70",
   "metadata": {
    "jp-MarkdownHeadingCollapsed": true,
    "tags": []
   },
   "source": [
    "#### creating an SQL spark context"
   ]
  },
  {
   "cell_type": "code",
   "execution_count": 2,
   "id": "7ba78152-49ac-495b-a328-6d56c2f0eeef",
   "metadata": {},
   "outputs": [
    {
     "name": "stderr",
     "output_type": "stream",
     "text": [
      "Using Spark's default log4j profile: org/apache/spark/log4j-defaults.properties\n",
      "Setting default log level to \"WARN\".\n",
      "To adjust logging level use sc.setLogLevel(newLevel). For SparkR, use setLogLevel(newLevel).\n",
      "21/12/30 16:25:39 WARN NativeCodeLoader: Unable to load native-hadoop library for your platform... using builtin-java classes where applicable\n",
      "/usr/local/lib/python3.8/dist-packages/pyspark/sql/context.py:77: FutureWarning: Deprecated in 3.0.0. Use SparkSession.builder.getOrCreate() instead.\n",
      "  warnings.warn(\n"
     ]
    }
   ],
   "source": [
    "spark = SparkContext(master=\"local\", appName=\"Dataframes\")\n",
    "SQLCont = SQLContext(spark)"
   ]
  },
  {
   "cell_type": "code",
   "execution_count": 5,
   "id": "ed69bf0c-7cfb-4a96-8cb9-5eed996300c2",
   "metadata": {},
   "outputs": [
    {
     "data": {
      "text/html": [
       "\n",
       "        <div>\n",
       "            <p><b>SparkContext</b></p>\n",
       "\n",
       "            <p><a href=\"http://33697866225d:4040\">Spark UI</a></p>\n",
       "\n",
       "            <dl>\n",
       "              <dt>Version</dt>\n",
       "                <dd><code>v3.2.0</code></dd>\n",
       "              <dt>Master</dt>\n",
       "                <dd><code>local</code></dd>\n",
       "              <dt>AppName</dt>\n",
       "                <dd><code>Dataframes</code></dd>\n",
       "            </dl>\n",
       "        </div>\n",
       "        "
      ],
      "text/plain": [
       "<SparkContext master=local appName=Dataframes>"
      ]
     },
     "execution_count": 5,
     "metadata": {},
     "output_type": "execute_result"
    }
   ],
   "source": [
    "spark"
   ]
  },
  {
   "cell_type": "code",
   "execution_count": 6,
   "id": "0356ac27-43d2-4891-9cde-dff2e9f79114",
   "metadata": {},
   "outputs": [
    {
     "name": "stdout",
     "output_type": "stream",
     "text": [
      ",nombre_juego,annio,temporada,ciudad\n",
      "1,1896 Verano,1896,Verano,Athina\n",
      "2,1900 Verano,1900,Verano,Paris\n",
      "3,1904 Verano,1904,Verano,St. Louis\n",
      "4,1906 Verano,1906,Verano,Athina\n"
     ]
    }
   ],
   "source": [
    "# bash\n",
    "!head -n 5 juegos.csv"
   ]
  },
  {
   "cell_type": "markdown",
   "id": "a8c973e2-5cbd-40a2-854e-7973e7bdcfe9",
   "metadata": {
    "tags": []
   },
   "source": [
    "## RDD and Dataframe creations with schemas"
   ]
  },
  {
   "cell_type": "code",
   "execution_count": 8,
   "id": "64e36f1f-ede3-4a69-93a3-dfb4816dcfab",
   "metadata": {},
   "outputs": [],
   "source": [
    "# Here we are creating a schema for our csv\n",
    "games_schema = StructType([\n",
    "    StructField(\"juego_id\", IntegerType(),False),\n",
    "    StructField(\"anio\", StringType(), False),\n",
    "    StructField(\"temporada\", StringType(), False),\n",
    "    StructField(\"ciudad\", StringType(), False)])\n",
    "\n",
    "GamesDF = SQLCont.read.schema(games_schema)\\\n",
    ".option(\"header\",\"true\").csv(\"juegos.csv\")\n",
    "                            "
   ]
  },
  {
   "cell_type": "code",
   "execution_count": 9,
   "id": "e7825d46-9f51-471e-80ea-b468db41a7ea",
   "metadata": {},
   "outputs": [
    {
     "name": "stdout",
     "output_type": "stream",
     "text": [
      "+--------+-----------+---------+------+\n",
      "|juego_id|       anio|temporada|ciudad|\n",
      "+--------+-----------+---------+------+\n",
      "|       1|1896 Verano|     1896|Verano|\n",
      "|       2|1900 Verano|     1900|Verano|\n",
      "|       3|1904 Verano|     1904|Verano|\n",
      "|       4|1906 Verano|     1906|Verano|\n",
      "|       5|1908 Verano|     1908|Verano|\n",
      "+--------+-----------+---------+------+\n",
      "only showing top 5 rows\n",
      "\n"
     ]
    },
    {
     "name": "stderr",
     "output_type": "stream",
     "text": [
      "21/12/30 16:26:27 WARN CSVHeaderChecker: Number of column in CSV header is not equal to number of fields in the schema:\n",
      " Header length: 5, schema size: 4\n",
      "CSV file: file:///src/Ficheros%20de%20trabajo/juegos.csv\n"
     ]
    }
   ],
   "source": [
    "GamesDF.show(5)"
   ]
  },
  {
   "cell_type": "code",
   "execution_count": 10,
   "id": "9154cdcb-82cf-45f4-906f-476e53ee362c",
   "metadata": {},
   "outputs": [],
   "source": [
    "# Creation of a Dataframe from an RDD"
   ]
  },
  {
   "cell_type": "code",
   "execution_count": 30,
   "id": "f6961eb1-fef0-4c0b-a2cc-d9ff7c7e846f",
   "metadata": {},
   "outputs": [],
   "source": [
    "\n",
    "olympic_athlete_RDD = spark.textFile(\"deportista.csv\").map(lambda l : l.split(\",\"))"
   ]
  },
  {
   "cell_type": "code",
   "execution_count": 31,
   "id": "5c0aebc6-3f22-4eed-b525-bc48f06b0093",
   "metadata": {},
   "outputs": [
    {
     "data": {
      "text/plain": [
       "[['deportista_id', 'nombre', 'genero', 'edad', 'altura', 'peso', 'equipo_id'],\n",
       " ['1', 'A Dijiang', '1', '24', '180', '80', '199'],\n",
       " ['2', 'A Lamusi', '1', '23', '170', '60', '199'],\n",
       " ['3', 'Gunnar Nielsen Aaby', '1', '24', '0', '0', '273'],\n",
       " ['4', 'Edgar Lindenau Aabye', '1', '34', '0', '0', '278']]"
      ]
     },
     "execution_count": 31,
     "metadata": {},
     "output_type": "execute_result"
    }
   ],
   "source": [
    "olympic_athlete_RDD .take(5)"
   ]
  },
  {
   "cell_type": "code",
   "execution_count": 32,
   "id": "91190799-8573-4e13-a468-cd9ed714fc9f",
   "metadata": {},
   "outputs": [],
   "source": [
    "# we define a function\n",
    "def delete_header(index, iterator)-> iter:\n",
    "    \"\"\"\n",
    "    this function deletes the header of our\n",
    "    RDD csv\n",
    "    \"\"\"\n",
    "    return iter(list(iterator)[1:])"
   ]
  },
  {
   "cell_type": "code",
   "execution_count": 33,
   "id": "4736013e-cdf8-454f-aa05-ffb424c32b46",
   "metadata": {},
   "outputs": [],
   "source": [
    "olympic_athlete_RDD = olympic_athlete_RDD.mapPartitionsWithIndex(delete_header)"
   ]
  },
  {
   "cell_type": "code",
   "execution_count": 34,
   "id": "a64aadd9-757a-49ce-8a3d-ce247271544d",
   "metadata": {},
   "outputs": [
    {
     "data": {
      "text/plain": [
       "[['1', 'A Dijiang', '1', '24', '180', '80', '199'],\n",
       " ['2', 'A Lamusi', '1', '23', '170', '60', '199'],\n",
       " ['3', 'Gunnar Nielsen Aaby', '1', '24', '0', '0', '273'],\n",
       " ['4', 'Edgar Lindenau Aabye', '1', '34', '0', '0', '278'],\n",
       " ['5', 'Christine Jacoba Aaftink', '2', '21', '185', '82', '705']]"
      ]
     },
     "execution_count": 34,
     "metadata": {},
     "output_type": "execute_result"
    }
   ],
   "source": [
    "olympic_athlete_RDD.take(5)"
   ]
  },
  {
   "cell_type": "code",
   "execution_count": 35,
   "id": "3a9c9846-41ea-43fb-8d50-25aecdc293de",
   "metadata": {},
   "outputs": [],
   "source": [
    "# Here we remap our RDD\n",
    "olympic_athlete_RDD = olympic_athlete_RDD.map(lambda l: (int(l[0]),\n",
    "                              l[1],\n",
    "                              int(l[2]),\n",
    "                              int(l[3]),\n",
    "                              int(l[4]),\n",
    "                              float(l[5]),\n",
    "                              int(l[6])\n",
    "                             ))\n",
    "                                  \n",
    "                                  "
   ]
  },
  {
   "cell_type": "code",
   "execution_count": 36,
   "id": "5a074e70-16ee-45b6-90f1-f2ed984bd0d5",
   "metadata": {},
   "outputs": [],
   "source": [
    "\n",
    "athlete_schema = StructType([\n",
    "    StructField(\"deportista_id\",IntegerType(),False),\n",
    "    StructField(\"nombre\",StringType(),False),\n",
    "    StructField(\"genero\",IntegerType(),False),\n",
    "    StructField(\"edad\",IntegerType(),False),\n",
    "    StructField(\"altura\",IntegerType(),False),\n",
    "    StructField(\"peso\",FloatType(),False),\n",
    "    StructField(\"equipo_id\",IntegerType(),False)\n",
    "])"
   ]
  },
  {
   "cell_type": "code",
   "execution_count": 38,
   "id": "65abab9c-2245-445d-b0ef-4ea4ef73311c",
   "metadata": {},
   "outputs": [],
   "source": [
    "athlete_df = SQLCont.createDataFrame(olympic_athlete_RDD, athlete_schema)"
   ]
  },
  {
   "cell_type": "code",
   "execution_count": 39,
   "id": "da9bae61-ec15-4469-9b80-ee44d9720bf7",
   "metadata": {},
   "outputs": [
    {
     "name": "stdout",
     "output_type": "stream",
     "text": [
      "+-------------+--------------------+------+----+------+----+---------+\n",
      "|deportista_id|              nombre|genero|edad|altura|peso|equipo_id|\n",
      "+-------------+--------------------+------+----+------+----+---------+\n",
      "|            1|           A Dijiang|     1|  24|   180|80.0|      199|\n",
      "|            2|            A Lamusi|     1|  23|   170|60.0|      199|\n",
      "|            3| Gunnar Nielsen Aaby|     1|  24|     0| 0.0|      273|\n",
      "|            4|Edgar Lindenau Aabye|     1|  34|     0| 0.0|      278|\n",
      "|            5|Christine Jacoba ...|     2|  21|   185|82.0|      705|\n",
      "+-------------+--------------------+------+----+------+----+---------+\n",
      "only showing top 5 rows\n",
      "\n"
     ]
    }
   ],
   "source": [
    "athlete_df.show(5)"
   ]
  },
  {
   "cell_type": "code",
   "execution_count": 40,
   "id": "1bc2a41d-b36c-4805-9f09-0f650a10c98b",
   "metadata": {},
   "outputs": [
    {
     "name": "stdout",
     "output_type": "stream",
     "text": [
      "root\n",
      " |-- deportista_id: integer (nullable = false)\n",
      " |-- nombre: string (nullable = false)\n",
      " |-- genero: integer (nullable = false)\n",
      " |-- edad: integer (nullable = false)\n",
      " |-- altura: integer (nullable = false)\n",
      " |-- peso: float (nullable = false)\n",
      " |-- equipo_id: integer (nullable = false)\n",
      "\n"
     ]
    }
   ],
   "source": [
    "athlete_df.printSchema()"
   ]
  },
  {
   "cell_type": "code",
   "execution_count": 41,
   "id": "f5a85592-2031-4ca9-b6c7-a2a2f441f19b",
   "metadata": {},
   "outputs": [],
   "source": [
    "athlete_df = athlete_df.withColumnRenamed(\"genero\",\"sexo\").drop(\"altura\")"
   ]
  },
  {
   "cell_type": "code",
   "execution_count": 42,
   "id": "712d2217-5b98-4170-b357-5a2451a73787",
   "metadata": {},
   "outputs": [
    {
     "name": "stdout",
     "output_type": "stream",
     "text": [
      "root\n",
      " |-- deportista_id: integer (nullable = false)\n",
      " |-- nombre: string (nullable = false)\n",
      " |-- sexo: integer (nullable = false)\n",
      " |-- edad: integer (nullable = false)\n",
      " |-- peso: float (nullable = false)\n",
      " |-- equipo_id: integer (nullable = false)\n",
      "\n"
     ]
    }
   ],
   "source": [
    "athlete_df.printSchema()"
   ]
  },
  {
   "cell_type": "code",
   "execution_count": 43,
   "id": "e2422650-ed8c-4c5c-bfe6-b149272fdb3c",
   "metadata": {},
   "outputs": [],
   "source": [
    "import  pyspark.sql.functions  as F\n",
    "\n",
    "athlete_df = athlete_df.select(\"deportista_id\",\"nombre\",\n",
    "                 F.col(\"edad\").alias(\"edad_al_jugar\"),\"equipo_id\")"
   ]
  },
  {
   "cell_type": "code",
   "execution_count": 44,
   "id": "3418014c-a654-4738-b01f-1e3b619bb2e3",
   "metadata": {},
   "outputs": [
    {
     "name": "stdout",
     "output_type": "stream",
     "text": [
      "+-------------+--------------------+-------------+---------+\n",
      "|deportista_id|              nombre|edad_al_jugar|equipo_id|\n",
      "+-------------+--------------------+-------------+---------+\n",
      "|            1|           A Dijiang|           24|      199|\n",
      "|            2|            A Lamusi|           23|      199|\n",
      "|            3| Gunnar Nielsen Aaby|           24|      273|\n",
      "|            4|Edgar Lindenau Aabye|           34|      278|\n",
      "|            5|Christine Jacoba ...|           21|      705|\n",
      "+-------------+--------------------+-------------+---------+\n",
      "only showing top 5 rows\n",
      "\n"
     ]
    }
   ],
   "source": [
    "athlete_df.show(5)"
   ]
  },
  {
   "cell_type": "code",
   "execution_count": 45,
   "id": "6b04ce30-c20c-4ca7-bab7-ca2affe37786",
   "metadata": {},
   "outputs": [
    {
     "name": "stdout",
     "output_type": "stream",
     "text": [
      "+-------------+--------------------+-------------+---------+\n",
      "|deportista_id|              nombre|edad_al_jugar|equipo_id|\n",
      "+-------------+--------------------+-------------+---------+\n",
      "|          224|     Mohamed AbdelEl|            0|      308|\n",
      "|          487|      Inni Aboubacar|            0|      721|\n",
      "|          226|Sanad Bushara Abd...|            0|     1003|\n",
      "|           58|    Georgi Abadzhiev|            0|      154|\n",
      "|          230|    Moustafa Abdelal|            0|      308|\n",
      "|          102|   Sayed Fahmy Abaza|            0|      308|\n",
      "|          260|  Ahmed Abdo Mustafa|            0|     1003|\n",
      "|          139|George Ioannis Abbot|            0|     1043|\n",
      "|          281|      S. Abdul Hamid|            0|      487|\n",
      "|          163|     Ismail Abdallah|            0|     1095|\n",
      "|          285|Talal Hassoun Abd...|            0|      497|\n",
      "|          173| Mohamed Abdel Fatah|            0|     1003|\n",
      "|          179|Ibrahim Saad Abde...|            0|     1003|\n",
      "|          378|     Angelik Abebame|            0|        0|\n",
      "|          294|Mohamed Ghulom Ab...|            0|       81|\n",
      "|          186| Mohamed Abdel Hafiz|            0|     1095|\n",
      "|          300|     A. Abdul Razzak|            0|      497|\n",
      "|          190| Ibrahim Abdel Hamid|            0|      308|\n",
      "|          301|Mohamed Abdul Razzak|            0|      497|\n",
      "|          209|Ibrahim Abdel Rahman|            0|     1095|\n",
      "+-------------+--------------------+-------------+---------+\n",
      "only showing top 20 rows\n",
      "\n"
     ]
    }
   ],
   "source": [
    "\n",
    "athlete_df.sort(\"edad_al_jugar\").show()"
   ]
  },
  {
   "cell_type": "code",
   "execution_count": 46,
   "id": "5672907c-14ed-4831-b1d2-76803a2bbe58",
   "metadata": {},
   "outputs": [],
   "source": [
    "athlete_df = athlete_df.filter((athlete_df.edad_al_jugar !=0))"
   ]
  },
  {
   "cell_type": "code",
   "execution_count": 47,
   "id": "7d7c0d0f-b0ea-4693-aeef-32a0c05644be",
   "metadata": {},
   "outputs": [
    {
     "name": "stdout",
     "output_type": "stream",
     "text": [
      "+-------------+--------------------+-------------+---------+\n",
      "|deportista_id|              nombre|edad_al_jugar|equipo_id|\n",
      "+-------------+--------------------+-------------+---------+\n",
      "|        52070|        Etsuko Inada|           11|      514|\n",
      "|        22411|Magdalena Cecilia...|           11|      413|\n",
      "|        40129|    Luigina Giavotti|           11|      507|\n",
      "|        47618|Sonja Henie Toppi...|           11|      742|\n",
      "|        37333|Carlos Bienvenido...|           11|      982|\n",
      "|        51268|      Beatrice Hutiu|           11|      861|\n",
      "|         5291|Marcia Arriaga La...|           12|      656|\n",
      "|        24191| Philippe Cuelenaere|           12|       96|\n",
      "|        42835|   Werner Grieshofer|           12|       71|\n",
      "|        25877|Olga Lucia de Ang...|           12|      225|\n",
      "|        31203|Patricia Anne Pat...|           12|      967|\n",
      "|        43528|Antoinette Joyce ...|           12|      172|\n",
      "|        46578|        Diana Hatler|           12|      825|\n",
      "|        48728|      Margery Hinton|           12|      413|\n",
      "|        49142|        Jan Hoffmann|           12|      302|\n",
      "|        59727|Marika Kilius Zah...|           12|      399|\n",
      "|        40296|    Alain C. Giletti|           12|      362|\n",
      "|        47506|        Hem Reaksmey|           12|      168|\n",
      "|        48939|             Ho Gang|           12|      738|\n",
      "|        54620|Belita Gladys Lyn...|           12|      413|\n",
      "+-------------+--------------------+-------------+---------+\n",
      "only showing top 20 rows\n",
      "\n"
     ]
    }
   ],
   "source": [
    "athlete_df.sort(\"edad_al_jugar\").show()"
   ]
  },
  {
   "cell_type": "code",
   "execution_count": 50,
   "id": "3bb05cd8-b281-49c7-a5d0-6c07f6fd614d",
   "metadata": {},
   "outputs": [
    {
     "name": "stdout",
     "output_type": "stream",
     "text": [
      "root\n",
      " |-- deportista_id: integer (nullable = false)\n",
      " |-- nombre: string (nullable = false)\n",
      " |-- edad_al_jugar: integer (nullable = false)\n",
      " |-- equipo_id: integer (nullable = false)\n",
      "\n"
     ]
    }
   ],
   "source": [
    "\n",
    "athlete_df.printSchema()"
   ]
  },
  {
   "cell_type": "code",
   "execution_count": 51,
   "id": "3235479b-b3f6-45e8-ade8-21750e9414dd",
   "metadata": {},
   "outputs": [],
   "source": [
    "resultadoDF = SQLCont.read.format(\n",
    "    \"com.databricks.spark.csv\"\n",
    ").option(\"header\", \"true\").load(\"resultados.csv\", inferschema = True)"
   ]
  },
  {
   "cell_type": "code",
   "execution_count": 52,
   "id": "905cb23e-e487-479a-8aea-297244941ed8",
   "metadata": {},
   "outputs": [],
   "source": [
    "deporteDF = SQLCont.read.format(\n",
    "    \"com.databricks.spark.csv\"\n",
    ").option(\"header\", \"true\").load(\"deporte.csv\", inferschema = True)"
   ]
  },
  {
   "cell_type": "code",
   "execution_count": 53,
   "id": "54cce03e-932e-4ada-a1f7-a0eb242bae0d",
   "metadata": {},
   "outputs": [],
   "source": [
    "paisesDF = SQLCont.read.format(\n",
    "    \"com.databricks.spark.csv\"\n",
    ").option(\"header\", \"true\").load(\"paises.csv\", inferschema = True)"
   ]
  },
  {
   "cell_type": "code",
   "execution_count": 54,
   "id": "e9a4219a-223a-471d-a854-2d51117d79ad",
   "metadata": {},
   "outputs": [],
   "source": [
    "eventoDF = SQLCont.read.format(\n",
    "    \"com.databricks.spark.csv\"\n",
    ").option(\"header\", \"true\").load(\"evento.csv\", inferschema = True)"
   ]
  },
  {
   "cell_type": "code",
   "execution_count": 55,
   "id": "c5973c1d-1959-48e2-b1ea-707388f11c2d",
   "metadata": {},
   "outputs": [
    {
     "name": "stdout",
     "output_type": "stream",
     "text": [
      "root\n",
      " |-- resultado_id: integer (nullable = true)\n",
      " |-- medalla: string (nullable = true)\n",
      " |-- deportista_id: integer (nullable = true)\n",
      " |-- juego_id: integer (nullable = true)\n",
      " |-- evento_id: string (nullable = true)\n",
      "\n"
     ]
    }
   ],
   "source": [
    "\n",
    "resultadoDF.printSchema()"
   ]
  },
  {
   "cell_type": "code",
   "execution_count": 32,
   "id": "8508a826-524c-4f75-9b5a-db2a52ae4540",
   "metadata": {},
   "outputs": [
    {
     "name": "stdout",
     "output_type": "stream",
     "text": [
      "root\n",
      " |-- id: integer (nullable = true)\n",
      " |-- equipo: string (nullable = true)\n",
      " |-- sigla: string (nullable = true)\n",
      "\n"
     ]
    }
   ],
   "source": [
    "paisesDF.printSchema()"
   ]
  },
  {
   "cell_type": "code",
   "execution_count": 33,
   "id": "37c75880-a6ea-4df6-a748-c1b61a38a8ec",
   "metadata": {},
   "outputs": [
    {
     "name": "stdout",
     "output_type": "stream",
     "text": [
      "root\n",
      " |-- juego_id: integer (nullable = true)\n",
      " |-- anio: string (nullable = true)\n",
      " |-- temporada: string (nullable = true)\n",
      " |-- ciudad: string (nullable = true)\n",
      "\n"
     ]
    }
   ],
   "source": [
    "JuegosDF.printSchema()"
   ]
  },
  {
   "cell_type": "code",
   "execution_count": 34,
   "id": "dc93f0c7-5f16-4ddc-a01a-576f7e088474",
   "metadata": {},
   "outputs": [
    {
     "name": "stdout",
     "output_type": "stream",
     "text": [
      "+----------+--------------------+\n",
      "|deporte_id|             deporte|\n",
      "+----------+--------------------+\n",
      "|         1|          Basketball|\n",
      "|         2|                Judo|\n",
      "|         3|            Football|\n",
      "|         4|          Tug-Of-War|\n",
      "|         5|       Speed Skating|\n",
      "|         6|Cross Country Skiing|\n",
      "|         7|           Athletics|\n",
      "|         8|          Ice Hockey|\n",
      "|         9|            Swimming|\n",
      "|        10|           Badminton|\n",
      "|        11|             Sailing|\n",
      "|        12|            Biathlon|\n",
      "|        13|          Gymnastics|\n",
      "|        14|    Art Competitions|\n",
      "|        15|       Alpine Skiing|\n",
      "|        16|            Handball|\n",
      "|        17|       Weightlifting|\n",
      "|        18|           Wrestling|\n",
      "|        19|                Luge|\n",
      "|        20|          Water Polo|\n",
      "+----------+--------------------+\n",
      "only showing top 20 rows\n",
      "\n"
     ]
    }
   ],
   "source": [
    "deporteDF.show()"
   ]
  },
  {
   "cell_type": "markdown",
   "id": "13439040-e0f3-4962-a363-1ac0d1b1439a",
   "metadata": {
    "tags": []
   },
   "source": [
    "## Joins exercises"
   ]
  },
  {
   "cell_type": "code",
   "execution_count": 35,
   "id": "8b65d4f2-5697-430e-bf80-b8941d3129ee",
   "metadata": {},
   "outputs": [],
   "source": [
    "depor_2 = athlete_df.join(resultadoDF, athlete_df.deportista_id == resultadoDF.deportista_id, \"left\").join(JuegosDF, JuegosDF.juego_id == resultadoDF.juego_id, \"left\")\\\n",
    "                  .join(deporteDF, deporteDF.deporte_id == resultadoDF.evento_id,\"left\").select(\"nombre\",F.col(\"edad_al_jugar\").alias(\"Edad_al_jugar\"),\n",
    "                                                                              \"medalla\",F.col(\"anio\").alias(\"año_de_juego\"),\n",
    "                                                                              deporteDF.deporte.alias(\"Nombre_disciplina\"))"
   ]
  },
  {
   "cell_type": "code",
   "execution_count": 36,
   "id": "4495a44b-94f4-4e66-b095-c17616d79630",
   "metadata": {},
   "outputs": [
    {
     "name": "stderr",
     "output_type": "stream",
     "text": [
      "21/12/20 22:51:46 WARN CSVHeaderChecker: CSV header does not conform to the schema.\n",
      " Header: , nombre_juego\n",
      " Schema: juego_id, anio\n",
      "Expected: juego_id but found: \n",
      "CSV file: file:///src/Ficheros%20de%20trabajo/juegos.csv\n"
     ]
    },
    {
     "name": "stdout",
     "output_type": "stream",
     "text": [
      "+--------------------+-------------+-------+-------------+--------------------+\n",
      "|              nombre|Edad_al_jugar|medalla| año_de_juego|   Nombre_disciplina|\n",
      "+--------------------+-------------+-------+-------------+--------------------+\n",
      "|           A Dijiang|           24|     NA|  1992 Verano|          Basketball|\n",
      "|            A Lamusi|           23|     NA|  2012 Verano|                Judo|\n",
      "| Gunnar Nielsen Aaby|           24|     NA|  1920 Verano|            Football|\n",
      "|Edgar Lindenau Aabye|           34|   Gold|  1900 Verano|          Tug-Of-War|\n",
      "|Christine Jacoba ...|           21|     NA|1994 Invierno|Cross Country Skiing|\n",
      "|Christine Jacoba ...|           21|     NA|1994 Invierno|       Speed Skating|\n",
      "|Christine Jacoba ...|           21|     NA|1992 Invierno|Cross Country Skiing|\n",
      "|Christine Jacoba ...|           21|     NA|1992 Invierno|       Speed Skating|\n",
      "|Christine Jacoba ...|           21|     NA|1988 Invierno|Cross Country Skiing|\n",
      "|Christine Jacoba ...|           21|     NA|1988 Invierno|       Speed Skating|\n",
      "|     Per Knut Aaland|           31|     NA|1994 Invierno|           Badminton|\n",
      "|     Per Knut Aaland|           31|     NA|1994 Invierno|            Swimming|\n",
      "|     Per Knut Aaland|           31|     NA|1994 Invierno|             Sailing|\n",
      "|     Per Knut Aaland|           31|     NA|1994 Invierno|           Athletics|\n",
      "|     Per Knut Aaland|           31|     NA|1992 Invierno|           Badminton|\n",
      "|     Per Knut Aaland|           31|     NA|1992 Invierno|            Swimming|\n",
      "|     Per Knut Aaland|           31|     NA|1992 Invierno|          Ice Hockey|\n",
      "|     Per Knut Aaland|           31|     NA|1992 Invierno|           Athletics|\n",
      "|        John Aalberg|           31|     NA|1994 Invierno|           Badminton|\n",
      "|        John Aalberg|           31|     NA|1994 Invierno|            Swimming|\n",
      "+--------------------+-------------+-------+-------------+--------------------+\n",
      "only showing top 20 rows\n",
      "\n"
     ]
    }
   ],
   "source": [
    "depor_2.show()"
   ]
  },
  {
   "cell_type": "code",
   "execution_count": 37,
   "id": "3c9edb8d-6944-44d6-a9a3-50f7643b1356",
   "metadata": {},
   "outputs": [],
   "source": [
    "medal_organized =resultadoDF.filter(resultadoDF.medalla != \"NA\")\\\n",
    ".join(athlete_df,athlete_df.deportista_id == resultadoDF.deportista_id, \"left\").join(paisesDF, paisesDF.id == athlete_df.equipo_id, \"left\").select(\"medalla\", \"equipo\", \"sigla\")"
   ]
  },
  {
   "cell_type": "code",
   "execution_count": 38,
   "id": "0b5832e3-299f-420c-9140-0dd76a111d83",
   "metadata": {},
   "outputs": [
    {
     "name": "stderr",
     "output_type": "stream",
     "text": [
      "                                                                                \r"
     ]
    },
    {
     "name": "stdout",
     "output_type": "stream",
     "text": [
      "+-------+----------+-----+\n",
      "|medalla|    equipo|sigla|\n",
      "+-------+----------+-----+\n",
      "|   Gold|  Zimbabwe|  ZIM|\n",
      "|   Gold|  Zimbabwe|  ZIM|\n",
      "| Silver|  Zimbabwe|  ZIM|\n",
      "|   Gold|  Zimbabwe|  ZIM|\n",
      "|   Gold|  Zimbabwe|  ZIM|\n",
      "| Silver|  Zimbabwe|  ZIM|\n",
      "| Silver|  Zimbabwe|  ZIM|\n",
      "|   Gold|  Zimbabwe|  ZIM|\n",
      "|   Gold|  Zimbabwe|  ZIM|\n",
      "|   Gold|  Zimbabwe|  ZIM|\n",
      "|   Gold|  Zimbabwe|  ZIM|\n",
      "| Bronze|  Zimbabwe|  ZIM|\n",
      "|   Gold|  Zimbabwe|  ZIM|\n",
      "| Silver|  Zimbabwe|  ZIM|\n",
      "|   Gold|  Zimbabwe|  ZIM|\n",
      "| Silver|Yugoslavia|  YUG|\n",
      "| Bronze|Yugoslavia|  YUG|\n",
      "| Silver|Yugoslavia|  YUG|\n",
      "| Silver|Yugoslavia|  YUG|\n",
      "| Bronze|Yugoslavia|  YUG|\n",
      "+-------+----------+-----+\n",
      "only showing top 20 rows\n",
      "\n"
     ]
    }
   ],
   "source": [
    "medal_organized.sort(F.col(\"sigla\").desc()).show()"
   ]
  },
  {
   "cell_type": "code",
   "execution_count": 39,
   "id": "4289448e-a636-44f3-b370-cddd29b78353",
   "metadata": {},
   "outputs": [],
   "source": [
    "medallasxanio = athlete_df \\\n",
    "    .join(resultadoDF, athlete_df.deportista_id == resultadoDF.deportista_id, \"left\")\\\n",
    "    .join(JuegosDF, JuegosDF.juego_id == resultadoDF.juego_id,\"left\")\\\n",
    "    .join(paisesDF, athlete_df.equipo_id == paisesDF.id, \"left\") \\\n",
    "    .join(eventoDF, eventoDF.evento_id == resultadoDF.evento_id, \"left\") \\\n",
    "    .join(deporteDF, deporteDF.deporte_id == eventoDF.deporte_id,\"left\")\\\n",
    "    .select(\"sigla\", \"anio\",\"medalla\", eventoDF.evento.alias(\"nombre Subdiciplina\"),\n",
    "            deporteDF.deporte.alias(\"nombre disciplica\"),\n",
    "            athlete_df.nombre,)"
   ]
  },
  {
   "cell_type": "code",
   "execution_count": 40,
   "id": "aaa68ecc-7eab-4664-8355-5c1b2b791e19",
   "metadata": {},
   "outputs": [
    {
     "name": "stderr",
     "output_type": "stream",
     "text": [
      "21/12/20 22:51:50 WARN CSVHeaderChecker: CSV header does not conform to the schema.\n",
      " Header: , nombre_juego\n",
      " Schema: juego_id, anio\n",
      "Expected: juego_id but found: \n",
      "CSV file: file:///src/Ficheros%20de%20trabajo/juegos.csv\n"
     ]
    },
    {
     "name": "stdout",
     "output_type": "stream",
     "text": [
      "+-----+-------------+-------+--------------------+-----------------+--------------------+\n",
      "|sigla|         anio|medalla| nombre Subdiciplina|nombre disciplica|              nombre|\n",
      "+-----+-------------+-------+--------------------+-----------------+--------------------+\n",
      "|  GBR|  1908 Verano|   Gold|                null|             null|John Charles Fiel...|\n",
      "|  GBR|  1900 Verano| Silver|                null|             null|John Selwin Calve...|\n",
      "|  GBR|  1908 Verano|     NA|                null|             null|John Marshall Gorham|\n",
      "|  FRA|  1900 Verano|     NA|                null|             null|Marie Calixte Ann...|\n",
      "|  GBR|  1908 Verano|     NA|                null|             null|Sophia Hope Gorha...|\n",
      "|  NOR|1992 Invierno|     NA|Alpine Skiing Men...|    Alpine Skiing|  Kjetil Andr Aamodt|\n",
      "|  PAK|2010 Invierno|     NA|Alpine Skiing Men...|    Alpine Skiing|      Muhammad Abbas|\n",
      "|  GEO|1998 Invierno|     NA|Alpine Skiing Men...|    Alpine Skiing|  Levan Abramishvili|\n",
      "|  NOR|1992 Invierno|   Gold|Alpine Skiing Men...|    Alpine Skiing|  Kjetil Andr Aamodt|\n",
      "|  NOR|2006 Invierno|   Gold|Alpine Skiing Men...|    Alpine Skiing|  Kjetil Andr Aamodt|\n",
      "|  IRI|2014 Invierno|     NA|Alpine Skiing Wom...|    Alpine Skiing|      Forough Abbasi|\n",
      "|  NOR|2002 Invierno|     NA|Alpine Skiing Men...|    Alpine Skiing|  Kjetil Andr Aamodt|\n",
      "|  NOR|2002 Invierno|   Gold|Alpine Skiing Men...|    Alpine Skiing|  Kjetil Andr Aamodt|\n",
      "|  SUI|1952 Invierno|     NA|Alpine Skiing Wom...|    Alpine Skiing|   Edme Abetel Barr |\n",
      "|  LAT|1998 Invierno|     NA|Alpine Skiing Wom...|    Alpine Skiing|           Ilze bola|\n",
      "|  NOR|2006 Invierno|     NA|Alpine Skiing Men...|    Alpine Skiing|  Kjetil Andr Aamodt|\n",
      "|  NOR|2002 Invierno|     NA|Alpine Skiing Men...|    Alpine Skiing|  Kjetil Andr Aamodt|\n",
      "|  GEO|2006 Invierno|     NA|Alpine Skiing Men...|    Alpine Skiing|  Iason Abramashvili|\n",
      "|  NOR|1998 Invierno|     NA|Alpine Skiing Men...|    Alpine Skiing|  Kjetil Andr Aamodt|\n",
      "|  NOR|1998 Invierno|     NA|Alpine Skiing Men...|    Alpine Skiing|  Kjetil Andr Aamodt|\n",
      "+-----+-------------+-------+--------------------+-----------------+--------------------+\n",
      "only showing top 20 rows\n",
      "\n"
     ]
    }
   ],
   "source": [
    "medallasxanio.sort(F.col(\"nombre disciplica\").asc()).show()"
   ]
  },
  {
   "cell_type": "code",
   "execution_count": 41,
   "id": "cb4fecb4-909b-4cca-afd1-b85a29b38c41",
   "metadata": {},
   "outputs": [],
   "source": [
    " medallista_anio_filtered =medallasxanio.filter(medallasxanio.medalla != \"NA\")\\\n",
    "    .sort(\"anio\")\\\n",
    "    .groupBy(\"sigla\",\"anio\",\"nombre Subdiciplina\") \\\n",
    "    .count()"
   ]
  },
  {
   "cell_type": "code",
   "execution_count": 42,
   "id": "b78c31f3-e6c2-4127-b10b-ad2e8e9f6898",
   "metadata": {},
   "outputs": [
    {
     "name": "stdout",
     "output_type": "stream",
     "text": [
      "root\n",
      " |-- sigla: string (nullable = true)\n",
      " |-- anio: string (nullable = true)\n",
      " |-- nombre Subdiciplina: string (nullable = true)\n",
      " |-- count: long (nullable = false)\n",
      "\n"
     ]
    }
   ],
   "source": [
    "medallista_anio_filtered.printSchema()"
   ]
  },
  {
   "cell_type": "code",
   "execution_count": 43,
   "id": "789f4b43-3af1-437d-97b8-b8a73a03177d",
   "metadata": {},
   "outputs": [
    {
     "name": "stderr",
     "output_type": "stream",
     "text": [
      "21/12/20 22:51:50 WARN CSVHeaderChecker: CSV header does not conform to the schema.\n",
      " Header: , nombre_juego\n",
      " Schema: juego_id, anio\n",
      "Expected: juego_id but found: \n",
      "CSV file: file:///src/Ficheros%20de%20trabajo/juegos.csv\n",
      "[Stage 38:>                                                         (0 + 1) / 1]\r"
     ]
    },
    {
     "name": "stdout",
     "output_type": "stream",
     "text": [
      "+-----+-----------+-----------------+------------------+\n",
      "|sigla|       anio|Total de medallas| Medallas promedio|\n",
      "+-----+-----------+-----------------+------------------+\n",
      "|  AHO|1988 Verano|                1|               1.0|\n",
      "|  ALB|2016 Verano|                1|               1.0|\n",
      "|  ALG|1992 Verano|                1|               1.0|\n",
      "|  ALG|2000 Verano|                2|               1.0|\n",
      "|  ALG|2008 Verano|                2|               1.0|\n",
      "|  ALG|1996 Verano|                1|               1.0|\n",
      "|  ANZ|1912 Verano|                6|               1.5|\n",
      "|  ANZ|1920 Verano|                3|               1.0|\n",
      "|  ANZ|1924 Verano|                2|               1.0|\n",
      "|  ANZ|1908 Verano|               10|               2.0|\n",
      "|  ARG|2004 Verano|               27|               5.4|\n",
      "|  ARG|1988 Verano|                7|               7.0|\n",
      "|  ARG|1992 Verano|                1|               1.0|\n",
      "|  ARG|1936 Verano|                7|              1.75|\n",
      "|  ARG|1996 Verano|               11|3.6666666666666665|\n",
      "|  ARG|2008 Verano|               27|               5.4|\n",
      "|  ARG|1924 Verano|                3|               1.0|\n",
      "|  ARG|1928 Verano|               14|               3.5|\n",
      "|  ARG|2012 Verano|                9|              2.25|\n",
      "|  ARG|1972 Verano|                1|               1.0|\n",
      "+-----+-----------+-----------------+------------------+\n",
      "only showing top 20 rows\n",
      "\n"
     ]
    },
    {
     "name": "stderr",
     "output_type": "stream",
     "text": [
      "                                                                                \r"
     ]
    }
   ],
   "source": [
    "medallista_anio_filtered.groupBy(\"sigla\",\"anio\").agg(F.sum(\"count\").alias(\"Total de medallas\"),F.avg(\"count\").alias(\"Medallas promedio\")).sort(F.col(\"sigla\").asc()).show()"
   ]
  },
  {
   "cell_type": "code",
   "execution_count": 44,
   "id": "6c1922af-a28e-48de-9dac-1845de14bc71",
   "metadata": {},
   "outputs": [
    {
     "name": "stdout",
     "output_type": "stream",
     "text": [
      "deportista_id,nombre,genero,edad,altura,peso,equipo_id\n",
      "1,A Dijiang,1,24,180,80,199\n",
      "2,A Lamusi,1,23,170,60,199\n",
      "3,Gunnar Nielsen Aaby,1,24,,,273\n",
      "4,Edgar Lindenau Aabye,1,34,,,278\n"
     ]
    }
   ],
   "source": [
    "!head -n 5 deportistaError.csv"
   ]
  },
  {
   "cell_type": "code",
   "execution_count": 121,
   "id": "1c0f7837-1ea2-4cda-bd8f-48f9f327d325",
   "metadata": {},
   "outputs": [],
   "source": [
    "deportista_malo_RDD = spark.textFile(\"deportistaError.csv\").map(lambda x: x.split(\",\"))"
   ]
  },
  {
   "cell_type": "code",
   "execution_count": 122,
   "id": "a9663e0a-4ea3-4e05-bed6-6981d7f934e2",
   "metadata": {},
   "outputs": [],
   "source": [
    "def elimina_encabezado(indice, iterador):\n",
    "    return iter(list(iterador)[1:])"
   ]
  },
  {
   "cell_type": "code",
   "execution_count": 123,
   "id": "8c8fd4b3-2bff-466a-abd2-99446461f048",
   "metadata": {},
   "outputs": [],
   "source": [
    "deportista_malo_RDD = deportista_malo_RDD.mapPartitionsWithIndex(elimina_encabezado)"
   ]
  },
  {
   "cell_type": "code",
   "execution_count": 124,
   "id": "496ee376-b868-4f7b-8162-e2e13946d42c",
   "metadata": {},
   "outputs": [
    {
     "data": {
      "text/plain": [
       "[['1', 'A Dijiang', '1', '24', '180', '80', '199'],\n",
       " ['2', 'A Lamusi', '1', '23', '170', '60', '199'],\n",
       " ['3', 'Gunnar Nielsen Aaby', '1', '24', '', '', '273'],\n",
       " ['4', 'Edgar Lindenau Aabye', '1', '34', '', '', '278'],\n",
       " ['5', 'Christine Jacoba Aaftink', '2', '21', '185', '82', '705'],\n",
       " ['6', 'Per Knut Aaland', '1', '31', '188', '75', '1096'],\n",
       " ['7', 'John Aalberg', '1', '31', '183', '72', '1096'],\n",
       " ['8', '\"Cornelia \"\"Cor\"\" Aalten (-Strannood)\"', '2', '18', '168', '', '705'],\n",
       " ['9', 'Antti Sami Aalto', '1', '26', '186', '96', '350'],\n",
       " ['10', '\"Einar Ferdinand \"\"Einari\"\" Aalto\"', '1', '26', '', '', '350']]"
      ]
     },
     "execution_count": 124,
     "metadata": {},
     "output_type": "execute_result"
    }
   ],
   "source": [
    "deportista_malo_RDD.take(10)"
   ]
  },
  {
   "cell_type": "code",
   "execution_count": 125,
   "id": "974d10d9-0476-497d-8e03-714bd9b9ce6c",
   "metadata": {},
   "outputs": [],
   "source": [
    "deportista_malo_RDD = deportista_malo_RDD.map(lambda l:(\n",
    "                        l[0],\n",
    "                        l[1],\n",
    "                        l[2],\n",
    "                        l[3],\n",
    "                        l[4],\n",
    "                        l[5],\n",
    "                        l[6]))\n",
    "\n",
    "deportista_malo_schema = StructType([\n",
    "    StructField(\"deportista_id\", StringType(), False),\n",
    "    StructField(\"nombre\",StringType(), False),\n",
    "    StructField(\"genero\", StringType(), False),\n",
    "    StructField(\"edad\", StringType(), False),\n",
    "    StructField(\"altura\", StringType(), False),\n",
    "    StructField(\"peso\", StringType(), False),\n",
    "    StructField(\"equipo_id\", StringType(), False),\n",
    "])\n",
    "deportista_error_DF = SQLCont.createDataFrame(deportista_malo_RDD, deportista_malo_schema)  "
   ]
  },
  {
   "cell_type": "code",
   "execution_count": 126,
   "id": "49d8e325-0efc-40b8-892d-1d173adea904",
   "metadata": {},
   "outputs": [
    {
     "name": "stdout",
     "output_type": "stream",
     "text": [
      "+-------------+--------------------+------+----+------+----+---------+\n",
      "|deportista_id|              nombre|genero|edad|altura|peso|equipo_id|\n",
      "+-------------+--------------------+------+----+------+----+---------+\n",
      "|            1|           A Dijiang|     1|  24|   180|  80|      199|\n",
      "|            2|            A Lamusi|     1|  23|   170|  60|      199|\n",
      "|            3| Gunnar Nielsen Aaby|     1|  24|      |    |      273|\n",
      "|            4|Edgar Lindenau Aabye|     1|  34|      |    |      278|\n",
      "|            5|Christine Jacoba ...|     2|  21|   185|  82|      705|\n",
      "|            6|     Per Knut Aaland|     1|  31|   188|  75|     1096|\n",
      "|            7|        John Aalberg|     1|  31|   183|  72|     1096|\n",
      "|            8|\"Cornelia \"\"Cor\"\"...|     2|  18|   168|    |      705|\n",
      "|            9|    Antti Sami Aalto|     1|  26|   186|  96|      350|\n",
      "|           10|\"Einar Ferdinand ...|     1|  26|      |    |      350|\n",
      "|           11|  Jorma Ilmari Aalto|     1|  22|   182|76.5|      350|\n",
      "|           12|   Jyri Tapani Aalto|     1|  31|   172|  70|      350|\n",
      "|           13|  Minna Maarit Aalto|     2|  30|   159|55.5|      350|\n",
      "|           14|Pirjo Hannele Aal...|     2|  32|   171|  65|      350|\n",
      "|           15|Arvo Ossian Aaltonen|     1|  22|      |    |      350|\n",
      "|           16|Juhamatti Tapio A...|     1|  28|   184|  85|      350|\n",
      "|           17|Paavo Johannes Aa...|     1|  28|   175|  64|      350|\n",
      "|           18|Timo Antero Aaltonen|     1|  31|   189| 130|      350|\n",
      "|           19|Win Valdemar Aalt...|     1|  54|      |    |      350|\n",
      "|           20|  Kjetil Andr Aamodt|     1|  20|   176|  85|      742|\n",
      "+-------------+--------------------+------+----+------+----+---------+\n",
      "only showing top 20 rows\n",
      "\n"
     ]
    }
   ],
   "source": [
    "deportista_error_DF.show()"
   ]
  },
  {
   "cell_type": "code",
   "execution_count": 127,
   "id": "6243f9c6-f05b-4160-a0c9-c86643fd0150",
   "metadata": {},
   "outputs": [],
   "source": [
    "#creación de la Udf\n",
    "\n",
    "def conversion_enteros(valor):\n",
    "    return int(valor) if len(valor) > 0 else None\n"
   ]
  },
  {
   "cell_type": "code",
   "execution_count": 128,
   "id": "ab66a1e8-068f-4168-bfaa-0a4ca6164f56",
   "metadata": {},
   "outputs": [
    {
     "name": "stderr",
     "output_type": "stream",
     "text": [
      "21/12/20 23:53:38 WARN SimpleFunctionRegistry: The function conversion_enteros_udf replaced a previously registered function.\n"
     ]
    },
    {
     "data": {
      "text/plain": [
       "<function __main__.<lambda>(z)>"
      ]
     },
     "execution_count": 128,
     "metadata": {},
     "output_type": "execute_result"
    }
   ],
   "source": [
    "conversion_enteros_udf = F.udf(lambda z: conversion_enteros(z),IntegerType())\n",
    "SQLCont.udf.register(\"conversion_enteros_udf\", conversion_enteros_udf)"
   ]
  },
  {
   "cell_type": "code",
   "execution_count": 133,
   "id": "82a819ec-bb25-4e61-9fa4-d67a96c371cc",
   "metadata": {},
   "outputs": [
    {
     "name": "stdout",
     "output_type": "stream",
     "text": [
      "+---------+\n",
      "|alturaUDf|\n",
      "+---------+\n",
      "|      180|\n",
      "|      170|\n",
      "|     null|\n",
      "|     null|\n",
      "|      185|\n",
      "|      188|\n",
      "|      183|\n",
      "|      168|\n",
      "|      186|\n",
      "|     null|\n",
      "+---------+\n",
      "only showing top 10 rows\n",
      "\n"
     ]
    },
    {
     "name": "stderr",
     "output_type": "stream",
     "text": [
      "Traceback (most recent call last):\n",
      "  File \"/usr/local/lib/python3.8/dist-packages/pyspark/python/lib/pyspark.zip/pyspark/daemon.py\", line 186, in manager\n",
      "  File \"/usr/local/lib/python3.8/dist-packages/pyspark/python/lib/pyspark.zip/pyspark/daemon.py\", line 74, in worker\n",
      "  File \"/usr/local/lib/python3.8/dist-packages/pyspark/python/lib/pyspark.zip/pyspark/worker.py\", line 663, in main\n",
      "    if read_int(infile) == SpecialLengths.END_OF_STREAM:\n",
      "  File \"/usr/local/lib/python3.8/dist-packages/pyspark/python/lib/pyspark.zip/pyspark/serializers.py\", line 564, in read_int\n",
      "    raise EOFError\n",
      "EOFError\n"
     ]
    }
   ],
   "source": [
    "deportista_error_DF.select(conversion_enteros_udf(\"altura\").alias(\"alturaUDf\")).show(10)"
   ]
  },
  {
   "cell_type": "markdown",
   "id": "6fc51a8c-b812-4878-a6c6-6f4028f037f1",
   "metadata": {
    "tags": []
   },
   "source": [
    "## persistencia y replicación"
   ]
  },
  {
   "cell_type": "code",
   "execution_count": 134,
   "id": "296b0501-b70a-4332-a242-ba715900e859",
   "metadata": {},
   "outputs": [],
   "source": [
    "from pyspark.storagelevel import StorageLevel"
   ]
  },
  {
   "cell_type": "code",
   "execution_count": 135,
   "id": "e8031cad-13ba-4cda-adc5-e2d1f6c935a9",
   "metadata": {},
   "outputs": [
    {
     "data": {
      "text/plain": [
       "False"
      ]
     },
     "execution_count": 135,
     "metadata": {},
     "output_type": "execute_result"
    }
   ],
   "source": [
    "medallista_anio_filtered.is_cached"
   ]
  },
  {
   "cell_type": "code",
   "execution_count": 136,
   "id": "b1ef85f4-277e-4acf-a1eb-c7aa660dd925",
   "metadata": {},
   "outputs": [
    {
     "data": {
      "text/plain": [
       "False"
      ]
     },
     "execution_count": 136,
     "metadata": {},
     "output_type": "execute_result"
    }
   ],
   "source": [
    "medallasxanio.is_cached"
   ]
  },
  {
   "cell_type": "code",
   "execution_count": 137,
   "id": "775aaa91-c7f0-4e69-9968-1dfb4eaa2754",
   "metadata": {},
   "outputs": [
    {
     "name": "stderr",
     "output_type": "stream",
     "text": [
      "21/12/21 00:06:53 WARN CSVHeaderChecker: CSV header does not conform to the schema.\n",
      " Header: , nombre_juego\n",
      " Schema: juego_id, anio\n",
      "Expected: juego_id but found: \n",
      "CSV file: file:///src/Ficheros%20de%20trabajo/juegos.csv\n"
     ]
    },
    {
     "data": {
      "text/plain": [
       "MapPartitionsRDD[323] at javaToPython at NativeMethodAccessorImpl.java:0"
      ]
     },
     "execution_count": 137,
     "metadata": {},
     "output_type": "execute_result"
    }
   ],
   "source": [
    "medallasxanio.rdd.cache()"
   ]
  },
  {
   "cell_type": "code",
   "execution_count": 141,
   "id": "346ec8c2-e960-4651-af3b-2691c2d32f42",
   "metadata": {},
   "outputs": [
    {
     "data": {
      "text/plain": [
       "StorageLevel(False, True, False, False, 1)"
      ]
     },
     "execution_count": 141,
     "metadata": {},
     "output_type": "execute_result"
    }
   ],
   "source": [
    "medallasxanio.rdd.getStorageLevel()"
   ]
  },
  {
   "cell_type": "code",
   "execution_count": 144,
   "id": "311472f7-8ce1-43e6-b477-41cda3ea0650",
   "metadata": {},
   "outputs": [
    {
     "data": {
      "text/plain": [
       "MapPartitionsRDD[323] at javaToPython at NativeMethodAccessorImpl.java:0"
      ]
     },
     "execution_count": 144,
     "metadata": {},
     "output_type": "execute_result"
    }
   ],
   "source": [
    "medallasxanio.rdd.unpersist()"
   ]
  },
  {
   "cell_type": "code",
   "execution_count": 145,
   "id": "3bc672e6-5be6-479b-aa92-79654d54ca39",
   "metadata": {},
   "outputs": [
    {
     "data": {
      "text/plain": [
       "MapPartitionsRDD[323] at javaToPython at NativeMethodAccessorImpl.java:0"
      ]
     },
     "execution_count": 145,
     "metadata": {},
     "output_type": "execute_result"
    }
   ],
   "source": [
    "medallasxanio.rdd.persist(StorageLevel.MEMORY_AND_DISK_2)"
   ]
  },
  {
   "cell_type": "code",
   "execution_count": 146,
   "id": "da1f68db-1697-43ea-979b-174e9e06baa8",
   "metadata": {},
   "outputs": [
    {
     "data": {
      "text/plain": [
       "StorageLevel(True, True, False, False, 2)"
      ]
     },
     "execution_count": 146,
     "metadata": {},
     "output_type": "execute_result"
    }
   ],
   "source": [
    "medallasxanio.rdd.getStorageLevel()"
   ]
  },
  {
   "cell_type": "code",
   "execution_count": 151,
   "id": "c432f446-3e49-4857-9875-93447e231c01",
   "metadata": {},
   "outputs": [],
   "source": [
    "#creando nuestra propia persistencia\n",
    "StorageLevel.MEMORY_AND_DISK_3 = StorageLevel(True, True, False, False, 3)"
   ]
  },
  {
   "cell_type": "code",
   "execution_count": 148,
   "id": "7d3dd968-d0b7-4e58-811e-f023301ee806",
   "metadata": {},
   "outputs": [
    {
     "data": {
      "text/plain": [
       "MapPartitionsRDD[323] at javaToPython at NativeMethodAccessorImpl.java:0"
      ]
     },
     "execution_count": 148,
     "metadata": {},
     "output_type": "execute_result"
    }
   ],
   "source": [
    "medallasxanio.rdd.unpersist()"
   ]
  },
  {
   "cell_type": "code",
   "execution_count": 149,
   "id": "f99673e4-80c1-49a3-b534-502f4134022b",
   "metadata": {},
   "outputs": [
    {
     "data": {
      "text/plain": [
       "MapPartitionsRDD[323] at javaToPython at NativeMethodAccessorImpl.java:0"
      ]
     },
     "execution_count": 149,
     "metadata": {},
     "output_type": "execute_result"
    }
   ],
   "source": [
    "medallasxanio.rdd.persist(StorageLevel.MEMORY_AND_DISK_3)"
   ]
  },
  {
   "cell_type": "code",
   "execution_count": 150,
   "id": "7de825c0-24ca-431d-8f67-62ef7938fbd0",
   "metadata": {},
   "outputs": [
    {
     "data": {
      "text/plain": [
       "StorageLevel(True, True, False, False, 3)"
      ]
     },
     "execution_count": 150,
     "metadata": {},
     "output_type": "execute_result"
    }
   ],
   "source": [
    "medallasxanio.rdd.getStorageLevel()"
   ]
  }
 ],
 "metadata": {
  "kernelspec": {
   "display_name": "Python 3 (ipykernel)",
   "language": "python",
   "name": "python3"
  },
  "language_info": {
   "codemirror_mode": {
    "name": "ipython",
    "version": 3
   },
   "file_extension": ".py",
   "mimetype": "text/x-python",
   "name": "python",
   "nbconvert_exporter": "python",
   "pygments_lexer": "ipython3",
   "version": "3.8.10"
  }
 },
 "nbformat": 4,
 "nbformat_minor": 5
}
